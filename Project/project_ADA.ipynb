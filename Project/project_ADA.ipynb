{
 "cells": [
  {
   "cell_type": "markdown",
   "metadata": {},
   "source": [
    "# APPLIED DATA ANALYSIS PROJECT"
   ]
  },
  {
   "cell_type": "code",
   "execution_count": 4,
   "metadata": {
    "collapsed": true
   },
   "outputs": [],
   "source": [
    "import requests\n",
    "from bs4 import BeautifulSoup"
   ]
  },
  {
   "cell_type": "code",
   "execution_count": 161,
   "metadata": {},
   "outputs": [],
   "source": [
    "URL_QS = 'https://en.wikipedia.org/wiki/List_of_former_European_colonies'\n",
    "r = requests.get(URL_QS)\n",
    "soup = BeautifulSoup(r.text, 'lxml')"
   ]
  },
  {
   "cell_type": "code",
   "execution_count": 47,
   "metadata": {},
   "outputs": [
    {
     "data": {
      "text/plain": [
       "['Denmark',\n",
       " 'France',\n",
       " 'Netherlands',\n",
       " 'Norway',\n",
       " 'Portugal',\n",
       " 'Russia',\n",
       " 'Spain',\n",
       " 'Sweden',\n",
       " 'Brandenburg',\n",
       " 'Britain',\n",
       " 'Courland',\n",
       " 'Denmark-Norway',\n",
       " 'Knights of Malta',\n",
       " 'Belgium',\n",
       " 'Germany',\n",
       " 'Italy',\n",
       " 'Austria',\n",
       " 'United Kingdom',\n",
       " 'Germany',\n",
       " 'Greece']"
      ]
     },
     "execution_count": 47,
     "metadata": {},
     "output_type": "execute_result"
    }
   ],
   "source": [
    "colonizer_countries = []\n",
    "\n",
    "# To find the name of all colonizer country of Europe, we take care about 2 things :\n",
    "#  - If there is more than 2 spaces in the text -> isn't a country\n",
    "#  - If there is less than 2 letters in the text -> isn't a country\n",
    "\n",
    "for country in soup.findAll('p'):\n",
    "\n",
    "    nb_space = sum(c.isspace() for c in country.text)\n",
    "    \n",
    "    if country.text not in colonizer_countries and nb_space < 3 and len(country.text) > 2:\n",
    "        colonizer_countries.append(country.text)\n",
    "\n",
    "# Clean of the list\n",
    "colonizer_countries = [country.replace('\\n', '') for country in colonizer_countries]\n",
    "\n",
    "colonizer_countries"
   ]
  },
  {
   "cell_type": "code",
   "execution_count": 210,
   "metadata": {},
   "outputs": [
    {
     "data": {
      "text/plain": [
       "['North America',\n",
       " 'West Indies and the Caribbean',\n",
       " 'South America',\n",
       " 'Africa',\n",
       " 'Indian Ocean',\n",
       " 'Middle East',\n",
       " 'Indian Subcontinent',\n",
       " 'Asia-Pacific',\n",
       " 'Europe']"
      ]
     },
     "execution_count": 210,
     "metadata": {},
     "output_type": "execute_result"
    }
   ],
   "source": [
    "regions = []\n",
    "\n",
    "for region in soup.find(\"ul\").findAll('li'):\n",
    "    regions.append(region.text[2:])\n",
    "\n",
    "del regions[-1], regions[-1] \n",
    "\n",
    "regions"
   ]
  },
  {
   "cell_type": "code",
   "execution_count": null,
   "metadata": {
    "collapsed": true
   },
   "outputs": [],
   "source": []
  }
 ],
 "metadata": {
  "kernelspec": {
   "display_name": "Python 3",
   "language": "python",
   "name": "python3"
  },
  "language_info": {
   "codemirror_mode": {
    "name": "ipython",
    "version": 3
   },
   "file_extension": ".py",
   "mimetype": "text/x-python",
   "name": "python",
   "nbconvert_exporter": "python",
   "pygments_lexer": "ipython3",
   "version": "3.6.1"
  }
 },
 "nbformat": 4,
 "nbformat_minor": 2
}
