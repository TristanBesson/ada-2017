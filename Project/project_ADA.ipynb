{
 "cells": [
  {
   "cell_type": "markdown",
   "metadata": {},
   "source": [
    "# APPLIED DATA ANALYSIS PROJECT"
   ]
  },
  {
   "cell_type": "code",
   "execution_count": 1,
   "metadata": {
    "collapsed": true
   },
   "outputs": [],
   "source": [
    "import pandas as pd\n",
    "import requests\n",
    "import re\n",
    "\n",
    "from bs4 import BeautifulSoup"
   ]
  },
  {
   "cell_type": "code",
   "execution_count": 2,
   "metadata": {
    "collapsed": true
   },
   "outputs": [],
   "source": [
    "URL_QS = 'https://en.wikipedia.org/wiki/List_of_former_European_colonies'\n",
    "r = requests.get(URL_QS)\n",
    "soup = BeautifulSoup(r.text, 'lxml')"
   ]
  },
  {
   "cell_type": "code",
   "execution_count": 3,
   "metadata": {},
   "outputs": [
    {
     "data": {
      "text/plain": [
       "['Denmark',\n",
       " 'France',\n",
       " 'Netherlands',\n",
       " 'Norway',\n",
       " 'Portugal',\n",
       " 'Russia',\n",
       " 'Spain',\n",
       " 'Sweden',\n",
       " 'Brandenburg',\n",
       " 'Britain',\n",
       " 'Courland',\n",
       " 'Denmark-Norway',\n",
       " 'Knights of Malta',\n",
       " 'Belgium',\n",
       " 'Germany',\n",
       " 'Italy',\n",
       " 'Austria',\n",
       " 'United Kingdom',\n",
       " 'Germany',\n",
       " 'Greece']"
      ]
     },
     "execution_count": 3,
     "metadata": {},
     "output_type": "execute_result"
    }
   ],
   "source": [
    "colonizer_countries = []\n",
    "\n",
    "# To find the name of all colonizer country of Europe, we take care about 2 things :\n",
    "#  - If there is more than 2 spaces in the text -> isn't a country\n",
    "#  - If there is less than 2 letters in the text -> isn't a country\n",
    "\n",
    "for country in soup.findAll('p'):\n",
    "    nb_space = sum(c.isspace() for c in country.text)\n",
    "    \n",
    "    if country.text not in colonizer_countries and nb_space < 3 and len(country.text) > 2:\n",
    "        colonizer_countries.append(country.text)\n",
    "\n",
    "# List Cleaning\n",
    "colonizer_countries = [country.replace('\\n', '') for country in colonizer_countries]\n",
    "\n",
    "colonizer_countries"
   ]
  },
  {
   "cell_type": "code",
   "execution_count": 4,
   "metadata": {},
   "outputs": [
    {
     "data": {
      "text/plain": [
       "['North America',\n",
       " 'West Indies and the Caribbean',\n",
       " 'South America',\n",
       " 'Africa',\n",
       " 'Indian Ocean',\n",
       " 'Middle East',\n",
       " 'Indian Subcontinent',\n",
       " 'Asia-Pacific',\n",
       " 'Europe']"
      ]
     },
     "execution_count": 4,
     "metadata": {},
     "output_type": "execute_result"
    }
   ],
   "source": [
    "regions = []\n",
    "\n",
    "for region in soup.find(\"ul\").findAll('li'):\n",
    "    regions.append(region.text[2:])\n",
    "\n",
    "del regions[-1], regions[-1] \n",
    "\n",
    "regions"
   ]
  },
  {
   "cell_type": "code",
   "execution_count": 5,
   "metadata": {},
   "outputs": [],
   "source": [
    "def check_colonizer(infobox, colonizer):\n",
    "    \n",
    "    new_colonizer = \"\"\n",
    "\n",
    "    \n",
    "    independance = infobox[0].find_all(text = re.compile(\"Independence\"))\n",
    "    \n",
    "    if independance:\n",
    "\n",
    "        exclu = ['\\xa0', '\\n']\n",
    "        \n",
    "        if independance[0].next not in exclu:\n",
    "            if independance[0].next.a is None:\n",
    "                new_colonizer = independance[0].next.text\n",
    "            else:\n",
    "                new_colonizer = independance[0].next.a.text\n",
    "        elif independance[0].next.next not in exclu:\n",
    "            new_colonizer = independance[0].next.next.a.text\n",
    "        elif independance[0].next.next.next not in exclu:\n",
    "            if independance[0].next.next.next.a is not None :\n",
    "                new_colonizer = independance[0].next.next.next.a.text\n",
    "                    \n",
    "    if new_colonizer in colonizer_countries:\n",
    "        return new_colonizer\n",
    "    else:   \n",
    "        return colonizer"
   ]
  },
  {
   "cell_type": "code",
   "execution_count": 6,
   "metadata": {
    "scrolled": true
   },
   "outputs": [],
   "source": [
    "def check_country(df, colonized, colonizator, URL, nb_check):\n",
    "    \n",
    "    if nb_check > 2:\n",
    "        return\n",
    "    \n",
    "    print(colonized, \"...\", end = \" \")\n",
    "    \n",
    "    URL_QS = 'https://en.wikipedia.org' + URL\n",
    "    r = requests.get(URL_QS)\n",
    "    soup = BeautifulSoup(r.text, 'lxml')\n",
    "       \n",
    "    infobox = soup.find_all(\"table\", class_=\"infobox geography\")\n",
    "    if not infobox: infobox = soup.find_all(\"table\", class_=\"infobox geography vcard\")\n",
    "    if not infobox: infobox = soup.find_all(\"table\", class_=\"infobox geography vcard vevent\")\n",
    "    \n",
    "    # On vérifie si le pays existe toujours et si l'infobox existe\n",
    "    if not soup(text=re.compile('disestablished')) and not soup(text=re.compile('disestablishments')): \n",
    "        if infobox:\n",
    "            area = infobox[0].find_all(\"th\", text=\"Area\")\n",
    "\n",
    "            # On vérifie si un channel Area existe\n",
    "            if area:\n",
    "\n",
    "                # Cleaning du channel\n",
    "                size = area[0].parent.next_sibling.next_sibling.td.text.split(\"\\xa0\")[0]\n",
    "\n",
    "                if '[' in size: size = size.split(\"[\")[0]\n",
    "                if ',' in size: size = size.replace(\",\", \"\")\n",
    "                if '.' in size: size = size.split(\".\")[0]\n",
    "\n",
    "                # On vérifie la taille, si < 1'500 km : osef des îles/villes\n",
    "                # On vérifie aussi que le pays n'apparait pas déjà dans le datafram\n",
    "                if int(size) > 1500 and len(df[df['Colonized Country']==colonized]) < 1:\n",
    "\n",
    "                    colonizer = check_colonizer(infobox, colonizator)\n",
    "                    \n",
    "                    df.loc[len(df)+1] = [colonized, colonizer, URL]  \n",
    "                    print(\"added !\")\n",
    "\n",
    "                else:\n",
    "                    print(\"too small ! or doublon\")\n",
    "            else:\n",
    "                print(\"no area found !\")\n",
    "        else:\n",
    "            print(\"no infobox found !\")\n",
    "    else:\n",
    "        if infobox:\n",
    "            succeeded = infobox[0].find_all(\"b\", text=\"Succeeded by\")\n",
    "\n",
    "            # On vérifie qu'un autre pays a succedé à celui-ci\n",
    "            if succeeded: \n",
    "\n",
    "                succeeded = succeeded[0].parent.parent.next_sibling.next_sibling\n",
    "\n",
    "                country = succeeded.find_all(style=\"border:0; padding:0; vertical-align:middle; text-align:right;\")[0].text\n",
    "                URL = succeeded.find_all(style=\"border:0; padding:0; vertical-align:middle; text-align:right;\")[0].a['href']\n",
    "\n",
    "                print(\"more recent country found\")\n",
    "                check_country(df, country, colonizator, URL, nb_check + 1)\n",
    "            else:\n",
    "                print(\"nothing found !\")"
   ]
  },
  {
   "cell_type": "code",
   "execution_count": 11,
   "metadata": {
    "scrolled": false
   },
   "outputs": [
    {
     "name": "stdout",
     "output_type": "stream",
     "text": [
      "German East Africa ... more recent country found\n",
      "Tanganyika (territory) ... more recent country found\n",
      "Burundi ... added !\n",
      "Rwanda ... added !\n",
      "Tanzania ... added !\n",
      "Namibia ... added !\n",
      "Kamerun ... more recent country found\n",
      "Cameroons ... more recent country found\n",
      "Cameroon ... added !\n",
      "Nigeria ... added !\n",
      "Togoland ... more recent country found\n",
      "British Togoland ... more recent country found\n",
      "Togo ... added !\n",
      "Ghana ... added !\n",
      "Wituland ... no infobox found !\n"
     ]
    },
    {
     "data": {
      "text/html": [
       "<div>\n",
       "<style>\n",
       "    .dataframe thead tr:only-child th {\n",
       "        text-align: right;\n",
       "    }\n",
       "\n",
       "    .dataframe thead th {\n",
       "        text-align: left;\n",
       "    }\n",
       "\n",
       "    .dataframe tbody tr th {\n",
       "        vertical-align: top;\n",
       "    }\n",
       "</style>\n",
       "<table border=\"1\" class=\"dataframe\">\n",
       "  <thead>\n",
       "    <tr style=\"text-align: right;\">\n",
       "      <th></th>\n",
       "      <th>Colonized Country</th>\n",
       "      <th>Colonizator Country</th>\n",
       "      <th>URL</th>\n",
       "    </tr>\n",
       "  </thead>\n",
       "  <tbody>\n",
       "    <tr>\n",
       "      <th>1</th>\n",
       "      <td>Burundi</td>\n",
       "      <td>Belgium</td>\n",
       "      <td>/wiki/Burundi</td>\n",
       "    </tr>\n",
       "    <tr>\n",
       "      <th>2</th>\n",
       "      <td>Rwanda</td>\n",
       "      <td>Belgium</td>\n",
       "      <td>/wiki/Rwanda</td>\n",
       "    </tr>\n",
       "    <tr>\n",
       "      <th>3</th>\n",
       "      <td>Tanzania</td>\n",
       "      <td>United Kingdom</td>\n",
       "      <td>/wiki/Tanzania</td>\n",
       "    </tr>\n",
       "    <tr>\n",
       "      <th>4</th>\n",
       "      <td>Namibia</td>\n",
       "      <td>Germany</td>\n",
       "      <td>/wiki/Namibia</td>\n",
       "    </tr>\n",
       "    <tr>\n",
       "      <th>5</th>\n",
       "      <td>Cameroon</td>\n",
       "      <td>France</td>\n",
       "      <td>/wiki/Cameroon</td>\n",
       "    </tr>\n",
       "    <tr>\n",
       "      <th>6</th>\n",
       "      <td>Nigeria</td>\n",
       "      <td>United Kingdom</td>\n",
       "      <td>/wiki/Nigeria</td>\n",
       "    </tr>\n",
       "    <tr>\n",
       "      <th>7</th>\n",
       "      <td>Togo</td>\n",
       "      <td>France</td>\n",
       "      <td>/wiki/Togo</td>\n",
       "    </tr>\n",
       "    <tr>\n",
       "      <th>8</th>\n",
       "      <td>Ghana</td>\n",
       "      <td>United Kingdom</td>\n",
       "      <td>/wiki/Ghana</td>\n",
       "    </tr>\n",
       "  </tbody>\n",
       "</table>\n",
       "</div>"
      ],
      "text/plain": [
       "  Colonized Country Colonizator Country             URL\n",
       "1           Burundi             Belgium   /wiki/Burundi\n",
       "2            Rwanda             Belgium    /wiki/Rwanda\n",
       "3          Tanzania      United Kingdom  /wiki/Tanzania\n",
       "4           Namibia             Germany   /wiki/Namibia\n",
       "5          Cameroon              France  /wiki/Cameroon\n",
       "6           Nigeria      United Kingdom   /wiki/Nigeria\n",
       "7              Togo              France      /wiki/Togo\n",
       "8             Ghana      United Kingdom     /wiki/Ghana"
      ]
     },
     "execution_count": 11,
     "metadata": {},
     "output_type": "execute_result"
    }
   ],
   "source": [
    "URL_QS = 'https://en.wikipedia.org/wiki/List_of_former_European_colonies'\n",
    "r = requests.get(URL_QS)\n",
    "soup = BeautifulSoup(r.text, 'lxml')\n",
    "\n",
    "# Only check for the XXX for now\n",
    "colonizator = \"Germany\"\n",
    "\n",
    "# Trouve tout les emplacements où on fait mension de \"colonizator\"\n",
    "colonizator_index = soup.find_all(\"p\", text=colonizator) \n",
    "\n",
    "colonization_df = pd.DataFrame(columns=['Colonized Country', 'Colonizator Country', \"URL\"])\n",
    "\n",
    "for i in range (len(colonizator_index)):\n",
    "\n",
    "    a = colonizator_index[i].next_sibling.next_sibling('a')\n",
    "\n",
    "    for b in a:\n",
    "        if b.text not in regions and len(b.attrs) < 3:\n",
    "            #print()\n",
    "            check_country(colonization_df, b.text, colonizator, b['href'], 1)\n",
    "            \n",
    "            \n",
    "colonization_df\n"
   ]
  },
  {
   "cell_type": "code",
   "execution_count": 8,
   "metadata": {
    "collapsed": true
   },
   "outputs": [],
   "source": [
    "# TO DO\n",
    "# - Vhanjiang -> province de merde, faut pas qu'elle soit prise en compte\n",
    "# - Algérie toussa pas pris en compte\n",
    "\n",
    "\n",
    "# Fonctionne complètement pour : \n",
    "# - Allemagne"
   ]
  },
  {
   "cell_type": "code",
   "execution_count": 9,
   "metadata": {},
   "outputs": [
    {
     "name": "stdout",
     "output_type": "stream",
     "text": [
      "2\n",
      "Francea\n"
     ]
    }
   ],
   "source": [
    "# TEEEEEST\n",
    "\n",
    "URL_QS = 'https://en.wikipedia.org/wiki/Mali'\n",
    "r = requests.get(URL_QS)\n",
    "soup = BeautifulSoup(r.text, 'lxml')\n",
    "\n",
    "infobox = soup.find_all(\"table\", class_=\"infobox geography\")\n",
    "if not infobox: infobox = soup.find_all(\"table\", class_=\"infobox geography vcard\")\n",
    "if not infobox: infobox = soup.find_all(\"table\", class_=\"infobox geography vcard vevent\")\n",
    "\n",
    "\n",
    "independance = infobox[0].find_all(text = re.compile(\"Independence\"))\n",
    "\n",
    "exclu = ['\\xa0', '\\n']\n",
    "\n",
    "if independance[0].next not in exclu :\n",
    "    if independance[0].next.a is None :\n",
    "         print(independance[0].next.text)   \n",
    "    else:\n",
    "        print(independance[0].next.a.text)\n",
    "elif independance[0].next.next not in exclu :\n",
    "    print(\"1\") \n",
    "    print(independance[0].next.next.a.text)\n",
    "elif independance[0].next.next.next not in exclu :\n",
    "    print(\"2\") \n",
    "    if independance[0].next.next.next.a is not None :\n",
    "        print(independance[0].next.next.next.a.text)\n",
    "    else:\n",
    "        print(independance[0].next.next.next.text.split()[2])\n",
    "        \n"
   ]
  },
  {
   "cell_type": "code",
   "execution_count": null,
   "metadata": {
    "collapsed": true
   },
   "outputs": [],
   "source": []
  }
 ],
 "metadata": {
  "kernelspec": {
   "display_name": "Python 3",
   "language": "python",
   "name": "python3"
  },
  "language_info": {
   "codemirror_mode": {
    "name": "ipython",
    "version": 3
   },
   "file_extension": ".py",
   "mimetype": "text/x-python",
   "name": "python",
   "nbconvert_exporter": "python",
   "pygments_lexer": "ipython3",
   "version": "3.6.1"
  }
 },
 "nbformat": 4,
 "nbformat_minor": 2
}
