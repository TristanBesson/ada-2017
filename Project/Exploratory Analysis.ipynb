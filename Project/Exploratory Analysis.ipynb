{
 "cells": [
  {
   "cell_type": "markdown",
   "metadata": {},
   "source": [
    "# Milestone 2 - Exploratory Analysis\n",
    "\n",
    "This notebook regroups the different plots of the exploratory analysis of our dataset. "
   ]
  },
  {
   "cell_type": "code",
   "execution_count": null,
   "metadata": {
    "collapsed": true
   },
   "outputs": [],
   "source": [
    "import pandas as pd\n",
    "import requests\n",
    "import re\n",
    "import numpy as np\n",
    "import seaborn as sns\n",
    "import matplotlib.pyplot as plt"
   ]
  },
  {
   "cell_type": "markdown",
   "metadata": {},
   "source": [
    "## Colonizing countries\n",
    "\n",
    "We will first observe which countries were the biggest colonisers over the past centuries. The first common observation is that all of them are european countries."
   ]
  },
  {
   "cell_type": "code",
   "execution_count": null,
   "metadata": {
    "collapsed": false
   },
   "outputs": [],
   "source": [
    "colonies_df = pd.read_csv('datasets/colonies.csv')"
   ]
  },
  {
   "cell_type": "code",
   "execution_count": null,
   "metadata": {
    "collapsed": false,
    "scrolled": false
   },
   "outputs": [],
   "source": [
    "x = np.linspace(0,9,10)\n",
    "my_xticks = colonies_df['Colonizer Country'].value_counts().index\n",
    "y = colonies_df['Colonizer Country'].value_counts().values\n",
    "\n",
    "\n",
    "plt.figure(figsize=(20,10), dpi=60, facecolor='w', edgecolor='k')\n",
    "sns.set(style=\"whitegrid\")\n",
    "sns.barplot(x,y,palette=\"Reds_d\")\n",
    "plt.xticks(x, my_xticks)\n",
    "plt.ylabel('Number of colonies')\n",
    "plt.title('Most colonizing countries')\n",
    "plt.show()"
   ]
  },
  {
   "cell_type": "markdown",
   "metadata": {},
   "source": [
    "## Decolonisation over time and continent\n",
    "\n",
    "> Can't continue this part because of lack of dataset cleaning\n",
    "\n",
    "By looking at the deconolisation dates, we can observe when European Colonisers has lost their grasps on their colonies. (Happening by vague in continents? Communicating between continents? Map of the decolonisation date would be good to look at limitrophs countries)"
   ]
  },
  {
   "cell_type": "code",
   "execution_count": null,
   "metadata": {
    "collapsed": false
   },
   "outputs": [],
   "source": [
    "decolonisation_df = pd.read_csv('datasets/colonies_wikipedia.csv')\n",
    "decolonisation_df = decolonisation_df[decolonisation_df['Date'] != 'False']\n",
    "decolonisation_df.head()"
   ]
  },
  {
   "cell_type": "code",
   "execution_count": null,
   "metadata": {
    "collapsed": false
   },
   "outputs": [],
   "source": [
    "x = np.linspace(1776,2017,242)\n",
    "my_xticks = decolonisation_df['Date'].value_counts().index\n",
    "y = decolonisation_df['Date'].value_counts().values\n",
    "\n",
    "plt.figure(figsize=(20,10), dpi=60, facecolor='w', edgecolor='k')\n",
    "sns.barplot(x,y,palette=\"Reds_d\")\n",
    "plt.xticks(x, my_xticks)\n",
    "plt.ylabel('Number of colonies')\n",
    "plt.title('Most colonizing countries')\n",
    "plt.show()"
   ]
  },
  {
   "cell_type": "code",
   "execution_count": null,
   "metadata": {
    "collapsed": false
   },
   "outputs": [],
   "source": [
    "y = decolonisation_df['Date'].value_counts()\n",
    "y.head(21)"
   ]
  },
  {
   "cell_type": "markdown",
   "metadata": {},
   "source": [
    "## Evolution of conflicts\n",
    "\n",
    "### Presence of conflicts on continents\n",
    "\n",
    "In this part, all conflicts are taken into account, given that they present more than 25 casualties.\n",
    "Maybe separating this table also between minor and major conflicts would be relevant."
   ]
  },
  {
   "cell_type": "code",
   "execution_count": null,
   "metadata": {
    "collapsed": false
   },
   "outputs": [],
   "source": [
    "ucdp_df = pd.read_csv('datasets/clean_conflict.csv')\n",
    "ucdp_df.head()"
   ]
  },
  {
   "cell_type": "code",
   "execution_count": null,
   "metadata": {
    "collapsed": false
   },
   "outputs": [],
   "source": [
    "x = np.linspace(1,5,5)\n",
    "y_ = ucdp_df['region'].value_counts().values\n",
    "y = y_[:5]\n",
    "myticks = ['Asia','Africa','Middle East','Americas','Europe']\n",
    "\n",
    "plt.figure(figsize=(20,10), dpi=60, facecolor='w', edgecolor='k')\n",
    "sns.set(style=\"whitegrid\")\n",
    "sns.barplot(x,y,palette=\"Reds_d\")\n",
    "plt.ylabel('Number of conflicts')\n",
    "plt.title('Number of conflicts per Regions')\n",
    "plt.xticks(x-1,myticks)\n",
    "plt.show()"
   ]
  },
  {
   "cell_type": "markdown",
   "metadata": {},
   "source": [
    "### What are they fighting for?\n",
    "\n",
    "The dataset separates the main reason of the conflict. What are the protagonists fighting for? We can observe in the graph below that the main reason of conflicts happens for territorial claims. Then comes governemental conflicts. And finally, only a few of them combine those reason. (Separate this by continents now?)"
   ]
  },
  {
   "cell_type": "code",
   "execution_count": null,
   "metadata": {
    "collapsed": false
   },
   "outputs": [],
   "source": [
    "cleaned_df = ucdp_df.loc[~ucdp_df['region'].isin(['1, 3', '1, 2', '1, 4', '1, 5', '1, 3, 5', '1, 2, 3, 5'])]\n",
    "myticks = ['Europe','Middle East','Asia','Africa','Americas']\n",
    "df2 = cleaned_df.groupby(['region', 'incomp'])['region'].count().unstack('incomp').fillna(0)\n",
    "\n",
    "plt.figure(figsize=(20,10), dpi=60, facecolor='w', edgecolor='k')\n",
    "df2[[1,2,3]].plot(kind='bar', stacked=True, figsize = (20,10), fontsize = 13)\n",
    "plt.xticks(np.linspace(1,5,5)-1, myticks)\n",
    "plt.legend(['Territories', 'Governments', 'Territories & Governements'],fontsize = 11)\n",
    "plt.title('Origin of conflicts per continents', fontsize = 14)\n",
    "plt.ylabel('Number of conflicts')\n",
    "plt.show()"
   ]
  },
  {
   "cell_type": "markdown",
   "metadata": {
    "collapsed": false
   },
   "source": [
    "### Period of conflicts"
   ]
  },
  {
   "cell_type": "code",
   "execution_count": null,
   "metadata": {
    "collapsed": false
   },
   "outputs": [],
   "source": [
    "plt.figure(figsize=(20,10), dpi=60, facecolor='w', edgecolor='k')\n",
    "y = ucdp_df['year'].value_counts()\n",
    "y = y.sort_index()\n",
    "plt.bar(y.index, y.values, width = 0.9)\n",
    "plt.xlabel('Year')\n",
    "plt.xlabel('Number of conflicts')\n",
    "plt.title('Number of conflicts per year')\n",
    "plt.show()"
   ]
  },
  {
   "cell_type": "markdown",
   "metadata": {},
   "source": [
    "## Relevant countries examples\n",
    "\n",
    "### Violently decolonized country - Algeria, Congo, Syria, Vietnam?"
   ]
  },
  {
   "cell_type": "code",
   "execution_count": null,
   "metadata": {
    "collapsed": true
   },
   "outputs": [],
   "source": []
  },
  {
   "cell_type": "markdown",
   "metadata": {},
   "source": [
    "### Peacefully decolonized country - India, Lebanon, Philippines?"
   ]
  },
  {
   "cell_type": "code",
   "execution_count": null,
   "metadata": {
    "collapsed": true
   },
   "outputs": [],
   "source": []
  }
 ],
 "metadata": {
  "kernelspec": {
   "display_name": "Python 2",
   "language": "python",
   "name": "python2"
  },
  "language_info": {
   "codemirror_mode": {
    "name": "ipython",
    "version": 2
   },
   "file_extension": ".py",
   "mimetype": "text/x-python",
   "name": "python",
   "nbconvert_exporter": "python",
   "pygments_lexer": "ipython2",
   "version": "2.7.13"
  }
 },
 "nbformat": 4,
 "nbformat_minor": 2
}
