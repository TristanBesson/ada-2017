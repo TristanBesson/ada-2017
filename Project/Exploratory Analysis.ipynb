{
 "cells": [
  {
   "cell_type": "markdown",
   "metadata": {},
   "source": [
    "# Milestone 2 - Exploratory Analysis\n",
    "\n",
    "This notebook regroups the different plots of the exploratory analysis of our dataset. "
   ]
  },
  {
   "cell_type": "code",
   "execution_count": 1,
   "metadata": {
    "collapsed": true
   },
   "outputs": [],
   "source": [
    "import pandas as pd\n",
    "import requests\n",
    "import re\n",
    "import numpy as np\n",
    "import seaborn as sns\n",
    "import matplotlib.pyplot as plt"
   ]
  },
  {
   "cell_type": "markdown",
   "metadata": {},
   "source": [
    "## Colonizing countries\n",
    "\n",
    "We will first observe which countries were the biggest colonisers over the past centuries. The first common observation is that all of them are european countries."
   ]
  },
  {
   "cell_type": "code",
   "execution_count": 2,
   "metadata": {
    "collapsed": false
   },
   "outputs": [],
   "source": [
    "colonies_df = pd.read_csv('datasets/colonies.csv')"
   ]
  },
  {
   "cell_type": "code",
   "execution_count": 9,
   "metadata": {
    "collapsed": false,
    "scrolled": false
   },
   "outputs": [
    {
     "data": {
      "image/png": "[encoded data removed]",
      "text/plain": [
       "<matplotlib.figure.Figure at 0x11dd542d0>"
      ]
     },
     "metadata": {},
     "output_type": "display_data"
    }
   ],
   "source": [
    "x = np.linspace(0,9,10)\n",
    "my_xticks = colonies_df['Colonizer Country'].value_counts().index\n",
    "y = colonies_df['Colonizer Country'].value_counts().values\n",
    "\n",
    "\n",
    "plt.figure(figsize=(20,10), dpi=60, facecolor='w', edgecolor='k')\n",
    "sns.barplot(x,y,palette=\"Reds_d\")\n",
    "plt.xticks(x, my_xticks)\n",
    "plt.ylabel('Number of colonies')\n",
    "plt.title('Most colonizing countries')\n",
    "plt.show()"
   ]
  },
  {
   "cell_type": "markdown",
   "metadata": {},
   "source": [
    "## Decolonisation over time and continent\n",
    "\n",
    "By looking at the deconolisation dates, we can observe when European Colonisers has lost their grasps on their colonies. (Happening by vague in continents? Communicating between continents? Map of the decolonisation date would be good to look at limitrophs countries)"
   ]
  },
  {
   "cell_type": "code",
   "execution_count": 34,
   "metadata": {
    "collapsed": false
   },
   "outputs": [
    {
     "data": {
      "text/html": [
       "<div>\n",
       "<style>\n",
       "    .dataframe thead tr:only-child th {\n",
       "        text-align: right;\n",
       "    }\n",
       "\n",
       "    .dataframe thead th {\n",
       "        text-align: left;\n",
       "    }\n",
       "\n",
       "    .dataframe tbody tr th {\n",
       "        vertical-align: top;\n",
       "    }\n",
       "</style>\n",
       "<table border=\"1\" class=\"dataframe\">\n",
       "  <thead>\n",
       "    <tr style=\"text-align: right;\">\n",
       "      <th></th>\n",
       "      <th>Unnamed: 0</th>\n",
       "      <th>Colonized Country</th>\n",
       "      <th>ID</th>\n",
       "      <th>Date</th>\n",
       "      <th>Colonizer Country</th>\n",
       "      <th>URL</th>\n",
       "    </tr>\n",
       "  </thead>\n",
       "  <tbody>\n",
       "    <tr>\n",
       "      <th>2</th>\n",
       "      <td>3</td>\n",
       "      <td>Canada</td>\n",
       "      <td>CA</td>\n",
       "      <td>1867</td>\n",
       "      <td>United Kingdom</td>\n",
       "      <td>/wiki/Canada</td>\n",
       "    </tr>\n",
       "    <tr>\n",
       "      <th>3</th>\n",
       "      <td>4</td>\n",
       "      <td>United States</td>\n",
       "      <td>US</td>\n",
       "      <td>1776</td>\n",
       "      <td>United Kingdom</td>\n",
       "      <td>/wiki/United_States</td>\n",
       "    </tr>\n",
       "    <tr>\n",
       "      <th>4</th>\n",
       "      <td>5</td>\n",
       "      <td>Haiti</td>\n",
       "      <td>HT</td>\n",
       "      <td>1804</td>\n",
       "      <td>France</td>\n",
       "      <td>/wiki/Haiti</td>\n",
       "    </tr>\n",
       "    <tr>\n",
       "      <th>5</th>\n",
       "      <td>6</td>\n",
       "      <td>Benin</td>\n",
       "      <td>BJ</td>\n",
       "      <td>1960</td>\n",
       "      <td>France</td>\n",
       "      <td>/wiki/Benin</td>\n",
       "    </tr>\n",
       "    <tr>\n",
       "      <th>6</th>\n",
       "      <td>7</td>\n",
       "      <td>Algeria</td>\n",
       "      <td>DZ</td>\n",
       "      <td>1962</td>\n",
       "      <td>France</td>\n",
       "      <td>/wiki/Algeria</td>\n",
       "    </tr>\n",
       "  </tbody>\n",
       "</table>\n",
       "</div>"
      ],
      "text/plain": [
       "   Unnamed: 0 Colonized Country  ID  Date Colonizer Country  \\\n",
       "2           3            Canada  CA  1867    United Kingdom   \n",
       "3           4     United States  US  1776    United Kingdom   \n",
       "4           5             Haiti  HT  1804            France   \n",
       "5           6             Benin  BJ  1960            France   \n",
       "6           7           Algeria  DZ  1962            France   \n",
       "\n",
       "                   URL  \n",
       "2         /wiki/Canada  \n",
       "3  /wiki/United_States  \n",
       "4          /wiki/Haiti  \n",
       "5          /wiki/Benin  \n",
       "6        /wiki/Algeria  "
      ]
     },
     "execution_count": 34,
     "metadata": {},
     "output_type": "execute_result"
    }
   ],
   "source": [
    "decolonisation_df = pd.read_csv('datasets/colonies_wikipedia.csv')\n",
    "decolonisation_df = decolonisation_df[decolonisation_df['Date'] != 'False']\n",
    "decolonisation_df.head()"
   ]
  },
  {
   "cell_type": "code",
   "execution_count": null,
   "metadata": {
    "collapsed": false
   },
   "outputs": [],
   "source": [
    "x = np.linspace(1776,2017,242)\n",
    "my_xticks = decolonisation_df['Date'].value_counts().index\n",
    "y = decolonisation_df['Date'].value_counts().values\n",
    "\n",
    "plt.figure(figsize=(20,10), dpi=60, facecolor='w', edgecolor='k')\n",
    "sns.barplot(x,y,palette=\"Reds_d\")\n",
    "plt.xticks(x, my_xticks)\n",
    "plt.ylabel('Number of colonies')\n",
    "plt.title('Most colonizing countries')\n",
    "plt.show()"
   ]
  },
  {
   "cell_type": "code",
   "execution_count": 33,
   "metadata": {
    "collapsed": false
   },
   "outputs": [
    {
     "data": {
      "text/plain": [
       "1960            14\n",
       "1962             5\n",
       "1975             5\n",
       "1991             4\n",
       "1966             3\n",
       "1821             3\n",
       "1968             3\n",
       "1956             3\n",
       "1948             3\n",
       "1918             3\n",
       "1810             3\n",
       "1961             3\n",
       "1971             3\n",
       "1947             3\n",
       "1965             2\n",
       "1825             2\n",
       "1917             2\n",
       "1898             2\n",
       "1949             2\n",
       "1990             2\n",
       "(1932-10-03)     1\n",
       "Name: Date, dtype: int64"
      ]
     },
     "execution_count": 33,
     "metadata": {},
     "output_type": "execute_result"
    }
   ],
   "source": [
    "y = decolonisation_df['Date'].value_counts()\n",
    "y.head(21)"
   ]
  },
  {
   "cell_type": "markdown",
   "metadata": {},
   "source": [
    "## Evolution of conflicts"
   ]
  },
  {
   "cell_type": "markdown",
   "metadata": {},
   "source": [
    "## Relevant countries examples\n",
    "\n",
    "### Violently decolonized country - Algeria, Congo, Syria, Vietnam?"
   ]
  },
  {
   "cell_type": "code",
   "execution_count": null,
   "metadata": {
    "collapsed": true
   },
   "outputs": [],
   "source": []
  },
  {
   "cell_type": "markdown",
   "metadata": {},
   "source": [
    "### Peacefully decolonized country - India, Lebanon, Philippines?"
   ]
  },
  {
   "cell_type": "code",
   "execution_count": null,
   "metadata": {
    "collapsed": true
   },
   "outputs": [],
   "source": []
  }
 ],
 "metadata": {
  "kernelspec": {
   "display_name": "Python 2",
   "language": "python",
   "name": "python2"
  },
  "language_info": {
   "codemirror_mode": {
    "name": "ipython",
    "version": 2
   },
   "file_extension": ".py",
   "mimetype": "text/x-python",
   "name": "python",
   "nbconvert_exporter": "python",
   "pygments_lexer": "ipython2",
   "version": "2.7.13"
  }
 },
 "nbformat": 4,
 "nbformat_minor": 2
}
