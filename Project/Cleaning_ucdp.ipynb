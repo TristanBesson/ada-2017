{
 "cells": [
  {
   "cell_type": "code",
   "execution_count": 29,
   "metadata": {
    "collapsed": true
   },
   "outputs": [],
   "source": [
    "import pandas as pd\n",
    "import requests\n",
    "import re\n",
    "import numpy as np\n",
    "from datetime import datetime\n"
   ]
  },
  {
   "cell_type": "code",
   "execution_count": 30,
   "metadata": {
    "collapsed": true
   },
   "outputs": [],
   "source": [
    "conflict_df = pd.read_csv('datasets/ucdp-prio-acd-171.csv')\n",
    "countries_codes = pd.read_csv('datasets/countries_codes_and_coordinates.csv')"
   ]
  },
  {
   "cell_type": "code",
   "execution_count": 31,
   "metadata": {},
   "outputs": [],
   "source": [
    "conflict_df;\n"
   ]
  },
  {
   "cell_type": "code",
   "execution_count": 32,
   "metadata": {},
   "outputs": [],
   "source": [
    "for index, row in conflict_df.iterrows():\n",
    "    conflict_df.loc[index, 'location'] = re.sub(r'\\([^)]*\\)', '', conflict_df.loc[index, 'location'])\n",
    "    conflict_df.loc[index, 'location'] = conflict_df.loc[index, 'location'].rstrip()\n",
    "    conflict_df.loc[index, 'sidea'] = conflict_df.loc[index, 'sidea'].replace('Government of ', '')\n",
    "    conflict_df.loc[index, 'startdate'] = datetime.strptime(conflict_df.loc[index, 'startdate'], '%Y-%m-%d').month\n",
    "    #conflict_df.loc[index, 'ependdate'] = datetime.strptime(conflict_df.loc[index, 'ependdate'], '%Y-%m-%d').month\n",
    "\n",
    "    if pd.isnull(row['terr']) :\n",
    "        conflict_df.loc[index, 'terr'] = row['location']    "
   ]
  },
  {
   "cell_type": "code",
   "execution_count": 33,
   "metadata": {},
   "outputs": [],
   "source": [
    "conflict_df = conflict_df.drop(['gwnoa2nd', 'gwnob2nd', 'gwnoloc', 'gwnoa', \n",
    "                  'gwnob', 'version', 'startdate2', 'startprec', \n",
    "                  'startdate2', 'startprec2' , 'ependprec', 'sidea2nd', \n",
    "                  'sideb2nd', 'epend', 'incomp'], axis=1)\n"
   ]
  },
  {
   "cell_type": "code",
   "execution_count": 34,
   "metadata": {
    "collapsed": true
   },
   "outputs": [],
   "source": [
    "conflict_df = conflict_df.rename(index=str, columns={ \"startdate\" : \"start_month\", \"ependdate\": \"end_month\"});\n"
   ]
  },
  {
   "cell_type": "code",
   "execution_count": 35,
   "metadata": {
    "collapsed": true
   },
   "outputs": [],
   "source": [
    "iso_countries = countries_codes['Country'].tolist()\n",
    "iso_code = countries_codes['ISO2'].tolist()\n",
    "sidea = conflict_df['sidea'].tolist()\n",
    "location  = conflict_df['location'].tolist()"
   ]
  },
  {
   "cell_type": "code",
   "execution_count": 36,
   "metadata": {},
   "outputs": [],
   "source": [
    "iso_conflict = []\n",
    "\n",
    "for i in range(0, len(sidea)):\n",
    "    if sidea[i] in iso_countries or location[i] in iso_countries:\n",
    "        for j in range(0, len(iso_countries)): \n",
    "            if location[i] == iso_countries[j]:\n",
    "                iso_conflict.append(iso_code[j])\n",
    "                break\n",
    "            elif sidea[i] == iso_countries[j]:\n",
    "                iso_conflict.append(iso_code[j])\n",
    "                break\n",
    "    else:\n",
    "        iso_conflict.append(0)\n"
   ]
  },
  {
   "cell_type": "code",
   "execution_count": 37,
   "metadata": {},
   "outputs": [],
   "source": [
    "conflict_df = conflict_df.assign(ISO2 = iso_conflict )"
   ]
  },
  {
   "cell_type": "code",
   "execution_count": 38,
   "metadata": {},
   "outputs": [],
   "source": [
    "conflict_df.to_csv('clean_conflict.csv')"
   ]
  },
  {
   "cell_type": "code",
   "execution_count": null,
   "metadata": {
    "collapsed": true
   },
   "outputs": [],
   "source": []
  }
 ],
 "metadata": {
  "kernelspec": {
   "display_name": "Python 3",
   "language": "python",
   "name": "python3"
  },
  "language_info": {
   "codemirror_mode": {
    "name": "ipython",
    "version": 3
   },
   "file_extension": ".py",
   "mimetype": "text/x-python",
   "name": "python",
   "nbconvert_exporter": "python",
   "pygments_lexer": "ipython3",
   "version": "3.6.2"
  }
 },
 "nbformat": 4,
 "nbformat_minor": 2
}
