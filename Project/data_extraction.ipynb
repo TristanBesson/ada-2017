{
 "cells": [
  {
   "cell_type": "markdown",
   "metadata": {},
   "source": [
    "# APPLIED DATA ANALYSIS PROJECT"
   ]
  },
  {
   "cell_type": "code",
   "execution_count": 1,
   "metadata": {
    "collapsed": true
   },
   "outputs": [],
   "source": [
    "import pandas as pd\n",
    "import requests\n",
    "import re\n",
    "import numpy as np\n",
    "\n",
    "import matplotlib.pyplot as plt\n",
    "%matplotlib inline\n",
    "\n",
    "from bs4 import BeautifulSoup"
   ]
  },
  {
   "cell_type": "code",
   "execution_count": 2,
   "metadata": {
    "collapsed": true
   },
   "outputs": [],
   "source": [
    "URL_QS = 'https://en.wikipedia.org/wiki/List_of_former_European_colonies'\n",
    "r = requests.get(URL_QS)\n",
    "soup = BeautifulSoup(r.text, 'lxml')"
   ]
  },
  {
   "cell_type": "code",
   "execution_count": 3,
   "metadata": {},
   "outputs": [
    {
     "data": {
      "text/plain": [
       "['Denmark',\n",
       " 'France',\n",
       " 'Netherlands',\n",
       " 'Norway',\n",
       " 'Portugal',\n",
       " 'Russia',\n",
       " 'Spain',\n",
       " 'Sweden',\n",
       " 'Brandenburg',\n",
       " 'Britain',\n",
       " 'Courland',\n",
       " 'Denmark-Norway',\n",
       " 'Knights of Malta',\n",
       " 'Belgium',\n",
       " 'Germany',\n",
       " 'Italy',\n",
       " 'Austria',\n",
       " 'United Kingdom',\n",
       " 'Germany',\n",
       " 'Greece']"
      ]
     },
     "execution_count": 3,
     "metadata": {},
     "output_type": "execute_result"
    }
   ],
   "source": [
    "colonizer_countries = []\n",
    "\n",
    "# To find the name of all colonizer country of Europe, we take care about 2 things :\n",
    "#  - If there is more than 2 spaces in the text -> isn't a country\n",
    "#  - If there is less than 2 letters in the text -> isn't a country\n",
    "\n",
    "for country in soup.findAll('p'):\n",
    "    nb_space = sum(c.isspace() for c in country.text)\n",
    "    \n",
    "    if country.text not in colonizer_countries and nb_space < 3 and len(country.text) > 2:\n",
    "        colonizer_countries.append(country.text)\n",
    "\n",
    "# List Cleaning\n",
    "colonizer_countries = [country.replace('\\n', '') for country in colonizer_countries]\n",
    "\n",
    "colonizer_countries"
   ]
  },
  {
   "cell_type": "code",
   "execution_count": 4,
   "metadata": {},
   "outputs": [
    {
     "data": {
      "text/plain": [
       "['North America',\n",
       " 'West Indies and the Caribbean',\n",
       " 'South America',\n",
       " 'Africa',\n",
       " 'Indian Ocean',\n",
       " 'Middle East',\n",
       " 'Indian Subcontinent',\n",
       " 'Asia-Pacific',\n",
       " 'Europe']"
      ]
     },
     "execution_count": 4,
     "metadata": {},
     "output_type": "execute_result"
    }
   ],
   "source": [
    "regions = []\n",
    "\n",
    "for region in soup.find(\"ul\").findAll('li'):\n",
    "    regions.append(region.text[2:])\n",
    "\n",
    "del regions[-1], regions[-1] \n",
    "\n",
    "regions"
   ]
  },
  {
   "cell_type": "code",
   "execution_count": 5,
   "metadata": {
    "collapsed": true
   },
   "outputs": [],
   "source": [
    "def get_colonizer(infobox, colonizer):\n",
    "    \n",
    "    new_colonizer = \"OOOOOO\"\n",
    "    independ_date = 0\n",
    "    \n",
    "    independence = infobox.find(text = re.compile(\"Independence\"))\n",
    "\n",
    "    if independence:\n",
    "        # First method\n",
    "        new_colonizer = independence.find_next(\"a\").text\n",
    "        independ_date = independence.find_next(\"td\").text.split()[-1]\n",
    "        \n",
    "        # In case of there is \"Great Britain\" instead of \"Britain\"\n",
    "        if 'Great' in new_colonizer: new_colonizer = 'Britain'\n",
    "        \n",
    "        independ_index_tmp, count = independence, 0\n",
    "        \n",
    "        while(new_colonizer not in colonizer_countries and count < 10):    \n",
    "            independ_index_tmp = independ_index_tmp.find_next(\"a\")\n",
    "\n",
    "            new_colonizer = independ_index_tmp.text\n",
    "            independ_date = independ_index_tmp.find_next(\"td\").text.split()[-1]\n",
    "            count += 1 \n",
    "\n",
    "        # Second method\n",
    "        if new_colonizer not in colonizer_countries: \n",
    "            new_colonizer = independence.find_next(\"div\").text       \n",
    "            independ_date = independence.find_next(\"td\").text.split()[-1].split(\"[\")[0]\n",
    "\n",
    "            exclu_list = ['•', 'from', 'the']\n",
    "            cleaned = []\n",
    "\n",
    "            for string in new_colonizer.split():\n",
    "                if string not in exclu_list: cleaned.append(string)\n",
    "                new_colonizer = independence.find_next(\"div\").text\n",
    "\n",
    "            # In case of we have \"United Kingdom\" with a special ortho\n",
    "            if len(cleaned) > 0 :\n",
    "                if cleaned[0] == \"United\": new_colonizer = cleaned[0] + \" \" + cleaned[1]\n",
    "                else: new_colonizer = cleaned[0]\n",
    "\n",
    "        # Third method\n",
    "        if new_colonizer not in colonizer_countries: \n",
    "\n",
    "            independence = infobox.find(text = re.compile(\"Formation\"))\n",
    "\n",
    "            if independence:  \n",
    "                independence_tmp = independence\n",
    "\n",
    "                while(new_colonizer not in colonizer_countries and count < 10):    \n",
    "                    independ_index_tmp = independence_tmp.parent.find_next(\"a\")\n",
    "\n",
    "                    new_colonizer = independ_index_tmp.text\n",
    "                    independ_date = independ_index_tmp.find_next(\"td\").text.split()[-1]            \n",
    "\n",
    "        if new_colonizer in colonizer_countries:\n",
    "            return new_colonizer, independ_date\n",
    "        else:\n",
    "            return colonizer, independ_date\n",
    "\n",
    "    else:\n",
    "        return colonizer, False\n",
    "\n",
    "def get_infobox(soup):\n",
    "\n",
    "    infobox = soup.find(\"table\", class_=\"infobox geography\")\n",
    "    if not infobox: infobox = soup.find(\"table\", class_=\"infobox geography vcard\")\n",
    "    if not infobox: infobox = soup.find(\"table\", class_=\"infobox geography vcard vevent\")\n",
    "    if not infobox: infobox = soup.find(\"table\", class_=\"infobox vcard \")\n",
    "        \n",
    "    return infobox\n",
    "\n",
    "def get_ID(infobox):\n",
    "\n",
    "    ID = infobox.find(text = re.compile(\"ISO 3166 code\"))\n",
    "    \n",
    "    if ID is not None:\n",
    "        return ID.find_next('a').text\n",
    "    else:\n",
    "        return False\n",
    "\n",
    "def get_size(infobox):\n",
    "    \n",
    "    area = infobox.find(\"th\", text=\"Area\")\n",
    "    \n",
    "    if area:\n",
    "        size = area.parent.next_sibling.next_sibling.td.text.split(\"\\xa0\")[0]\n",
    "\n",
    "        # Size cleaning\n",
    "        if '–' in size: size = size.split(\"–\")[0]\n",
    "        if '[' in size: size = size.split(\"[\")[0]\n",
    "        if ',' in size: size = size.replace(\",\", \"\")\n",
    "        if '.' in size: size = size.split(\".\")[0]\n",
    "        if ' ' in size: size = size.split(\" \")[0]                                       \n",
    "        if len(size) == 0: size = 0\n",
    "            \n",
    "        return int(size)\n",
    "    \n",
    "    else:\n",
    "        return 0\n",
    "    \n",
    "def get_succeeded_by(infobox):\n",
    "    \n",
    "    succeeded_by = infobox.find(\"b\", text=\"Succeeded by\")\n",
    "    \n",
    "    if succeeded_by: \n",
    "        succeeded_by = succeeded_by.parent.parent.next_sibling.next_sibling\n",
    "\n",
    "        new_country = succeeded_by.find(style=\"border:0; padding:0; vertical-align:middle; text-align:right;\").text\n",
    "        URL = succeeded_by.find(style=\"border:0; padding:0; vertical-align:middle; text-align:right;\").a['href']\n",
    "\n",
    "        return new_country, URL\n",
    "\n",
    "    else:\n",
    "        return False, False\n",
    "    \n",
    "def get_today_part_of(infobox):\n",
    "    \n",
    "    new_countries, URL = [], []\n",
    "     \n",
    "    today_part_of = infobox.find(\"b\", text=\"Today part of\")\n",
    "    \n",
    "    if today_part_of: \n",
    "        today_part_of = today_part_of.find_all_next(\"a\")\n",
    "    \n",
    "        i = 0\n",
    "        while is_a_country(today_part_of[i]) and i < 5:\n",
    "            if today_part_of[i].has_attr('href'):\n",
    "                new_countries.append(today_part_of[i].text)\n",
    "                URL.append(today_part_of[i]['href'])\n",
    "            i += 1\n",
    "            \n",
    "        return new_countries, URL\n",
    "\n",
    "    else:\n",
    "        return False, False\n",
    "    \n",
    "def is_a_country(info):\n",
    "    if info.has_attr('href'):\n",
    "        if info['href'].split('/')[0] is '':\n",
    "            return True\n",
    "        else:\n",
    "            return False\n",
    "    else:\n",
    "        return False"
   ]
  },
  {
   "cell_type": "code",
   "execution_count": 6,
   "metadata": {
    "collapsed": true,
    "scrolled": true
   },
   "outputs": [],
   "source": [
    "def check_country(df, colonized, colonizer, URL, nb_check):\n",
    "    \n",
    "    # The checking of each colony is as follows :\n",
    "    # - If a infobox (the resum on the right side) exist, we check the size. If the size is inferior than a \n",
    "    #   certain value, we does not considere this country because it is more a island or a city than a country.\n",
    "    #   We also check if the colonizer country is the same at the end as the begin. And the end, we take the \n",
    "    #   colonizer country juste before the independance.\n",
    "    # - If a word like 'disestablished' or 'disestablishments' is found in the page, we considere that the\n",
    "    #   country don't exist any more. We check if a new country was created on find \n",
    "    #   the sentence \"Succeeded by\" in the infobox (if it extist) and repeat the checking with the new \n",
    "    #   country if found\n",
    "    \n",
    "    if nb_check > 4 or colonized in colonizer_countries:\n",
    "        return\n",
    "    \n",
    "    URL_QS = 'https://en.wikipedia.org' + URL\n",
    "    r = requests.get(URL_QS)\n",
    "    soup = BeautifulSoup(r.text, 'lxml')\n",
    "\n",
    "    infobox = get_infobox(soup) \n",
    "    new_countries, new_URL = [], []\n",
    "    \n",
    "    # Check if the crountry still exist and if the infobox exist\n",
    "    if not soup(text=re.compile('disestablished')) and not soup(text=re.compile('disestablishments')): \n",
    "        if infobox:\n",
    "            ID = get_ID(infobox)\n",
    "            colonizer, independ_date = get_colonizer(infobox, colonizer)\n",
    "            size = get_size(infobox)\n",
    "            \n",
    "            # On vérifie la taille, si < 1'500 km : osef des îles/villes\n",
    "            # On vérifie aussi que le pays n'apparait pas déjà dans le datafram\n",
    "            if ID:\n",
    "                if size > 1500 and len(df[df['ID']== ID]) < 1:\n",
    "                    df.loc[len(df)+1] = [colonized, ID, independ_date, colonizer, URL]  \n",
    "\n",
    "    else:\n",
    "        if infobox:\n",
    "            new_countries, new_URL = get_today_part_of(infobox)\n",
    "            \n",
    "            if new_countries:\n",
    "                for index, country in (enumerate(new_countries)):\n",
    "                    check_country(df, country, colonizer, new_URL[index], nb_check + 1) \n",
    "            \n",
    "            else:\n",
    "                new_country, new_URL = get_succeeded_by(infobox)\n",
    "                \n",
    "                if new_country:\n",
    "                    check_country(df, new_country, colonizer, new_URL, nb_check + 1)"
   ]
  },
  {
   "cell_type": "code",
   "execution_count": 7,
   "metadata": {
    "scrolled": false
   },
   "outputs": [
    {
     "name": "stdout",
     "output_type": "stream",
     "text": [
      "Denmark ...\n",
      "France ...\n",
      "Netherlands ...\n",
      "Norway ...\n",
      "Portugal ...\n",
      "Russia ...\n",
      "Spain ...\n",
      "Sweden ...\n",
      "Brandenburg ...\n",
      "Britain ...\n",
      "Courland ...\n",
      "Denmark-Norway ...\n",
      "Knights of Malta ...\n",
      "Belgium ...\n",
      "Germany ...\n",
      "Italy ...\n",
      "Austria ...\n",
      "United Kingdom ...\n",
      "Germany ...\n",
      "Greece ...\n"
     ]
    },
    {
     "data": {
      "text/html": [
       "<div>\n",
       "<style>\n",
       "    .dataframe thead tr:only-child th {\n",
       "        text-align: right;\n",
       "    }\n",
       "\n",
       "    .dataframe thead th {\n",
       "        text-align: left;\n",
       "    }\n",
       "\n",
       "    .dataframe tbody tr th {\n",
       "        vertical-align: top;\n",
       "    }\n",
       "</style>\n",
       "<table border=\"1\" class=\"dataframe\">\n",
       "  <thead>\n",
       "    <tr style=\"text-align: right;\">\n",
       "      <th></th>\n",
       "      <th>Colonized Country</th>\n",
       "      <th>ID</th>\n",
       "      <th>Date</th>\n",
       "      <th>Colonizer Country</th>\n",
       "      <th>URL</th>\n",
       "    </tr>\n",
       "  </thead>\n",
       "  <tbody>\n",
       "    <tr>\n",
       "      <th>1</th>\n",
       "      <td>Greenland</td>\n",
       "      <td>GL</td>\n",
       "      <td>False</td>\n",
       "      <td>Denmark</td>\n",
       "      <td>/wiki/Greenland</td>\n",
       "    </tr>\n",
       "    <tr>\n",
       "      <th>2</th>\n",
       "      <td>Iceland</td>\n",
       "      <td>IS</td>\n",
       "      <td>False</td>\n",
       "      <td>Denmark</td>\n",
       "      <td>/wiki/Iceland</td>\n",
       "    </tr>\n",
       "    <tr>\n",
       "      <th>3</th>\n",
       "      <td>Canada</td>\n",
       "      <td>CA</td>\n",
       "      <td>1867</td>\n",
       "      <td>United Kingdom</td>\n",
       "      <td>/wiki/Canada</td>\n",
       "    </tr>\n",
       "    <tr>\n",
       "      <th>4</th>\n",
       "      <td>United States</td>\n",
       "      <td>US</td>\n",
       "      <td>1776</td>\n",
       "      <td>Britain</td>\n",
       "      <td>/wiki/United_States</td>\n",
       "    </tr>\n",
       "    <tr>\n",
       "      <th>5</th>\n",
       "      <td>Haiti</td>\n",
       "      <td>HT</td>\n",
       "      <td>1804</td>\n",
       "      <td>France</td>\n",
       "      <td>/wiki/Haiti</td>\n",
       "    </tr>\n",
       "  </tbody>\n",
       "</table>\n",
       "</div>"
      ],
      "text/plain": [
       "  Colonized Country  ID   Date Colonizer Country                  URL\n",
       "1         Greenland  GL  False           Denmark      /wiki/Greenland\n",
       "2           Iceland  IS  False           Denmark        /wiki/Iceland\n",
       "3            Canada  CA   1867    United Kingdom         /wiki/Canada\n",
       "4     United States  US   1776           Britain  /wiki/United_States\n",
       "5             Haiti  HT   1804            France          /wiki/Haiti"
      ]
     },
     "execution_count": 7,
     "metadata": {},
     "output_type": "execute_result"
    }
   ],
   "source": [
    "# Dataframe creation\n",
    "colonization_df = pd.DataFrame(columns=['Colonized Country', 'ID', 'Date', 'Colonizer Country', \"URL\"])\n",
    "\n",
    "URL_QS = 'https://en.wikipedia.org/wiki/List_of_former_European_colonies'\n",
    "r = requests.get(URL_QS)\n",
    "soup = BeautifulSoup(r.text, 'lxml')\n",
    "\n",
    "for colonizer_country in colonizer_countries:\n",
    "#colonizer_country = 'Italy'\n",
    "    print(colonizer_country, \"...\")\n",
    "\n",
    "    # Trouve tout les emplacements où on fait mention du pays \"colonizer\"\n",
    "    colonizer_index = soup.find_all(\"p\", text=colonizer_country) \n",
    "\n",
    "    for i in range (len(colonizer_index)):\n",
    "        colonized_countries = colonizer_index[i].next_sibling.next_sibling('a')\n",
    "\n",
    "        for colonized_country in colonized_countries:\n",
    "             if colonized_country.text not in regions and len(colonized_country.attrs) < 3:\n",
    "                #print(colonized_country.text)\n",
    "                check_country(colonization_df, colonized_country.text, colonizer_country, colonized_country['href'], 1)\n",
    "\n",
    "colonization_df.head()"
   ]
  },
  {
   "cell_type": "code",
   "execution_count": 8,
   "metadata": {},
   "outputs": [],
   "source": [
    "# Dataset cleaning\n",
    "\n",
    "colonization_df_cleaned = colonization_df.replace(\"Britain\", \"United Kingdom\")"
   ]
  },
  {
   "cell_type": "code",
   "execution_count": 9,
   "metadata": {},
   "outputs": [
    {
     "name": "stdout",
     "output_type": "stream",
     "text": [
      "United Kingdom    53\n",
      "France            27\n",
      "Spain             16\n",
      "Russia            13\n",
      "Portugal           9\n",
      "Netherlands        8\n",
      "Italy              6\n",
      "Belgium            3\n",
      "Denmark            2\n",
      "Austria            1\n",
      "Name: Colonizer Country, dtype: int64\n"
     ]
    },
    {
     "data": {
      "image/png": "[encoded data removed]",
      "text/plain": [
       "<matplotlib.figure.Figure at 0x7f707a98bcf8>"
      ]
     },
     "metadata": {},
     "output_type": "display_data"
    }
   ],
   "source": [
    "print(colonization_df_cleaned['Colonizer Country'].value_counts())\n",
    "\n",
    "plt.figure(figsize=(12,12), dpi=60, facecolor='w', edgecolor='k')\n",
    "plt.pie(colonization_df_cleaned['Colonizer Country'].value_counts(), autopct = '%1.1f%%')\n",
    "plt.axis('equal');"
   ]
  },
  {
   "cell_type": "code",
   "execution_count": 10,
   "metadata": {
    "collapsed": true
   },
   "outputs": [],
   "source": [
    "colonization_df_cleaned.to_csv(\"datasets/colonies_wikipedia.csv\")"
   ]
  },
  {
   "cell_type": "code",
   "execution_count": 11,
   "metadata": {
    "collapsed": true
   },
   "outputs": [],
   "source": [
    "# TO DO\n",
    "# - Cleaner le dataset"
   ]
  },
  {
   "cell_type": "code",
   "execution_count": 12,
   "metadata": {},
   "outputs": [],
   "source": [
    "# TEEEEEEEEEST\n",
    "#URL_QS = 'https://en.wikipedia.org/wiki/Eritrea'\n",
    "#r = requests.get(URL_QS)\n",
    "#soup = BeautifulSoup(r.text, 'lxml')\n",
    "\n",
    "#linkbox = soup.find(class_=\"catlinks\")\n",
    "#linkbox.find(text=re.compile('establishments'))"
   ]
  },
  {
   "cell_type": "code",
   "execution_count": null,
   "metadata": {
    "collapsed": true
   },
   "outputs": [],
   "source": []
  }
 ],
 "metadata": {
  "kernelspec": {
   "display_name": "Python 3",
   "language": "python",
   "name": "python3"
  },
  "language_info": {
   "codemirror_mode": {
    "name": "ipython",
    "version": 3
   },
   "file_extension": ".py",
   "mimetype": "text/x-python",
   "name": "python",
   "nbconvert_exporter": "python",
   "pygments_lexer": "ipython3",
   "version": "3.6.1"
  }
 },
 "nbformat": 4,
 "nbformat_minor": 2
}
