{
 "cells": [
  {
   "cell_type": "markdown",
   "metadata": {},
   "source": [
    "# Conflicts factorization\n",
    "\n",
    "In this notebook, we will try to find hidden informations in our dataset. We want to find meaningful information among the conflicts in the world through years.\n",
    "\n",
    "This dataset will use Matrix Factorization to enhance our latent space."
   ]
  },
  {
   "cell_type": "code",
   "execution_count": 1,
   "metadata": {
    "collapsed": true
   },
   "outputs": [],
   "source": [
    "import requests\n",
    "import json\n",
    "import pandas as pd\n",
    "import scipy as sc\n",
    "import numpy as np\n",
    "import matplotlib.pyplot as plt\n",
    "import sys\n",
    "from sklearn.decomposition import NMF\n",
    "from sklearn.metrics import mean_squared_error\n",
    "from sklearn.manifold import TSNE"
   ]
  },
  {
   "cell_type": "markdown",
   "metadata": {},
   "source": [
    "## Data Handling"
   ]
  },
  {
   "cell_type": "markdown",
   "metadata": {},
   "source": [
    "> TO DO LIST\n",
    "\n",
    "- Drop all non-necessary columns. \n",
    "- Create vector containing interesting countries\n",
    "- Separate dates"
   ]
  },
  {
   "cell_type": "code",
   "execution_count": 2,
   "metadata": {
    "collapsed": true
   },
   "outputs": [],
   "source": [
    "colonies_df = pd.read_csv('datasets/colonies_wikipedia.csv')\n",
    "conflicts_df = pd.read_csv('datasets/clean_conflict.csv')\n",
    "\n",
    "# Separate Datetime\n",
    "conflicts_df['time'] = pd.to_datetime(conflicts_df['ependdate'])   \n",
    "conflicts_df['year'] = conflicts_df.time.dt.year\n",
    "conflicts_df['month'] = conflicts_df.time.dt.month\n",
    "conflicts_df['day'] = conflicts_df.time.dt.day\n",
    "\n",
    "# Drop non-necessary columns\n",
    "conflicts_df.drop([list(conflicts_df)[0], 'conflictid','sidebid','incomp', 'cumint'\\\n",
    "                    ,'type','ISO2', 'ependdate','day','time'], axis = 1, inplace = True)\n",
    "colonies_df.drop(['ID','Day','URL'],axis = 1, inplace = True)\n",
    "\n",
    "\n",
    "colonies_df = colonies_df.dropna(0)\n",
    "conflicts_df = conflicts_df.dropna(0)"
   ]
  },
  {
   "cell_type": "code",
   "execution_count": 3,
   "metadata": {},
   "outputs": [
    {
     "data": {
      "text/html": [
       "<div>\n",
       "<style>\n",
       "    .dataframe thead tr:only-child th {\n",
       "        text-align: right;\n",
       "    }\n",
       "\n",
       "    .dataframe thead th {\n",
       "        text-align: left;\n",
       "    }\n",
       "\n",
       "    .dataframe tbody tr th {\n",
       "        vertical-align: top;\n",
       "    }\n",
       "</style>\n",
       "<table border=\"1\" class=\"dataframe\">\n",
       "  <thead>\n",
       "    <tr style=\"text-align: right;\">\n",
       "      <th></th>\n",
       "      <th>Unnamed: 0</th>\n",
       "      <th>Colonized Country</th>\n",
       "      <th>Month</th>\n",
       "      <th>Year</th>\n",
       "      <th>Colonizer Country</th>\n",
       "    </tr>\n",
       "  </thead>\n",
       "  <tbody>\n",
       "    <tr>\n",
       "      <th>0</th>\n",
       "      <td>1</td>\n",
       "      <td>Iceland</td>\n",
       "      <td>6</td>\n",
       "      <td>1944</td>\n",
       "      <td>Denmark</td>\n",
       "    </tr>\n",
       "    <tr>\n",
       "      <th>1</th>\n",
       "      <td>2</td>\n",
       "      <td>Canada</td>\n",
       "      <td>7</td>\n",
       "      <td>1867</td>\n",
       "      <td>United Kingdom</td>\n",
       "    </tr>\n",
       "    <tr>\n",
       "      <th>2</th>\n",
       "      <td>3</td>\n",
       "      <td>United States</td>\n",
       "      <td>7</td>\n",
       "      <td>1776</td>\n",
       "      <td>France</td>\n",
       "    </tr>\n",
       "    <tr>\n",
       "      <th>3</th>\n",
       "      <td>4</td>\n",
       "      <td>Haiti</td>\n",
       "      <td>1</td>\n",
       "      <td>1804</td>\n",
       "      <td>France</td>\n",
       "    </tr>\n",
       "    <tr>\n",
       "      <th>4</th>\n",
       "      <td>5</td>\n",
       "      <td>Benin</td>\n",
       "      <td>8</td>\n",
       "      <td>1960</td>\n",
       "      <td>France</td>\n",
       "    </tr>\n",
       "  </tbody>\n",
       "</table>\n",
       "</div>"
      ],
      "text/plain": [
       "   Unnamed: 0 Colonized Country  Month  Year Colonizer Country\n",
       "0           1           Iceland      6  1944           Denmark\n",
       "1           2            Canada      7  1867    United Kingdom\n",
       "2           3     United States      7  1776            France\n",
       "3           4             Haiti      1  1804            France\n",
       "4           5             Benin      8  1960            France"
      ]
     },
     "execution_count": 3,
     "metadata": {},
     "output_type": "execute_result"
    }
   ],
   "source": [
    "colonies_df['Colonized Country'].replace('Republic of Tunisia','Tunisia')\n",
    "colonies_df['Colonized Country'].replace('Congo','Republic of the Congo')\n",
    "colonies_df['Colonized Country'].replace('DR Congo','Congo')\n",
    "colonies_df['Colonized Country'].replace('Independent State of Papua New Guinea','New Guinea')\n",
    "colonies_df.head()"
   ]
  },
  {
   "cell_type": "code",
   "execution_count": 4,
   "metadata": {
    "collapsed": true
   },
   "outputs": [],
   "source": [
    "colonisation_countries = colonies_df['Colonized Country'].values\n",
    "colonizers = ['France', 'United Kingdom', 'Denmark', 'Italy', 'Belgium', 'Spain', 'Portugal', 'Russia']\n",
    "colonisation_countries = np.concatenate([colonisation_countries, colonizers])"
   ]
  },
  {
   "cell_type": "markdown",
   "metadata": {},
   "source": [
    "## Matrix Creation"
   ]
  },
  {
   "cell_type": "code",
   "execution_count": 5,
   "metadata": {},
   "outputs": [
    {
     "name": "stderr",
     "output_type": "stream",
     "text": [
      "/Users/neuro/anaconda3/lib/python3.6/site-packages/ipykernel_launcher.py:11: UserWarning: This pattern has match groups. To actually get the groups, use str.extract.\n",
      "  # This is added back by InteractiveShellApp.init_path()\n",
      "/Users/neuro/anaconda3/lib/python3.6/site-packages/ipykernel_launcher.py:14: UserWarning: This pattern has match groups. To actually get the groups, use str.extract.\n",
      "  \n",
      "/Users/neuro/anaconda3/lib/python3.6/site-packages/ipykernel_launcher.py:17: UserWarning: This pattern has match groups. To actually get the groups, use str.extract.\n"
     ]
    }
   ],
   "source": [
    "min_year = 1946\n",
    "max_year = 2017\n",
    "matrix = np.zeros((colonisation_countries.shape[0],max_year - min_year))\n",
    "total_length = matrix.shape[0]*matrix.shape[1]\n",
    "\n",
    "for i in range(matrix.shape[0]):\n",
    "    for j in range(matrix.shape[1]):\n",
    "        inter_df = []\n",
    "        country = colonisation_countries[i]\n",
    "        date = j +min_year\n",
    "        inter_df = conflicts_df[conflicts_df['location'].str.contains(country)]\n",
    "        \n",
    "        if inter_df.empty:\n",
    "            inter_df = conflicts_df[conflicts_df['terr'].str.contains(country)]\n",
    "            \n",
    "            if inter_df.empty:\n",
    "                inter_df = conflicts_df[conflicts_df['sidea'].str.contains(country)]\n",
    "        \n",
    "        matrix[i][j] = inter_df[inter_df['year'] == date].count().values[1]      "
   ]
  },
  {
   "cell_type": "markdown",
   "metadata": {},
   "source": [
    "## Matrix Factorization"
   ]
  },
  {
   "cell_type": "code",
   "execution_count": 6,
   "metadata": {},
   "outputs": [
    {
     "name": "stdout",
     "output_type": "stream",
     "text": [
      "Reconstruction error =  8.32969220779e-08 %\n"
     ]
    }
   ],
   "source": [
    "model = NMF(n_components = 1000, init='random', random_state=0)\n",
    "\n",
    "W = model.fit_transform(matrix)\n",
    "H = model.components_\n",
    "\n",
    "print (\"Reconstruction error = \", 100*mean_squared_error(matrix.flatten(),W.dot(H).flatten()), \"%\")"
   ]
  },
  {
   "cell_type": "markdown",
   "metadata": {},
   "source": [
    "## Results & Observations"
   ]
  },
  {
   "cell_type": "code",
   "execution_count": 7,
   "metadata": {},
   "outputs": [
    {
     "data": {
      "image/png": "[encoded data removed]",
      "text/plain": [
       "<matplotlib.figure.Figure at 0x103e09c50>"
      ]
     },
     "metadata": {},
     "output_type": "display_data"
    }
   ],
   "source": [
    "W_embedded = TSNE(n_components=2).fit_transform(W)\n",
    "H_embedded = TSNE(n_components=2).fit_transform(H)\n",
    "\n",
    "plt.figure(1, figsize = [20,10])\n",
    "plt.title(\"Conflict Mapping\")\n",
    "\n",
    "plt.xlabel(\"Component 1 score\")\n",
    "plt.ylabel(\"Component 2 score\")\n",
    "\n",
    "plt.scatter(W_embedded[:,0], W_embedded[:,1])\n",
    "\n",
    "#plt.savefig('img/factorization_1000components_nocolor.png')\n",
    "plt.show()"
   ]
  },
  {
   "cell_type": "markdown",
   "metadata": {},
   "source": [
    "_First observation._\n",
    "\n",
    "We observe a dense cluster surrounded by a 'crown' of conflicts in this representation. It would become interesting to add the color of the continent for each datapoint."
   ]
  },
  {
   "cell_type": "code",
   "execution_count": 8,
   "metadata": {},
   "outputs": [],
   "source": [
    "def color_dict(x):\n",
    "    return {\n",
    "    1946<x<1960 : 'blue',\n",
    "    1959<x<1965 : 'green',\n",
    "    1965<x<1975 : 'red',\n",
    "    1974<x<1985 : 'yellow',\n",
    "    1984<x<1995 : 'black',\n",
    "    2004<x<2017 : 'purple'}"
   ]
  },
  {
   "cell_type": "code",
   "execution_count": 26,
   "metadata": {},
   "outputs": [
    {
     "ename": "SyntaxError",
     "evalue": "invalid syntax (<ipython-input-26-1c374bf95e79>, line 4)",
     "output_type": "error",
     "traceback": [
      "\u001b[0;36m  File \u001b[0;32m\"<ipython-input-26-1c374bf95e79>\"\u001b[0;36m, line \u001b[0;32m4\u001b[0m\n\u001b[0;31m    2 : 'green',\u001b[0m\n\u001b[0m    ^\u001b[0m\n\u001b[0;31mSyntaxError\u001b[0m\u001b[0;31m:\u001b[0m invalid syntax\n"
     ]
    }
   ],
   "source": [
    "color_dict = {\n",
    "    1 : 'blue',\n",
    "    2 : 'green',\n",
    "    3 : 'red',\n",
    "    4 : 'yellow',\n",
    "    5 : 'black'\n",
    "    }"
   ]
  },
  {
   "cell_type": "code",
   "execution_count": 39,
   "metadata": {
    "scrolled": false
   },
   "outputs": [
    {
     "name": "stdout",
     "output_type": "stream",
     "text": [
      "Current enumeration: 132   \r"
     ]
    },
    {
     "ename": "IndexError",
     "evalue": "index 132 is out of bounds for axis 0 with size 132",
     "output_type": "error",
     "traceback": [
      "\u001b[0;31m---------------------------------------------------------------------------\u001b[0m",
      "\u001b[0;31mIndexError\u001b[0m                                Traceback (most recent call last)",
      "\u001b[0;32m<ipython-input-39-94cd42e201e8>\u001b[0m in \u001b[0;36m<module>\u001b[0;34m()\u001b[0m\n\u001b[1;32m      7\u001b[0m     \u001b[0;32mif\u001b[0m \u001b[0mregion\u001b[0m \u001b[0;34m==\u001b[0m \u001b[0;34m'1, 3'\u001b[0m \u001b[0;32mor\u001b[0m \u001b[0mregion\u001b[0m \u001b[0;34m==\u001b[0m \u001b[0;34m'1, 2'\u001b[0m \u001b[0;32mor\u001b[0m \u001b[0mregion\u001b[0m \u001b[0;34m==\u001b[0m \u001b[0;34m'1, 4'\u001b[0m \u001b[0;32mor\u001b[0m \u001b[0mregion\u001b[0m \u001b[0;34m==\u001b[0m \u001b[0;34m'1, 5'\u001b[0m \u001b[0;32mor\u001b[0m \u001b[0mregion\u001b[0m \u001b[0;34m==\u001b[0m \u001b[0;34m'1, 2, 3, 5'\u001b[0m \u001b[0;32mor\u001b[0m \u001b[0mregion\u001b[0m \u001b[0;34m==\u001b[0m \u001b[0;34m'1, 3, 5'\u001b[0m\u001b[0;34m:\u001b[0m\u001b[0;34m\u001b[0m\u001b[0m\n\u001b[1;32m      8\u001b[0m         \u001b[0mregion\u001b[0m \u001b[0;34m=\u001b[0m \u001b[0;36m1\u001b[0m\u001b[0;34m\u001b[0m\u001b[0m\n\u001b[0;32m----> 9\u001b[0;31m     \u001b[0mplt\u001b[0m\u001b[0;34m.\u001b[0m\u001b[0mscatter\u001b[0m\u001b[0;34m(\u001b[0m\u001b[0mW_embedded\u001b[0m\u001b[0;34m[\u001b[0m\u001b[0;34m:\u001b[0m\u001b[0;34m,\u001b[0m\u001b[0;36m0\u001b[0m\u001b[0;34m]\u001b[0m\u001b[0;34m[\u001b[0m\u001b[0mi\u001b[0m\u001b[0;34m]\u001b[0m\u001b[0;34m,\u001b[0m \u001b[0mW_embedded\u001b[0m\u001b[0;34m[\u001b[0m\u001b[0;34m:\u001b[0m\u001b[0;34m,\u001b[0m\u001b[0;36m1\u001b[0m\u001b[0;34m]\u001b[0m\u001b[0;34m[\u001b[0m\u001b[0mi\u001b[0m\u001b[0;34m]\u001b[0m\u001b[0;34m,\u001b[0m \u001b[0mc\u001b[0m \u001b[0;34m=\u001b[0m \u001b[0mcolor_dict\u001b[0m\u001b[0;34m[\u001b[0m\u001b[0mint\u001b[0m\u001b[0;34m(\u001b[0m\u001b[0mregion\u001b[0m\u001b[0;34m)\u001b[0m\u001b[0;34m]\u001b[0m\u001b[0;34m)\u001b[0m\u001b[0;34m\u001b[0m\u001b[0m\n\u001b[0m\u001b[1;32m     10\u001b[0m \u001b[0;31m#plt.scatter(W_embedded[:,0][i], W_embedded[:,1][i], c = color_dict(i)[0])\u001b[0m\u001b[0;34m\u001b[0m\u001b[0;34m\u001b[0m\u001b[0m\n\u001b[1;32m     11\u001b[0m \u001b[0mplt\u001b[0m\u001b[0;34m.\u001b[0m\u001b[0mshow\u001b[0m\u001b[0;34m(\u001b[0m\u001b[0;34m)\u001b[0m\u001b[0;34m\u001b[0m\u001b[0m\n",
      "\u001b[0;31mIndexError\u001b[0m: index 132 is out of bounds for axis 0 with size 132"
     ]
    }
   ],
   "source": [
    "plt.figure(figsize = [20,15])\n",
    "for i,c in enumerate(conflicts_df['year']):\n",
    "    sys.stdout.write(\"Current enumeration: %d   \\r\" % (i) )\n",
    "    sys.stdout.flush()\n",
    "    \n",
    "    region = conflicts_df['region'].iloc[i]\n",
    "    if region == '1, 3' or region == '1, 2' or region == '1, 4' or region == '1, 5' or region == '1, 2, 3, 5' or region == '1, 3, 5':\n",
    "        region = 1\n",
    "    plt.scatter(W_embedded[:,0][i], W_embedded[:,1][i], c = color_dict[int(region)])\n",
    "#plt.scatter(W_embedded[:,0][i], W_embedded[:,1][i], c = color_dict(i)[0])\n",
    "plt.show()"
   ]
  },
  {
   "cell_type": "markdown",
   "metadata": {},
   "source": [
    "Problème : J'associe un point pour plusieurs conflits d'un même pays sur une même année. Pour bien faire il me faudrait une nouvelle liste de chaque pays avec son continent associé..."
   ]
  },
  {
   "cell_type": "code",
   "execution_count": 41,
   "metadata": {},
   "outputs": [
    {
     "data": {
      "text/plain": [
       "(132, 71)"
      ]
     },
     "execution_count": 41,
     "metadata": {},
     "output_type": "execute_result"
    }
   ],
   "source": [
    "matrix.shape"
   ]
  },
  {
   "cell_type": "code",
   "execution_count": null,
   "metadata": {
    "collapsed": true
   },
   "outputs": [],
   "source": []
  }
 ],
 "metadata": {
  "kernelspec": {
   "display_name": "Python 3",
   "language": "python",
   "name": "python3"
  },
  "language_info": {
   "codemirror_mode": {
    "name": "ipython",
    "version": 3
   },
   "file_extension": ".py",
   "mimetype": "text/x-python",
   "name": "python",
   "nbconvert_exporter": "python",
   "pygments_lexer": "ipython3",
   "version": "3.6.3"
  }
 },
 "nbformat": 4,
 "nbformat_minor": 2
}
