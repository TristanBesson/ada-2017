{
 "cells": [
  {
   "cell_type": "markdown",
   "metadata": {},
   "source": [
    "# 02 - Data from the Web\n"
   ]
  },
  {
   "cell_type": "markdown",
   "metadata": {},
   "source": [
    "In this homework we will extract interesting information from www.topuniversities.com and www.timeshighereducation.com, two platforms that maintain a global ranking of worldwide universities. This ranking is not offered as a downloadable dataset, so you will have to find a way to scrape the information we need! You are not allowed to download manually the entire ranking -- rather you have to understand how the server loads it in your browser. For this task, Postman with the Interceptor extension can help you greatly. We recommend that you watch this brief tutorial to understand quickly how to use it."
   ]
  },
  {
   "cell_type": "code",
   "execution_count": 2,
   "metadata": {
    "collapsed": true
   },
   "outputs": [],
   "source": [
    "from bs4 import BeautifulSoup\n",
    "import urllib\n",
    "import requests\n"
   ]
  },
  {
   "cell_type": "code",
   "execution_count": null,
   "metadata": {
    "collapsed": true
   },
   "outputs": [],
   "source": [
    "URL = 'https://www.topuniversities.com/university-rankings/world-university-rankings/2018'"
   ]
  },
  {
   "cell_type": "code",
   "execution_count": null,
   "metadata": {
    "collapsed": true
   },
   "outputs": [],
   "source": [
    "URL = 'https://www.topuniversities.com/university-rankings/world-university-rankings/2018'\n",
    "r = requests.get(URL)\n",
    "page_body = r.text\n",
    "soup = BeautifulSoup(page_body, 'html.parser')"
   ]
  },
  {
   "cell_type": "code",
   "execution_count": null,
   "metadata": {
    "collapsed": false
   },
   "outputs": [],
   "source": [
    "ranks = soup.findAll(\"td\", { \"class\" : \"rank\" })\n",
    "ranks"
   ]
  },
  {
   "cell_type": "code",
   "execution_count": null,
   "metadata": {
    "collapsed": false
   },
   "outputs": [],
   "source": [
    "print('Total number of items: {0}'.format(len(ranks)))"
   ]
  },
  {
   "cell_type": "code",
   "execution_count": null,
   "metadata": {
    "collapsed": false
   },
   "outputs": [],
   "source": [
    "uni = soup.findAll(\"td\", { \"class\" : \"uni\" })\n",
    "uni"
   ]
  },
  {
   "cell_type": "code",
   "execution_count": null,
   "metadata": {
    "collapsed": false
   },
   "outputs": [],
   "source": [
    "table = soup.findAll(\"div\", { \"class\" : \"bg\" })\n",
    "print('Total number of items: {0}'.format(len(table)))"
   ]
  },
  {
   "cell_type": "code",
   "execution_count": null,
   "metadata": {
    "collapsed": false
   },
   "outputs": [],
   "source": [
    "badges = soup.body.find('div', {'class': 'bg'})\n",
    "for span in badges.span.find_all('span', recursive=False):\n",
    "    print(span.attrs['rank'])"
   ]
  },
  {
   "cell_type": "code",
   "execution_count": null,
   "metadata": {
    "collapsed": false
   },
   "outputs": [],
   "source": [
    "table = soup.findAll('table')#.findAll('tr', {'class': 'odd'}) "
   ]
  },
  {
   "cell_type": "code",
   "execution_count": null,
   "metadata": {
    "collapsed": false
   },
   "outputs": [],
   "source": [
    "soup = BeautifulSoup(page_body, 'html.parser')\n",
    "table = soup.find('table', {'id': 'qs-rankings'})\n",
    "th = table.find('id', text='cid410')\n",
    "#td = th.findNext('td')\n",
    "#td.text\n"
   ]
  },
  {
   "cell_type": "code",
   "execution_count": null,
   "metadata": {
    "collapsed": false
   },
   "outputs": [],
   "source": [
    "print(soup.prettify())"
   ]
  },
  {
   "cell_type": "markdown",
   "metadata": {},
   "source": [
    "## Extract data from website"
   ]
  },
  {
   "cell_type": "code",
   "execution_count": 12,
   "metadata": {
    "collapsed": true
   },
   "outputs": [],
   "source": [
    "URL = 'https://www.topuniversities.com/university-rankings/world-university-rankings/2018'\n",
    "r = requests.get(URL)\n",
    "page_body = r.text\n",
    "soup = BeautifulSoup(page_body, 'html.parser')\n",
    "\n",
    "table = soup.find('table', attrs={'id': 'qs-rankings'})\n",
    "table_body = table.find('tbody')"
   ]
  },
  {
   "cell_type": "code",
   "execution_count": 17,
   "metadata": {
    "collapsed": false
   },
   "outputs": [
    {
     "data": {
      "text/plain": [
       "<table cellspacing=\"0\" class=\"compare-off\" id=\"qs-rankings\" width=\"100%\">\\n<thead>\\n<tr>\\n<td class=\"rank\">\\n<div class=\"td-wrap\">#<span> RANK</span></div>\\n</td>\\n<td class=\"uni\">\\n<div class=\"td-wrap\">UNIVERSITY</div>\\n</td>\\n<td>\\n<div class=\"td-wrap\">REGION</div>\\n</td>\\n<td class=\"country\">\\n<div class=\"td-wrap\">LOCATION</div>\\n</td>\\n<td class=\"match\" data-visible=\"false\">\\n<div class=\"td-wrap\">COMPARE</div>\\n</td>\\n<td class=\"rating\">\\n<div class=\"td-wrap\">\\n<a class=\"mobile-only\" data-container=\"body\" data-content=\"&lt;b&gt;QS Stars&lt;/b&gt; is distinct from rankings. So far, 150 universities in over 35 countries have been rated in up to 12 categories. &lt;a href='/qs-stars'&gt;&lt;b&gt;Click the QS Stars for detailed results&lt;/b&gt;&lt;/a&gt;\" data-html=\"true\" data-placement=\"top\" data-toggle=\"popover\" role=\"button\" tabindex=\"0\">STARS</a><a class=\"tablet-only\" data-container=\"body\" data-content=\"&lt;b&gt;QS Stars&lt;/b&gt; is distinct from rankings. So far, 150 universities in over 35 countries have been rated in up to 12 categories. &lt;a href='/qs-stars'&gt;&lt;b&gt;Click the QS Stars for detailed results&lt;/b&gt;&lt;/a&gt;\" data-html=\"true\" data-placement=\"left\" data-toggle=\"popover\" role=\"button\" tabindex=\"0\">STARS</a>\\n<a class=\"star-ico desktop-only\">STARS</a>\\n<div class=\"star-hov collapse\">\\n<b>QS Stars</b> is distinct from rankings. So far, 150 universities in over 35 countries have been rated in up to 12 categories. <a href=\"/qs-stars\"><b>Click the QS Stars for detailed results</b></a>\\n</div>\\n</div>\\n</td>\\n<td>COUNTRY GUIDE</td>\\n</tr>\\n<tr>\\n<td class=\"rank\">\\n<div class=\"td-wrap\"></div>\\n</td>\\n<td class=\"uni-search uni\">\\n<div class=\"td-wrap\"></div>\\n</td>\\n<td>\\n<div class=\"td-wrap\"></div>\\n</td>\\n<td class=\"country\">\\n<div class=\"td-wrap\"></div>\\n</td>\\n<td class=\"match\" data-visible=\"false\">\\n<div class=\"td-wrap\"></div>\\n</td>\\n<td class=\"stars-only rating\">\\n<div class=\"td-wrap\"></div>\\n</td>\\n</tr>\\n<tr>\\n<td class=\"rank\">\\n<div class=\"td-wrap\">\\n<select class=\"year-select\"><option selected=\"selected\" value=\"\">2018</option><option value=\"/node/326584\">2017</option><option value=\"/node/299926\">2016</option><option value=\"/node/197036\">2015</option></select> </div>\\n</td>\\n<td class=\"uni-search uni\">\\n<div class=\"td-wrap\">\\n<input class=\"form-control\" placeholder=\"University search\" type=\"text\"/>\\n</div>\\n</td>\\n<td>\\n<div class=\"td-wrap\"></div>\\n</td>\\n<td class=\"country\">\\n<div class=\"td-wrap\">\\n<div class=\"sel-wrap regn\"> <span class=\"close hide\">X</span>\\n<select class=\"country-select\" placeholder=\"By location\" title=\"country select\">\\n<option class=\"hide\" selected=\"selected\" value=\"\">By location</option>\\n<optgroup label=\"Region\"></optgroup>\\n<optgroup label=\"Location\"></optgroup>\\n</select>\\n</div>\\n</div>\\n</td>\\n<td class=\"match\" data-visible=\"false\">\\n<div class=\"td-wrap\"></div>\\n</td>\\n<td class=\"stars-only rating\">\\n<div class=\"td-wrap\">\\n<label class=\"switch\">\\n<input type=\"checkbox\">\\n<div class=\"rated\">Rated only</div>\\n</input></label>\\n</div>\\n</td>\\n</tr>\\n</thead>\\n</table>"
      ]
     },
     "execution_count": 17,
     "metadata": {},
     "output_type": "execute_result"
    }
   ],
   "source": [
    "table"
   ]
  },
  {
   "cell_type": "code",
   "execution_count": null,
   "metadata": {
    "collapsed": true
   },
   "outputs": [],
   "source": []
  }
 ],
 "metadata": {
  "kernelspec": {
   "display_name": "Python 2",
   "language": "python",
   "name": "python2"
  },
  "language_info": {
   "codemirror_mode": {
    "name": "ipython",
    "version": 2
   },
   "file_extension": ".py",
   "mimetype": "text/x-python",
   "name": "python",
   "nbconvert_exporter": "python",
   "pygments_lexer": "ipython2",
   "version": "2.7.13"
  }
 },
 "nbformat": 4,
 "nbformat_minor": 2
}
