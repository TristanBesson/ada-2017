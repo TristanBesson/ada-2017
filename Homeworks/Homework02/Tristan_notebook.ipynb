{
 "cells": [
  {
   "cell_type": "markdown",
   "metadata": {},
   "source": [
    "# 02 - Data from the Web\n"
   ]
  },
  {
   "cell_type": "markdown",
   "metadata": {},
   "source": [
    "In this homework we will extract interesting information from www.topuniversities.com and www.timeshighereducation.com, two platforms that maintain a global ranking of worldwide universities. This ranking is not offered as a downloadable dataset, so you will have to find a way to scrape the information we need! You are not allowed to download manually the entire ranking -- rather you have to understand how the server loads it in your browser. For this task, Postman with the Interceptor extension can help you greatly. We recommend that you watch this brief tutorial to understand quickly how to use it."
   ]
  },
  {
   "cell_type": "code",
   "execution_count": 46,
   "metadata": {
    "collapsed": true
   },
   "outputs": [],
   "source": [
    "from bs4 import BeautifulSoup\n",
    "import urllib\n",
    "import requests\n"
   ]
  },
  {
   "cell_type": "code",
   "execution_count": 47,
   "metadata": {
    "collapsed": true
   },
   "outputs": [],
   "source": [
    "URL = 'https://www.topuniversities.com/university-rankings/world-university-rankings/2018'"
   ]
  },
  {
   "cell_type": "code",
   "execution_count": 48,
   "metadata": {
    "collapsed": true
   },
   "outputs": [],
   "source": [
    "r = requests.get(URL)\n",
    "page_body = r.text"
   ]
  },
  {
   "cell_type": "code",
   "execution_count": 50,
   "metadata": {},
   "outputs": [],
   "source": [
    "page_body;"
   ]
  },
  {
   "cell_type": "code",
   "execution_count": 18,
   "metadata": {
    "collapsed": true
   },
   "outputs": [],
   "source": [
    "soup = BeautifulSoup(page_body, 'html.parser')"
   ]
  },
  {
   "cell_type": "code",
   "execution_count": 19,
   "metadata": {},
   "outputs": [
    {
     "data": {
      "text/plain": [
       "'QS World University Rankings 2018 | Top Universities'"
      ]
     },
     "execution_count": 19,
     "metadata": {},
     "output_type": "execute_result"
    }
   ],
   "source": [
    "soup.title.string\n"
   ]
  },
  {
   "cell_type": "code",
   "execution_count": 51,
   "metadata": {},
   "outputs": [
    {
     "data": {
      "text/plain": [
       "[<td class=\"rank\">\n",
       " <div class=\"td-wrap\">#<span> RANK</span></div>\n",
       " </td>, <td class=\"rank\">\n",
       " <div class=\"td-wrap\"></div>\n",
       " </td>, <td class=\"rank\">\n",
       " <div class=\"td-wrap\">\n",
       " <select class=\"year-select\"><option selected=\"selected\" value=\"\">2018</option><option value=\"/node/326584\">2017</option><option value=\"/node/299926\">2016</option><option value=\"/node/197036\">2015</option></select> </div>\n",
       " </td>]"
      ]
     },
     "execution_count": 51,
     "metadata": {},
     "output_type": "execute_result"
    }
   ],
   "source": [
    "ranks = soup.findAll(\"td\", { \"class\" : \"rank\" })\n",
    "ranks"
   ]
  },
  {
   "cell_type": "code",
   "execution_count": 31,
   "metadata": {},
   "outputs": [
    {
     "name": "stdout",
     "output_type": "stream",
     "text": [
      "Total number of items: 3\n"
     ]
    }
   ],
   "source": [
    "print('Total number of items: {0}'.format(len(ranks)))"
   ]
  },
  {
   "cell_type": "code",
   "execution_count": 28,
   "metadata": {},
   "outputs": [
    {
     "data": {
      "text/plain": [
       "[<td class=\"uni\">\n",
       " <div class=\"td-wrap\">UNIVERSITY</div>\n",
       " </td>, <td class=\"uni-search uni\">\n",
       " <div class=\"td-wrap\"></div>\n",
       " </td>, <td class=\"uni-search uni\">\n",
       " <div class=\"td-wrap\">\n",
       " <input class=\"form-control\" placeholder=\"University search\" type=\"text\">\n",
       " </input></div>\n",
       " </td>]"
      ]
     },
     "execution_count": 28,
     "metadata": {},
     "output_type": "execute_result"
    }
   ],
   "source": [
    "uni = soup.findAll(\"td\", { \"class\" : \"uni\" })\n",
    "uni"
   ]
  },
  {
   "cell_type": "code",
   "execution_count": 34,
   "metadata": {},
   "outputs": [
    {
     "name": "stdout",
     "output_type": "stream",
     "text": [
      "Total number of items: 0\n"
     ]
    }
   ],
   "source": [
    "table = soup.findAll(\"div\", { \"class\" : \"bg\" })\n",
    "print('Total number of items: {0}'.format(len(table)))"
   ]
  },
  {
   "cell_type": "code",
   "execution_count": 37,
   "metadata": {},
   "outputs": [
    {
     "ename": "AttributeError",
     "evalue": "'NoneType' object has no attribute 'span'",
     "output_type": "error",
     "traceback": [
      "\u001b[0;31m---------------------------------------------------------------------------\u001b[0m",
      "\u001b[0;31mAttributeError\u001b[0m                            Traceback (most recent call last)",
      "\u001b[0;32m<ipython-input-37-f7d44f1c68b6>\u001b[0m in \u001b[0;36m<module>\u001b[0;34m()\u001b[0m\n\u001b[1;32m      1\u001b[0m \u001b[0mbadges\u001b[0m \u001b[0;34m=\u001b[0m \u001b[0msoup\u001b[0m\u001b[0;34m.\u001b[0m\u001b[0mbody\u001b[0m\u001b[0;34m.\u001b[0m\u001b[0mfind\u001b[0m\u001b[0;34m(\u001b[0m\u001b[0;34m'div'\u001b[0m\u001b[0;34m,\u001b[0m \u001b[0;34m{\u001b[0m\u001b[0;34m'class'\u001b[0m\u001b[0;34m:\u001b[0m \u001b[0;34m'bg'\u001b[0m\u001b[0;34m}\u001b[0m\u001b[0;34m)\u001b[0m\u001b[0;34m\u001b[0m\u001b[0m\n\u001b[0;32m----> 2\u001b[0;31m \u001b[0;32mfor\u001b[0m \u001b[0mspan\u001b[0m \u001b[0;32min\u001b[0m \u001b[0mbadges\u001b[0m\u001b[0;34m.\u001b[0m\u001b[0mspan\u001b[0m\u001b[0;34m.\u001b[0m\u001b[0mfind_all\u001b[0m\u001b[0;34m(\u001b[0m\u001b[0;34m'span'\u001b[0m\u001b[0;34m,\u001b[0m \u001b[0mrecursive\u001b[0m\u001b[0;34m=\u001b[0m\u001b[0;32mFalse\u001b[0m\u001b[0;34m)\u001b[0m\u001b[0;34m:\u001b[0m\u001b[0;34m\u001b[0m\u001b[0m\n\u001b[0m\u001b[1;32m      3\u001b[0m     \u001b[0mprint\u001b[0m\u001b[0;34m(\u001b[0m\u001b[0mspan\u001b[0m\u001b[0;34m.\u001b[0m\u001b[0mattrs\u001b[0m\u001b[0;34m[\u001b[0m\u001b[0;34m'rank'\u001b[0m\u001b[0;34m]\u001b[0m\u001b[0;34m)\u001b[0m\u001b[0;34m\u001b[0m\u001b[0m\n",
      "\u001b[0;31mAttributeError\u001b[0m: 'NoneType' object has no attribute 'span'"
     ]
    }
   ],
   "source": [
    "badges = soup.body.find('div', {'class': 'bg'})\n",
    "for span in badges.span.find_all('span', recursive=False):\n",
    "    print(span.attrs['rank'])"
   ]
  },
  {
   "cell_type": "code",
   "execution_count": 44,
   "metadata": {
    "collapsed": true
   },
   "outputs": [],
   "source": [
    "table = soup.findAll('table')#.findAll('tr', {'class': 'odd'}) "
   ]
  },
  {
   "cell_type": "code",
   "execution_count": 45,
   "metadata": {},
   "outputs": [
    {
     "data": {
      "text/plain": [
       "[<table cellspacing=\"0\" class=\"compare-off\" id=\"qs-rankings\" width=\"100%\">\n",
       " <thead>\n",
       " <tr>\n",
       " <td class=\"rank\">\n",
       " <div class=\"td-wrap\">#<span> RANK</span></div>\n",
       " </td>\n",
       " <td class=\"uni\">\n",
       " <div class=\"td-wrap\">UNIVERSITY</div>\n",
       " </td>\n",
       " <td>\n",
       " <div class=\"td-wrap\">REGION</div>\n",
       " </td>\n",
       " <td class=\"country\">\n",
       " <div class=\"td-wrap\">LOCATION</div>\n",
       " </td>\n",
       " <td class=\"match\" data-visible=\"false\">\n",
       " <div class=\"td-wrap\">COMPARE</div>\n",
       " </td>\n",
       " <td class=\"rating\">\n",
       " <div class=\"td-wrap\">\n",
       " <a class=\"mobile-only\" data-container=\"body\" data-content=\"&lt;b&gt;QS Stars&lt;/b&gt; is distinct from rankings. So far, 150 universities in over 35 countries have been rated in up to 12 categories. &lt;a href='/qs-stars'&gt;&lt;b&gt;Click the QS Stars for detailed results&lt;/b&gt;&lt;/a&gt;\" data-html=\"true\" data-placement=\"top\" data-toggle=\"popover\" role=\"button\" tabindex=\"0\">STARS</a><a class=\"tablet-only\" data-container=\"body\" data-content=\"&lt;b&gt;QS Stars&lt;/b&gt; is distinct from rankings. So far, 150 universities in over 35 countries have been rated in up to 12 categories. &lt;a href='/qs-stars'&gt;&lt;b&gt;Click the QS Stars for detailed results&lt;/b&gt;&lt;/a&gt;\" data-html=\"true\" data-placement=\"left\" data-toggle=\"popover\" role=\"button\" tabindex=\"0\">STARS</a>\n",
       " <a class=\"star-ico desktop-only\">STARS</a>\n",
       " <div class=\"star-hov collapse\">\n",
       " <b>QS Stars</b> is distinct from rankings. So far, 150 universities in over 35 countries have been rated in up to 12 categories. <a href=\"/qs-stars\"><b>Click the QS Stars for detailed results</b></a>\n",
       " </div>\n",
       " </div>\n",
       " </td>\n",
       " <td>COUNTRY GUIDE</td>\n",
       " </tr>\n",
       " <tr>\n",
       " <td class=\"rank\">\n",
       " <div class=\"td-wrap\"></div>\n",
       " </td>\n",
       " <td class=\"uni-search uni\">\n",
       " <div class=\"td-wrap\"></div>\n",
       " </td>\n",
       " <td>\n",
       " <div class=\"td-wrap\"></div>\n",
       " </td>\n",
       " <td class=\"country\">\n",
       " <div class=\"td-wrap\"></div>\n",
       " </td>\n",
       " <td class=\"match\" data-visible=\"false\">\n",
       " <div class=\"td-wrap\"></div>\n",
       " </td>\n",
       " <td class=\"stars-only rating\">\n",
       " <div class=\"td-wrap\"></div>\n",
       " </td>\n",
       " </tr>\n",
       " <tr>\n",
       " <td class=\"rank\">\n",
       " <div class=\"td-wrap\">\n",
       " <select class=\"year-select\"><option selected=\"selected\" value=\"\">2018</option><option value=\"/node/326584\">2017</option><option value=\"/node/299926\">2016</option><option value=\"/node/197036\">2015</option></select> </div>\n",
       " </td>\n",
       " <td class=\"uni-search uni\">\n",
       " <div class=\"td-wrap\">\n",
       " <input class=\"form-control\" placeholder=\"University search\" type=\"text\">\n",
       " </input></div>\n",
       " </td>\n",
       " <td>\n",
       " <div class=\"td-wrap\"></div>\n",
       " </td>\n",
       " <td class=\"country\">\n",
       " <div class=\"td-wrap\">\n",
       " <div class=\"sel-wrap regn\"> <span class=\"close hide\">X</span>\n",
       " <select class=\"country-select\" placeholder=\"By location\" title=\"country select\">\n",
       " <option class=\"hide\" selected=\"selected\" value=\"\">By location</option>\n",
       " <optgroup label=\"Region\"></optgroup>\n",
       " <optgroup label=\"Location\"></optgroup>\n",
       " </select>\n",
       " </div>\n",
       " </div>\n",
       " </td>\n",
       " <td class=\"match\" data-visible=\"false\">\n",
       " <div class=\"td-wrap\"></div>\n",
       " </td>\n",
       " <td class=\"stars-only rating\">\n",
       " <div class=\"td-wrap\">\n",
       " <label class=\"switch\">\n",
       " <input type=\"checkbox\"/>\n",
       " <div class=\"rated\">Rated only</div>\n",
       " </label>\n",
       " </div>\n",
       " </td>\n",
       " </tr>\n",
       " </thead>\n",
       " </table>,\n",
       " <table cellspacing=\"0\" class=\"order-column\" id=\"qs-rankings-indicators\" width=\"100%\"></table>]"
      ]
     },
     "execution_count": 45,
     "metadata": {},
     "output_type": "execute_result"
    }
   ],
   "source": [
    "table"
   ]
  },
  {
   "cell_type": "code",
   "execution_count": null,
   "metadata": {
    "collapsed": true
   },
   "outputs": [],
   "source": []
  }
 ],
 "metadata": {
  "kernelspec": {
   "display_name": "Python 3",
   "language": "python",
   "name": "python3"
  },
  "language_info": {
   "codemirror_mode": {
    "name": "ipython",
    "version": 3
   },
   "file_extension": ".py",
   "mimetype": "text/x-python",
   "name": "python",
   "nbconvert_exporter": "python",
   "pygments_lexer": "ipython3",
   "version": "3.6.2"
  }
 },
 "nbformat": 4,
 "nbformat_minor": 2
}
