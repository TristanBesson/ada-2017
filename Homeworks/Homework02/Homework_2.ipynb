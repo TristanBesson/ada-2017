{
 "cells": [
  {
   "cell_type": "markdown",
   "metadata": {},
   "source": [
    "# 02 - Data from the Web\n"
   ]
  },
  {
   "cell_type": "markdown",
   "metadata": {},
   "source": [
    "In this homework we will extract interesting information from www.topuniversities.com and www.timeshighereducation.com, two platforms that maintain a global ranking of worldwide universities. This ranking is not offered as a downloadable dataset, so you will have to find a way to scrape the information we need! You are not allowed to download manually the entire ranking -- rather you have to understand how the server loads it in your browser. For this task, Postman with the Interceptor extension can help you greatly. We recommend that you watch this brief tutorial to understand quickly how to use it."
   ]
  },
  {
   "cell_type": "code",
   "execution_count": 1,
   "metadata": {
    "collapsed": true
   },
   "outputs": [],
   "source": [
    "from bs4 import BeautifulSoup\n",
    "import requests\n",
    "import json\n",
    "import string\n",
    "import pandas as pd\n",
    "import re\n",
    "import math\n",
    "import numpy as np\n",
    "import matplotlib.pyplot as plt\n",
    "import itertools\n",
    "import unicodedata\n",
    "from textblob.blob import TextBlob\n",
    "\n",
    "%matplotlib inline"
   ]
  },
  {
   "cell_type": "markdown",
   "metadata": {},
   "source": [
    "# Task 1 - QS Ranking"
   ]
  },
  {
   "cell_type": "markdown",
   "metadata": {},
   "source": [
    "### Creation of the dataset"
   ]
  },
  {
   "cell_type": "markdown",
   "metadata": {},
   "source": [
    "Multiple strategies have been testes in order to find the data used to construct the table on the QS Rankings webpage. We found by opening the Web Inspector on the website the different ressources used by the page. Among them a text file named 'XHR/357051.txt'  was containing the expected ranking with the desired informations. The URL_QS links to this file. We convert it to a DataFrame. From there, we delete the unneccessary columns and keep only the first 200 Universities."
   ]
  },
  {
   "cell_type": "code",
   "execution_count": 2,
   "metadata": {
    "collapsed": true
   },
   "outputs": [],
   "source": [
    "URL_QS = 'https://www.topuniversities.com/sites/default/files/qs-rankings-data/357051.txt?_=1508497791260'\n",
    "r = requests.get(URL_QS)\n",
    "page_body = r.json()\n",
    "qs_df = pd.DataFrame(page_body['data'])\n",
    "qs_df = qs_df.drop(['core_id','logo','guide','cc', 'nid', 'stars','score'], axis = 1).head(200)"
   ]
  },
  {
   "cell_type": "markdown",
   "metadata": {},
   "source": [
    "Additionnal informations needed to be accessed on each university webpage. We used the 'url' column, went to the university page and extracted all the number values found on the webpage. We stored the values we were interested in on new columns. In the cases where there were no/a lack of informations on the webpage, the columns are filed with NaN values."
   ]
  },
  {
   "cell_type": "code",
   "execution_count": null,
   "metadata": {
    "collapsed": true
   },
   "outputs": [],
   "source": [
    "# Going on each university page for each index of the table\n",
    "\n",
    "for index_ in range(0, qs_df.shape[0]):\n",
    "    \n",
    "    URL_ADD = 'https://www.topuniversities.com' + qs_df.get_value(index_, 'url')\n",
    "    r = requests.get(URL_ADD)\n",
    "    page_body = r.text\n",
    "    soup = BeautifulSoup(page_body, 'html.parser')\n",
    "    # Request all numbers that are displayed on the page, we know their order\n",
    "    all_numbers = soup.findAll('div', {'class' : 'number'})\n",
    "    \n",
    "    # If the page contains no numbers, we will store NaN\n",
    "    if not all_numbers:\n",
    "        total_faculty_number = np.nan\n",
    "        interna_faculty_number = np.nan\n",
    "        total_students_number = np.nan\n",
    "        interna_students_number = np.nan\n",
    "   \n",
    "    else:    \n",
    "    # Total Faculty Members\n",
    "        total_faculty = all_numbers[0]\n",
    "        total_faculty_number = int(re.sub(\"[^\\\\d]\",'',str(total_faculty)))\n",
    "    \n",
    "    # International Faculty Members\n",
    "        interna_faculty = all_numbers[1]\n",
    "        interna_faculty_number = int(re.sub(\"[^\\\\d]\",'',str(interna_faculty)))\n",
    "    \n",
    "    # Total Students\n",
    "        total_students = all_numbers[2]\n",
    "        total_students_number = int(re.sub(\"[^\\\\d]\",'',str(total_students)))  \n",
    "    \n",
    "    # International Students\n",
    "        if all_numbers[3] == all_numbers[0]:\n",
    "            interna_students_number = np.nan\n",
    "        else:\n",
    "            interna_students = all_numbers[3]\n",
    "            interna_students_number = int(re.sub(\"[^\\\\d]\",'',str(interna_students)))\n",
    "    \n",
    "    # Adding the found values in the columns\n",
    "    qs_df.set_value(index_, 'Faculty Members - Total', total_faculty_number)\n",
    "    qs_df.set_value(index_, 'Faculty Members - International', interna_faculty_number)\n",
    "    qs_df.set_value(index_, 'Nb Students - Total', total_students_number)\n",
    "    qs_df.set_value(index_, 'Nb Students - International', interna_students_number)"
   ]
  },
  {
   "cell_type": "markdown",
   "metadata": {},
   "source": [
    "The obtained DataFrame is presented below,"
   ]
  },
  {
   "cell_type": "code",
   "execution_count": null,
   "metadata": {},
   "outputs": [],
   "source": [
    "qs_df.head()"
   ]
  },
  {
   "cell_type": "markdown",
   "metadata": {},
   "source": [
    "### Ratios computation"
   ]
  },
  {
   "cell_type": "markdown",
   "metadata": {},
   "source": [
    "For the next part of the question, we need to compute two ratios for all the different universities. We define a method ratio that will return the expected value."
   ]
  },
  {
   "cell_type": "code",
   "execution_count": null,
   "metadata": {
    "collapsed": true
   },
   "outputs": [],
   "source": [
    "# Ratio returns a/b if both those values are defined\n",
    "def ratio(a, b):\n",
    "    if np.isnan(a)|np.isnan(b)|(b == 0):\n",
    "        return np.nan\n",
    "    else:\n",
    "        return a/b"
   ]
  },
  {
   "cell_type": "code",
   "execution_count": null,
   "metadata": {
    "collapsed": true
   },
   "outputs": [],
   "source": [
    "# Apply the ratio functions to all universities\n",
    "for index, row in qs_df.iterrows():\n",
    "    if np.isfinite(row['Nb Students - Total']) and np.isfinite(row['Nb Students - International']) or np.isfinite(row['Nb Students - Total']) and np.isfinite(row['Faculty Members - Total']):\n",
    "        qs_df.loc[index, 'QS Ratio Int. Students'] = round(ratio(row['Nb Students - International'], row['Nb Students - Total']), 2)\n",
    "        qs_df.loc[index, 'QS Ratio Students/Staff'] = round(ratio(row['Nb Students - Total'], row['Faculty Members - Total']), 2)"
   ]
  },
  {
   "cell_type": "code",
   "execution_count": null,
   "metadata": {
    "scrolled": true
   },
   "outputs": [],
   "source": [
    "# Rename columns of the DataFrame for further processing\n",
    "qs_df = qs_df.loc[ :, ['title', 'rank_display', 'country', 'region', 'QS Ratio Int. Students', 'QS Ratio Students/Staff' ]]\n",
    "qs_df = qs_df.rename(index=str, columns={ \"title\" : \"University\", \"rank_display\": \"QS rank\"});\n",
    "qs_df.index = np.arange(1, len(qs_df) + 1)\n",
    "qs_df['QS rank'] = qs_df.index.values.tolist()\n",
    "\n",
    "# Finding the best universities for each ratio\n",
    "max_internatio_ratio_index = qs_df['QS Ratio Int. Students'].argmax()\n",
    "max_internatio_ratio = qs_df['QS Ratio Int. Students'][max_internatio_ratio_index]\n",
    "\n",
    "max_stud_staff_ratio_index = qs_df['QS Ratio Students/Staff'].argmax()\n",
    "max_stud_staff_ratio = qs_df['QS Ratio Students/Staff'][max_stud_staff_ratio_index]\n",
    "\n",
    "\n",
    "print(\"The university with the biggest ratio of international students is the\", \\\n",
    "      qs_df.University[max_internatio_ratio_index],\"with a ratio of \", max_internatio_ratio, \".\\n\\n\")\n",
    "\n",
    "print(\"The university with the biggest ratio between faculty members and students is the\", \\\n",
    "      qs_df.University[max_stud_staff_ratio_index],\"with a ratio of \", max_stud_staff_ratio, \".\\n\\n\")"
   ]
  },
  {
   "cell_type": "markdown",
   "metadata": {},
   "source": [
    "### Plot the results"
   ]
  },
  {
   "cell_type": "markdown",
   "metadata": {},
   "source": [
    "We are now aggregating the data per countries (top) and by region (bottom)."
   ]
  },
  {
   "cell_type": "code",
   "execution_count": null,
   "metadata": {},
   "outputs": [],
   "source": [
    "fig = plt.figure(figsize=(20, 15), dpi= 80, facecolor='w', edgecolor='k')\n",
    "plt.rcParams.update({'font.size': 25})\n",
    "\n",
    "plt.subplot(2,1,1)\n",
    "embarkedPlot = qs_df['country'].value_counts().plot(kind='bar', color='paleturquoise')\n",
    "embarkedPlot.set_xlabel(\"Countries\")\n",
    "embarkedPlot.set_ylabel(\"Number of Universities\")\n",
    "plt.title('200 top-ranking universities from Top Universities by country')\n",
    "\n",
    "plt.subplot(2, 1, 2)\n",
    "embarkedPlot = qs_df['region'].value_counts().plot(kind='bar', color='paleturquoise')\n",
    "embarkedPlot.set_xlabel(\"Regions\")\n",
    "embarkedPlot.set_ylabel(\"Number of Universities\")\n",
    "plt.title('200 top-ranking universities from Times Higher Education by region')\n",
    "\n",
    "fig.tight_layout()\n",
    "\n",
    "plt.show()"
   ]
  },
  {
   "cell_type": "markdown",
   "metadata": {},
   "source": [
    "If we look solely to the top-universities by country, one can observe that the United States are dominating the ranking, with the United Kingdom not so far behind. However, if we look at a broader scale with the regions, we can observe that Europe is placing more universities among the top world universities. This can be explained through the sizes of the countries that will vary a lot: the United States are far bigger than any european countries. "
   ]
  },
  {
   "cell_type": "code",
   "execution_count": null,
   "metadata": {
    "collapsed": true
   },
   "outputs": [],
   "source": [
    "qs_df[\"QS Ratio Students/Staff\"].fillna('NoRatio', inplace=True)\n",
    "qs_df['QS Ratio Int. Students'].fillna('NoRatio', inplace=True)"
   ]
  },
  {
   "cell_type": "markdown",
   "metadata": {},
   "source": [
    "# Task 2 - Times Higher Education Ranking"
   ]
  },
  {
   "cell_type": "markdown",
   "metadata": {},
   "source": [
    "The same strategy as with the QS ranking was used. This time, less processing of the data was needed to extract the desired DataFrame. There was no need to access a new url for each university, therefore simplifying the code."
   ]
  },
  {
   "cell_type": "code",
   "execution_count": null,
   "metadata": {
    "collapsed": true
   },
   "outputs": [],
   "source": [
    "URL_THE = 'https://www.timeshighereducation.com/sites/default/files/the_data_rankings/world_university_rankings_2018_limit0_369a9045a203e176392b9fb8f8c1cb2a.json'\n",
    "r = requests.get(URL_THE)\n",
    "page_body = r.json()\n",
    "the_df = pd.DataFrame(page_body['data']).head(200)"
   ]
  },
  {
   "cell_type": "markdown",
   "metadata": {},
   "source": [
    "### Ratios computation"
   ]
  },
  {
   "cell_type": "markdown",
   "metadata": {},
   "source": [
    "Same strategy to compute the expected ratios. The method ratio is used again. Some small processing of the DataFrame is performed to clean our results and delete the non-necessary informations. For example, the '=' values in case of a tie between university is deleted to only keep track of their position in the list as their rank. The returned DataFrame is presented below."
   ]
  },
  {
   "cell_type": "code",
   "execution_count": null,
   "metadata": {
    "scrolled": true
   },
   "outputs": [],
   "source": [
    "# Firts we need to remove the '%' symbol from the column \"THE % International Students\"\n",
    "# Then we convert the string to int and we do the calculation\n",
    "\n",
    "the_df['stats_number_students'] = pd.to_numeric(the_df['stats_number_students'].str.replace(',', ''))\n",
    "the_df['stats_pc_intl_students'] = pd.to_numeric(the_df['stats_pc_intl_students'].str.replace('%', ''))\n",
    "\n",
    "# Ratios calculation\n",
    "for index, row in the_df.iterrows():\n",
    "    the_df.loc[index, 'stats_pc_intl_students'] = round(row['stats_number_students']*row['stats_pc_intl_students']*0.01)\n",
    "    the_df.loc[index, 'THE Ratio Int. Students'] = round(float(row['stats_pc_intl_students'])/100.0, 2)\n",
    "\n",
    "# Rename columns for further processing\n",
    "the_df = the_df.loc[ :, ['name', 'rank', 'location','THE Ratio Int. Students', 'stats_student_staff_ratio']]\n",
    "the_df = the_df.rename(index=str, columns={ \"name\" : \"University\",\n",
    "                                  \"rank\": \"THE rank\", \"location\": \"country\",\n",
    "                                  \"stats_student_staff_ratio\" : \"THE Ratio Students/Staff\"\n",
    "                                 });\n",
    "\n",
    "# Delete the '=' from the rank and gives them rather their order in the list as rank\n",
    "the_df.index = np.arange(1, len(the_df) + 1) \n",
    "the_df['THE rank'] = the_df.index.values.tolist()\n",
    "\n",
    "the_df.head()"
   ]
  },
  {
   "cell_type": "markdown",
   "metadata": {},
   "source": [
    "From there, we can find the best Universities for each ratio according to the THE ranking,"
   ]
  },
  {
   "cell_type": "code",
   "execution_count": null,
   "metadata": {},
   "outputs": [],
   "source": [
    "max_internatio_ratio_index = the_df['THE Ratio Int. Students'].argmax()\n",
    "max_internatio_ratio = the_df['THE Ratio Int. Students'][max_internatio_ratio_index]\n",
    "\n",
    "max_stud_staff_ratio_index = the_df['THE Ratio Students/Staff'].argmax()\n",
    "max_stud_staff_ratio = the_df['THE Ratio Students/Staff'][max_stud_staff_ratio_index]\n",
    "\n",
    "\n",
    "print(\"The university with the biggest International studient ration is the\", the_df.University[max_internatio_ratio_index],\n",
    "      \"with a ratio of \", max_internatio_ratio, \".\\n\\n\")\n",
    "\n",
    "print(\"The university with the biggest studients/staff ratio is the\", the_df.University[max_stud_staff_ratio_index],\n",
    "      \"with a ratio of \", max_stud_staff_ratio, \".\\n\\n\")"
   ]
  },
  {
   "cell_type": "markdown",
   "metadata": {},
   "source": [
    "### Plot the results"
   ]
  },
  {
   "cell_type": "markdown",
   "metadata": {},
   "source": [
    "Only the plot for the top-ranking universities per country is presented below. The results doesnt change much between the two rankings, expect from Japan that presents way less universities among the top 200. The region is not depicted below as the value was not appearing in the rankings informations. The best method to find the region knowing the country would be to use the merge that is created in the next question. "
   ]
  },
  {
   "cell_type": "code",
   "execution_count": null,
   "metadata": {},
   "outputs": [],
   "source": [
    "fig2 = plt.figure(figsize=(20, 15), dpi= 80, facecolor='w', edgecolor='k')\n",
    "\n",
    "plt.subplot(2,1,1)\n",
    "embarkedPlot = the_df['country'].value_counts().plot(kind='bar', color='paleturquoise')\n",
    "embarkedPlot.set_xlabel(\"Countries\")\n",
    "embarkedPlot.set_ylabel(\"Number of Universities\")\n",
    "plt.title('200 top-ranking universities from Times Higher Education by country')\n",
    "\n",
    "fig2.tight_layout()\n",
    "\n",
    "plt.show()"
   ]
  },
  {
   "cell_type": "code",
   "execution_count": null,
   "metadata": {
    "collapsed": true
   },
   "outputs": [],
   "source": [
    "# Rename Nan value to NoRatio for a better vizualisation\n",
    "the_df[\"THE Ratio Students/Staff\"].fillna('NoRatio', inplace=True)\n",
    "the_df['THE Ratio Int. Students'].fillna('NoRatio', inplace=True)"
   ]
  },
  {
   "cell_type": "markdown",
   "metadata": {},
   "source": [
    "## Task 3 - Data Merging\n"
   ]
  },
  {
   "cell_type": "markdown",
   "metadata": {},
   "source": [
    "For this task, we have to merge the two previously created DataFrames. It will be easier with the pre-processing that was already done to clean the DataFrames and gives them the same column names."
   ]
  },
  {
   "cell_type": "markdown",
   "metadata": {},
   "source": [
    "### Clean University Names\n",
    "\n",
    "To merge both ranking, we take the university names from both ranking, then look at the name in the THE ranking and see if it is contained in a university name in the QS. When this is the case, we rename the university name with the one from the THE."
   ]
  },
  {
   "cell_type": "code",
   "execution_count": null,
   "metadata": {
    "collapsed": true
   },
   "outputs": [],
   "source": [
    "# Looking if the university name from the THE is contained in a university name from the QS\n",
    "for index_qs, row_qs in qs_df.iterrows():\n",
    "     for index_the, row_the in the_df.iterrows():\n",
    "        if row_the['University'] in row_qs['University'] :\n",
    "            qs_df.loc[index_qs, 'University'] = row_the['University']"
   ]
  },
  {
   "cell_type": "code",
   "execution_count": null,
   "metadata": {
    "collapsed": true
   },
   "outputs": [],
   "source": [
    "# Method to remove the acronym of a university. For example, École Polytechnique Fédérale de Lausanne (EPFL)\n",
    "def remove_acronyme(column, df):\n",
    "    for index, row in df.iterrows():\n",
    "        a = row[column].find('(')\n",
    "        if a != -1:\n",
    "            df.loc[index, column] = row[column][:a-1]\n",
    "            \n",
    "remove_acronyme('University', qs_df)     "
   ]
  },
  {
   "cell_type": "markdown",
   "metadata": {},
   "source": [
    "We also want to remove accents in both rankings."
   ]
  },
  {
   "cell_type": "code",
   "execution_count": null,
   "metadata": {},
   "outputs": [],
   "source": [
    "#Method to remove the accents\n",
    "def accent_removal(df):\n",
    "    for index, row in df.iterrows():\n",
    "        en_blob = TextBlob(row['University'])\n",
    "        if en_blob.detect_language() in 'fr':\n",
    "            df.loc[index, 'University'] = ''.join((c for c in unicodedata.normalize('NFD', row['University']) if unicodedata.category(c) != 'Mn'))\n"
   ]
  },
  {
   "cell_type": "code",
   "execution_count": null,
   "metadata": {
    "collapsed": true
   },
   "outputs": [],
   "source": [
    "accent_removal(qs_df)\n",
    "accent_removal(the_df)"
   ]
  },
  {
   "cell_type": "markdown",
   "metadata": {},
   "source": [
    "### Translation\n",
    "\n",
    "Some university names are displayed in their country's language.We need to translate them in order to make them correspond between the rankings."
   ]
  },
  {
   "cell_type": "code",
   "execution_count": null,
   "metadata": {
    "collapsed": true
   },
   "outputs": [],
   "source": [
    "#Translation method\n",
    "def translate(df, languages):\n",
    "    for index, row in df.iterrows():\n",
    "        en_blob = TextBlob(row['University'])\n",
    "        if en_blob.detect_language() in languages:\n",
    "            a = en_blob.translate(to='en')\n",
    "            df.loc[index, 'University'] = str(a)\n"
   ]
  },
  {
   "cell_type": "code",
   "execution_count": null,
   "metadata": {
    "collapsed": true
   },
   "outputs": [],
   "source": [
    "translate(qs_df, ['de', 'es', 'ms', 'ca', 'la', 'fr'])\n",
    "translate(the_df, ['de', 'es', 'ms', 'la', 'fr'])"
   ]
  },
  {
   "cell_type": "markdown",
   "metadata": {},
   "source": [
    "### Result DataFrame"
   ]
  },
  {
   "cell_type": "markdown",
   "metadata": {},
   "source": [
    "We can know concatenate both DataFrames while also keeping track of both rankings."
   ]
  },
  {
   "cell_type": "code",
   "execution_count": null,
   "metadata": {
    "scrolled": true
   },
   "outputs": [],
   "source": [
    "# Merging along the University column\n",
    "result = pd.merge(qs_df, the_df, how='outer', on='University')\n",
    "\n",
    "# Drop and rename columns\n",
    "result = result.drop(['country_x'], axis=1)\n",
    "result = result.rename(index=str, columns={ \"country_y\" : \"country\"});\n",
    "\n",
    "# Concatenation\n",
    "result = pd.concat([result.filter(like='University'),\n",
    "                  result.filter(items=['country', 'region']), result.filter(like='rank'), \n",
    "                  result.filter(like='Ratio Int. Students'), result.filter(like='Ratio Students/Staff')],  \n",
    "                  axis=1,  \n",
    "                  keys=('University', 'Location', 'Rank','Ratio Int. Students', 'Ratio Students/Staff'))\n",
    "\n",
    "# Rename of the different columns for better clarity\n",
    "result = result.rename(index=str, columns={ \"QS rank\" : \"QS\", \"THE rank\" : \"THE\", 'QS Ratio Int. Students': 'QS',\n",
    "                                          'THE Ratio Int. Students': 'THE', 'QS Ratio Students/Staff' : 'QS',\n",
    "                                          'THE Ratio Students/Staff' : 'THE'});\n",
    "\n",
    "# Rename Nan value to NoMatch for a better vizualisation\n",
    "result.fillna('NoMatch', inplace=True)\n",
    "\n",
    "result.head(10)"
   ]
  },
  {
   "cell_type": "markdown",
   "metadata": {},
   "source": [
    "We had some troubles with the name of the certain schools at time to merge. This can be explained by the fact that some names are very different from one website to another.\n",
    "\n",
    "Notice also that, after the merge, we have more than 200 university on the datafram. It is because we have different universities on the top 200 on each website so the addition of the booth create a more longer datafram."
   ]
  },
  {
   "cell_type": "markdown",
   "metadata": {},
   "source": [
    "# Task 4 - Exploratory Analysis"
   ]
  },
  {
   "cell_type": "markdown",
   "metadata": {},
   "source": [
    "We want to find the different correlations that may happen between different variables of our resulting dataset. We will plot different values among each other to find any interesting behavior. To be able to plot values along the country names and region, we assign some numbers to them."
   ]
  },
  {
   "cell_type": "code",
   "execution_count": null,
   "metadata": {
    "collapsed": true
   },
   "outputs": [],
   "source": [
    "# We remplace the name of country/region by a number for the plot\n",
    "\n",
    "result_tmp = result.replace(\"NoMatch\", np.nan).replace(\"NoRatio\", np.nan)\n",
    "\n",
    "countryList = result_tmp['Location']['country'].unique()  # List the different country\n",
    "countryList = [x for x in countryList if str(x) != 'nan'] # Remove Nan values\n",
    "countryDict = {k: v for v, k in enumerate(countryList)}   # Transforme to dict\n",
    "\n",
    "regionList = result_tmp['Location']['region'].unique() \n",
    "regionList = [x for x in regionList if str(x) != 'nan']\n",
    "regionDict = {k: v for v, k in enumerate(regionList)}\n",
    "\n",
    "result_tmp = result_tmp.replace({\"Location\": countryDict}).replace({\"Location\": regionDict})"
   ]
  },
  {
   "cell_type": "code",
   "execution_count": null,
   "metadata": {},
   "outputs": [],
   "source": [
    "# Plot\n",
    "\n",
    "plt.figure(figsize=(30, 50), dpi=60, facecolor='w', edgecolor='k')\n",
    "plt.rcParams.update({'font.size': 25})\n",
    "\n",
    "plt.subplot(4,1,1)\n",
    "plt.scatter(result_tmp['Rank']['QS'], result_tmp['Ratio Int. Students']['QS'], s=200, label='QS')\n",
    "plt.scatter(result_tmp['Rank']['THE'], result_tmp['Ratio Int. Students']['THE'], s=200, label='THE')\n",
    "plt.xlabel(\"Rank\")\n",
    "plt.legend(loc='upper right');\n",
    "plt.ylabel(\"Ratio Int. Students\")\n",
    "plt.title(\"Ratio International/Total Students in function of the Rank\")\n",
    "\n",
    "plt.subplot(4,1,2)\n",
    "plt.scatter(result_tmp['Rank']['QS'], result_tmp['Ratio Students/Staff']['QS'], s=200, label='QS')\n",
    "plt.scatter(result_tmp['Rank']['THE'], result_tmp['Ratio Students/Staff']['THE'], s=200, label='THE')\n",
    "plt.xlabel(\"Rank\")\n",
    "plt.xlabel(\"Rank\")\n",
    "plt.legend(loc='upper right');\n",
    "plt.ylabel(\"Ratio Students/Staff\")\n",
    "\n",
    "plt.title(\"Ratio Students/Staff in function of the Rank\")\n",
    "\n",
    "plt.figure(figsize=(30,80), dpi=60, facecolor='w', edgecolor='k')\n",
    "\n",
    "plt.subplot(4,1,3)\n",
    "plt.scatter(result_tmp['Rank']['QS'], result_tmp['Location']['country'], s=200, label='QS')\n",
    "plt.scatter(result_tmp['Rank']['THE'], result_tmp['Location']['country'], s=200, label='THE')\n",
    "plt.xlabel(\"Rank\")\n",
    "plt.ylabel(\"Country\")\n",
    "plt.legend(loc='upper right');\n",
    "plt.title(\"Country in function of the Rank\")\n",
    "plt.yticks(range(0, np.shape(countryList)[0], 1), countryList)\n",
    "\n",
    "plt.figure(figsize=(30,40), dpi=60, facecolor='w', edgecolor='k')\n",
    "\n",
    "plt.subplot(4,1,4)\n",
    "plt.scatter(result_tmp['Rank']['QS'], result_tmp['Location']['region'], s=200, label='QS')\n",
    "plt.scatter(result_tmp['Rank']['THE'], result_tmp['Location']['region'], s=200, label='THE')\n",
    "plt.xlabel(\"Rank\")\n",
    "plt.legend(loc='upper right');\n",
    "plt.ylabel(\"Region\")\n",
    "plt.title(\"Region in function of the Rank\")\n",
    "plt.yticks(range(0, np.shape(regionList)[0], 1), regionList)\n",
    "\n",
    "plt.show()"
   ]
  },
  {
   "cell_type": "markdown",
   "metadata": {},
   "source": [
    "We observe many different things from the plots presented above. \n",
    "\n",
    "By plotting the ratio of international students with the university rank, we first observe that both rankings span values in the same range. This is reassuring on the quality of the extracted values as they are consistent. Then, we observe a small tendancy to have a best university when there is more international students. This could be explained with students eager to move in a new country to a university only if it is well-ranked.\n",
    "\n",
    "By plotting the ratio of students per faculty staff, we first observe that both rankings do not span values in the same range. Maybe both rankings don't have the same methodology to count a university staff, i.e. one may not count the administrative part but only the scientific one. Again, there is a small tendancy to have more staff per student in a well-ranked university.\n",
    "\n",
    "Now, if we look at the country displayed depending on the rank. We may observe that the THE ranking is ranking well a lot of Universities from the United States. Not much can be seen expect from that on this graph.\n",
    "\n",
    "If we now take into account the region, the graph displays more informations. Both Europe and North America present a great number of universities in the top 200. But North America presents a bigger density among the top 30 universities, when Europe spans mainly between the 80 to 180 ranks."
   ]
  },
  {
   "cell_type": "markdown",
   "metadata": {
    "collapsed": true
   },
   "source": [
    "## Task 5 - Finding the Best University"
   ]
  },
  {
   "cell_type": "markdown",
   "metadata": {},
   "source": [
    "It is nearly impossible to define accuratly the best university, if we want to make a certain kind of university better ranked, we could rearrange the notation of the ranking. \n",
    "\n",
    "In this case, we want to use the data at our disposal to find the best university according to both the QS and THE rankings. As they both span different notations method (i.e. THE gives a bigger importance to the industry income), combining them might flatten a bit their respective biases. \n",
    "\n",
    "To perform our calcultation, we only keep the best 6 universities from both rankings. They are the same in both, just with different orders. We want to give the best university title to the one that performs consistents results on both rankings, meaning that the university performs well on a broader range of notations.  For that, we take the average of their rankings to which we add its variance. Therefore the university which is the most stable will be rewarded."
   ]
  },
  {
   "cell_type": "code",
   "execution_count": null,
   "metadata": {},
   "outputs": [],
   "source": [
    "best_result = result[:6]\n",
    "score = []\n",
    "for index, row in best_result.iterrows():\n",
    "    average = (float(row['Rank']['QS']) + float(row['Rank']['THE']))/2\n",
    "    variance = (float(row['Rank']['QS'])-average)**2 + (float(row['Rank']['THE'])-average)**2\n",
    "    score.append(average + variance)\n",
    "    #best_result.set_value(index, 'Score Total', average + variance)\n",
    "    \n",
    "kwargs = {\"Score Total\" : lambda x: score}\n",
    "best_result = best_result.assign(**kwargs);"
   ]
  },
  {
   "cell_type": "code",
   "execution_count": null,
   "metadata": {},
   "outputs": [],
   "source": [
    "best_result"
   ]
  },
  {
   "cell_type": "markdown",
   "metadata": {},
   "source": [
    "With a final score of 4.0, the California Institute of Technology is the most stable university among both rankings. We will define it as our Best University."
   ]
  },
  {
   "cell_type": "code",
   "execution_count": null,
   "metadata": {
    "collapsed": true
   },
   "outputs": [],
   "source": [
    "result"
   ]
  },
  {
   "cell_type": "code",
   "execution_count": null,
   "metadata": {
    "collapsed": true
   },
   "outputs": [],
   "source": []
  }
 ],
 "metadata": {
  "kernelspec": {
   "display_name": "Python 3",
   "language": "python",
   "name": "python3"
  },
  "language_info": {
   "codemirror_mode": {
    "name": "ipython",
    "version": 3
   },
   "file_extension": ".py",
   "mimetype": "text/x-python",
   "name": "python",
   "nbconvert_exporter": "python",
   "pygments_lexer": "ipython3",
   "version": "3.6.2"
  }
 },
 "nbformat": 4,
 "nbformat_minor": 2
}
