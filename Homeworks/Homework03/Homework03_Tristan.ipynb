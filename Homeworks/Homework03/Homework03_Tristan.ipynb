{
 "cells": [
  {
   "cell_type": "markdown",
   "metadata": {},
   "source": [
    "# Homework 3 - Interactive Viz"
   ]
  },
  {
   "cell_type": "code",
   "execution_count": 2,
   "metadata": {
    "collapsed": false
   },
   "outputs": [],
   "source": [
    "import pandas as pd\n",
    "import math\n",
    "import numpy as np\n",
    "import matplotlib.pyplot as plt\n",
    "import os\n",
    "import json\n",
    "import folium\n",
    "import re\n",
    "import sys\n",
    "import branca.colormap as cm"
   ]
  },
  {
   "cell_type": "markdown",
   "metadata": {},
   "source": [
    "## European unemployment rates"
   ]
  },
  {
   "cell_type": "markdown",
   "metadata": {},
   "source": [
    "_Go to the [eurostat](http://ec.europa.eu/eurostat/data/database) website and try to find a dataset that includes the european unemployment rates at a recent date._\n",
    "\n",
    "   _Use this data to build a _[Choropleth map](https://en.wikipedia.org/wiki/Choropleth_map) _which shows the unemployment rate in Europe at a country level. Think about [the colors you use](https://carto.com/academy/courses/intermediate-design/choose-colors-1/),how you decided to [split the intervals into data classes](http://gisgeography.com/choropleth-maps-data-classification/) or which interactions you could add in order to make the visualization intuitive and expressive. Compare Switzerland's unemployment rate to that of the rest of Europe._"
   ]
  },
  {
   "cell_type": "markdown",
   "metadata": {},
   "source": [
    "On the eurostat website, we found our dataset under 'Database by themes/Population and social conditions/Labour Market(labour)/Employment and unemployment/LFS main indicators/Unemployment - LFS adjusted series/Unemployment by sex and age - annual average'. It provides the unemployment rates up to 2016 for all european countries. On the contrary of its name, both sex and all ages are mixed."
   ]
  },
  {
   "cell_type": "markdown",
   "metadata": {},
   "source": [
    "### DataFrame preparation"
   ]
  },
  {
   "cell_type": "markdown",
   "metadata": {},
   "source": [
    "We begin by preparing the csv file into a DataFrame. We only keep the measurements the most recent (the ones in 2016), then we only keep as an employment metric the percentage of active population. All others columns are dropped. \n",
    "\n",
    "We observed that Germany was presenting undesired value in parenthesis, thus we delete it."
   ]
  },
  {
   "cell_type": "code",
   "execution_count": null,
   "metadata": {
    "collapsed": false
   },
   "outputs": [],
   "source": [
    "CSV_PATH = 'data/question1/une_rt_a_1_Data.csv'\n",
    "europe_df = pd.read_csv(CSV_PATH) \n",
    "\n",
    "# Cleaning Dataset\n",
    "europe_df = europe_df.loc[europe_df['TIME'] == 2016]\n",
    "europe_df = europe_df.loc[europe_df['UNIT'] == 'Percentage of active population']\n",
    "europe_df = europe_df.drop(['TIME','AGE', 'SEX','UNIT','Flag and Footnotes'], axis = 1)\n",
    "europe_df = europe_df[6:]\n",
    "europe_df = europe_df[:30]\n",
    "\n",
    "# Clean Germany's name\n",
    "europe_df['GEO'] = europe_df['GEO'].str.replace(r\"\\(.*\\)\",\"\")\n",
    "\n",
    "# Define the rate as a float\n",
    "europe_df['Value'] = europe_df['Value'].astype(float)\n",
    "\n",
    "europe_df_copy = europe_df\n",
    "\n",
    "# Delete Cyprus and Malta\n",
    "europe_df = europe_df[~(europe_df['GEO'] == 'Cyprus')]\n",
    "europe_df = europe_df[~(europe_df['GEO'] == 'Malta')]\n",
    "\n",
    "europe_df.head()"
   ]
  },
  {
   "cell_type": "markdown",
   "metadata": {},
   "source": [
    "We know have a DataFrame containing informations about all UE countries. However, the topojson file contains more countries than our DataFrame, like Israel for example. In order to produce a pertinent plot, we have to 'grey-out' all countries for which we don't have a value. To do so, we will add every new country of the topojson to our dataframe while giving a rate value of -1."
   ]
  },
  {
   "cell_type": "code",
   "execution_count": null,
   "metadata": {
    "collapsed": false
   },
   "outputs": [],
   "source": [
    "# Load topoJson\n",
    "state_topo_path = r'topojson/europe.topojson.json'\n",
    "topo_json_data = json.load(open(state_topo_path))"
   ]
  },
  {
   "cell_type": "code",
   "execution_count": null,
   "metadata": {
    "collapsed": false
   },
   "outputs": [],
   "source": [
    "length = europe_df.shape[0]\n",
    "for i in range(0,51):\n",
    "    present = 0\n",
    "    for index, row in europe_df.iterrows():\n",
    "        if row['GEO'] == topo_json_data['objects']['europe']['geometries'][i]['properties']['NAME']:\n",
    "            present = 1\n",
    "            presence_row = row\n",
    "    if present == 0:\n",
    "        if topo_json_data['objects']['europe']['geometries'][i]['properties']['NAME'] == 'Switzerland':\n",
    "            europe_df.loc[-1] = [topo_json_data['objects']['europe']['geometries'][i]['properties']['NAME'],3.5]\n",
    "        else:\n",
    "            europe_df.loc[-1] = [topo_json_data['objects']['europe']['geometries'][i]['properties']['NAME'],-1]  # adding a row\n",
    "        europe_df.index = europe_df.index + 1  # shifting index\n",
    "        europe_df = europe_df.sort_index()\n",
    "        #europe_df = europe_df.append({'GEO'}: topo_json_data['objects']['europe']['geometries'][i]['properties']['NAME'], {'Value'}: 'NaN', ignore_index=True)\n",
    "\n",
    "europe_df = europe_df[~(europe_df['GEO'] == 'Germany')]"
   ]
  },
  {
   "cell_type": "markdown",
   "metadata": {},
   "source": [
    "### Map of european unemployment rate"
   ]
  },
  {
   "cell_type": "code",
   "execution_count": null,
   "metadata": {
    "collapsed": true
   },
   "outputs": [],
   "source": [
    "# Define the legend\n",
    "legend_ = cm.StepColormap(\n",
    "    ['#fcfcfc','#FAF5D0', '#FAED88', '#FCDF02', '#FABB82','#ff6600','#ff0000'],\n",
    "    vmin=2, vmax=14,\n",
    "    index=[3, 4, 6, 8, 10, 12],\n",
    "    caption='step'\n",
    ")"
   ]
  },
  {
   "cell_type": "code",
   "execution_count": null,
   "metadata": {
    "collapsed": false
   },
   "outputs": [],
   "source": [
    "def unemployment_color(state):\n",
    "    # Bug with Germany value\n",
    "    if state == 'Germany':\n",
    "        value = 4.1\n",
    "    else:\n",
    "        value = float(europe_df.loc[europe_df['GEO'] == state, 'Value'].values)\n",
    "        \n",
    "    if value < 0:\n",
    "        return '#000000'\n",
    "    elif value < 4:\n",
    "        return '#FAF5D0'\n",
    "    elif value < 6:\n",
    "        return '#FAED88'\n",
    "    elif value < 8:\n",
    "        return '#FCDF02'\n",
    "    elif value < 10:\n",
    "        return '#FABB82'\n",
    "    elif value < 12:\n",
    "        return '#ff6600'  \n",
    "    else:\n",
    "        return '#ff0000'\n",
    "\n",
    "    \n",
    "results_map = folium.Map([54,17], tiles='cartodbpositron', zoom_start=4)\n",
    "folium.TopoJson(\n",
    "    data = topo_json_data,\n",
    "    object_path = 'objects.europe',\n",
    "    style_function=lambda feature: {\n",
    "        'fillColor': unemployment_color(feature['properties']['NAME']),\n",
    "        'color' : 'black',\n",
    "        'weight' : 1,\n",
    "        'opacity': 0.5}).add_to(results_map)\n",
    "\n",
    "results_map"
   ]
  },
  {
   "cell_type": "code",
   "execution_count": null,
   "metadata": {
    "collapsed": false
   },
   "outputs": [],
   "source": [
    "legend_"
   ]
  },
  {
   "cell_type": "markdown",
   "metadata": {},
   "source": [
    "On the graph above, one can observe the unemployment rate for most european countries. For countries which are not part of the EU, nor Switzerland will appear in grey. For all the others, a Standard Deviation Classification is chosen to separate the different unemployment rates, going from white to red while passing through yellow. The standard deviation is valued at 4.5, in order to show bigger differences we will separate the colors by half the standard deviation which is around 2. The countries in light yellow present a rate lower than 4%, yellow with 6%, light orange with 8% , orange with 10% and red for anything above."
   ]
  },
  {
   "cell_type": "markdown",
   "metadata": {},
   "source": [
    "### Comparison with Switzerland"
   ]
  },
  {
   "cell_type": "markdown",
   "metadata": {},
   "source": [
    "Switzerland has already been added to our DataFrame, with an unemployment value of 3.5% taken from [here](https://tradingeconomics.com/switzerland/unemployment-rate) for December 2016. To compare it with others, we use a barplot showing every country unemployment rate listed by decreasing order."
   ]
  },
  {
   "cell_type": "code",
   "execution_count": null,
   "metadata": {
    "collapsed": true
   },
   "outputs": [],
   "source": [
    "# Add Switzerland Value\n",
    "europe_df = europe_df_copy\n",
    "europe_df.loc[-1] = ['Switzerland',3.5]  # adding a row\n",
    "europe_df.index = europe_df.index + 1  # shifting index\n",
    "europe_df = europe_df.sort_index()\n",
    "    \n",
    "# Sort by descending order\n",
    "result_df = europe_df.sort_values(by = ['Value'], ascending = False)"
   ]
  },
  {
   "cell_type": "code",
   "execution_count": null,
   "metadata": {
    "collapsed": false
   },
   "outputs": [],
   "source": [
    "# Setting the positions and width for the bars\n",
    "pos = list(range(len(result_df['Value']))) \n",
    "width = 0.35\n",
    "\n",
    "# Plotting the bars\n",
    "fig, ax = plt.subplots(figsize=(20,10))\n",
    "\n",
    "# Create a bar with pre_score data,\n",
    "# in position pos,\n",
    "barlist = plt.bar(pos, \n",
    "        #using df['pre_score'] data,\n",
    "        result_df['Value'], \n",
    "        # of width\n",
    "        width, \n",
    "        # with alpha 0.5\n",
    "        alpha=0.5, \n",
    "        # with color\n",
    "        color='#EE3224', \n",
    "        # with label the first value in first_name\n",
    "        label=result_df['GEO']) \n",
    "\n",
    "# Plot Switzerland in blue\n",
    "barlist[29].set_color('b')\n",
    "\n",
    "# Set the y axis label\n",
    "ax.set_ylabel('Score')\n",
    "\n",
    "# Set the chart's title\n",
    "ax.set_title('Unemployment Rates in Europe')\n",
    "\n",
    "# Set the position of the x ticks\n",
    "ax.set_xticks([p + 1 * width for p in pos])\n",
    "\n",
    "# Set the labels for the x ticks\n",
    "ax.set_xticklabels(result_df['GEO'], rotation='vertical')\n",
    "\n",
    "# Setting the x-axis and y-axis limits\n",
    "plt.xlim(min(pos)-width, max(pos)+width)\n",
    "plt.ylim([0, max(result_df['Value'])+1] )\n",
    "\n",
    "# Adding the legend and showing the plot\n",
    "plt.grid()\n",
    "plt.show()"
   ]
  },
  {
   "cell_type": "markdown",
   "metadata": {},
   "source": [
    "The unemployment rate in Switzerland appears much lower than any other European country, with only Iceland showing a lower value."
   ]
  },
  {
   "cell_type": "markdown",
   "metadata": {},
   "source": [
    "## Swiss Cantons unemployement"
   ]
  },
  {
   "cell_type": "markdown",
   "metadata": {},
   "source": [
    "_Go to the [amstat](https://www.amstat.ch) website to find a dataset that includes the unemployment rates in Switzerland at a recent date._\n",
    "\n",
    "   > *HINT* Go to the `details` tab to find the raw data you need. If you do not speak French, German or Italian, think of using free translation services to navigate your way through. \n",
    "\n",
    "  _ Use this data to build another Choropleth map, this time showing the unemployment rate at the level of swiss cantons. Again, try to make the map as expressive as possible, and comment on the trends you observe._\n",
    "\n",
    "  _ The Swiss Confederation defines the rates you have just plotted as the number of people looking for a job divided by the size of the active population (scaled by 100). This is surely a valid choice, but as we discussed one could argue for a different categorization._\n",
    "\n",
    "  _ Copy the map you have just created, but this time don't count in your statistics people who already have a job and are looking for a new one. How do your observations change ? You can repeat this with different choices of categories to see how selecting different metrics can lead to different interpretations of the same data._"
   ]
  },
  {
   "cell_type": "code",
   "execution_count": null,
   "metadata": {
    "collapsed": false
   },
   "outputs": [],
   "source": []
  },
  {
   "cell_type": "markdown",
   "metadata": {},
   "source": [
    "## Foreign workers in Switzerland"
   ]
  },
  {
   "cell_type": "markdown",
   "metadata": {},
   "source": [
    "\n",
    "_Use the [amstat](https://www.amstat.ch) website again to find a dataset that includes the unemployment rates in Switzerland at recent date, this time making a distinction between *Swiss* and *foreign* workers._\n",
    "\n",
    "  _The Economic Secretary (SECO) releases [a monthly report](https://www.seco.admin.ch/seco/fr/home/Arbeit/Arbeitslosenversicherung/arbeitslosenzahlen.html) on the state of the employment market. In the latest report (September 2017), it is noted that there is a discrepancy between the unemployment rates for *foreign* (`5.1%`) and *Swiss* (`2.2%`) workers. _\n",
    "\n",
    "  _ Show the difference in unemployment rates between the two categories in each canton on a Choropleth map (*hint* The easy way is to show two separate maps, but can you think of something better ?). Where are the differences most visible ? Why do you think that is ?_\n",
    "\n",
    "  _ Now let's refine the analysis by adding the differences between age groups. As you may have guessed it is nearly impossible to plot so many variables on a map. Make a bar plot, which is a better suited visualization tool for this type of multivariate data._"
   ]
  },
  {
   "cell_type": "markdown",
   "metadata": {},
   "source": [
    "### Preparation of DataFrame"
   ]
  },
  {
   "cell_type": "markdown",
   "metadata": {},
   "source": [
    "For this exercise, we need to keep track of the unemployment rate for both the locals and foreigners. We first use our dataset found on the [amstat](www.amstat.ch) website. From there, we discard all the columns in which we don't have interest. From there, we will match the cantons ID from the topojson with our dataframe using informations found on wikidata (as done in exercise 2)."
   ]
  },
  {
   "cell_type": "code",
   "execution_count": null,
   "metadata": {
    "collapsed": true
   },
   "outputs": [],
   "source": [
    "TXT_PATH = 'data/question_2_3/swiss_unemployment.txt'\n",
    "switzerland_df = pd.read_table(TXT_PATH, ',') \n",
    "\n",
    "# Cleaning the Dataset / Re-naming columns\n",
    "switzerland_df = switzerland_df.drop('Mois', 1)\n",
    "switzerland_df = switzerland_df.drop(switzerland_df.index[[0]])\n",
    "switzerland_df = switzerland_df.drop(switzerland_df.index[[len(switzerland_df) - 1]])\n",
    "switzerland_df = switzerland_df.rename(index=str, columns={ \"Total\" : \"Taux de chômage\", \"Total.1\" : \"Chômeurs inscrits\"});\n",
    "cols = [col for col in switzerland_df.columns if col  in ['Canton', 'Nationalité', 'Taux de chômage', 'Chômeurs inscrits']]\n",
    "switzerland_df = switzerland_df[cols]\n",
    "\n",
    "switzerland_df['Chômeurs inscrits'] = switzerland_df['Chômeurs inscrits'].str.replace(\"'\", \"\")"
   ]
  },
  {
   "cell_type": "code",
   "execution_count": null,
   "metadata": {
    "collapsed": false
   },
   "outputs": [],
   "source": [
    "switzerland_df.head()"
   ]
  },
  {
   "cell_type": "code",
   "execution_count": null,
   "metadata": {
    "collapsed": false
   },
   "outputs": [],
   "source": [
    "previous_canton = 'None'\n",
    "foreign_unempl = 0\n",
    "swiss_df = pd.DataFrame(columns=['Canton','ID','Difference Foreigners-Locals'])\n",
    "\n",
    "# Create a new DataFrame that contains the differences and the ID for each canton\n",
    "# As all cantons gets two lines (one for locals and one for foreigners), we also reunite them with an if statement\n",
    "for index, row in switzerland_df.iterrows():\n",
    "    if row['Canton'] == previous_canton:\n",
    "        swiss_df.loc[-1] = [row['Canton'],'NaN',float(foreign_unempl) - float(row['Taux de chômage'])]\n",
    "        swiss_df.index = swiss_df.index + 1  # shifting index\n",
    "        swiss_df = swiss_df.sort_index()\n",
    "    else:\n",
    "        previous_canton = row['Canton']\n",
    "        foreign_unempl = row['Taux de chômage']"
   ]
  },
  {
   "cell_type": "code",
   "execution_count": null,
   "metadata": {
    "collapsed": false
   },
   "outputs": [],
   "source": [
    "# TO_DO - Changer avec le nouveau bail de Jeannot\n",
    "ID_list = ['JU','GE','NE','VS','VD','TI','TG','AG','GR','SG','AI','AR','SH','BL','BS','SO','FR','ZG','GL','NW','OW','SZ','UR','LU','BE','ZH']\n",
    "swiss_df['ID'] = ID_list  \n",
    "swiss_df.head()"
   ]
  },
  {
   "cell_type": "code",
   "execution_count": null,
   "metadata": {
    "collapsed": false
   },
   "outputs": [],
   "source": [
    "canton_topo_path = r'topojson/ch-cantons.topojson.json'\n",
    "topo_json_data = json.load(open(canton_topo_path))"
   ]
  },
  {
   "cell_type": "markdown",
   "metadata": {},
   "source": [
    "### Difference in unemployment rates between locals and foreigners in each canton"
   ]
  },
  {
   "cell_type": "code",
   "execution_count": null,
   "metadata": {
    "collapsed": false
   },
   "outputs": [],
   "source": [
    "# Define the legend\n",
    "legend__ = cm.StepColormap(\n",
    "    ['#FAF5D0','#FAED88','#FCDF02','#FABB82', '#ff6600', '#b30000'],\n",
    "    vmin=1, vmax=6,\n",
    "    index=[1.1,2, 2.8, 3.7, 4.6, 5.5],\n",
    "    caption='step'\n",
    ")"
   ]
  },
  {
   "cell_type": "code",
   "execution_count": null,
   "metadata": {
    "collapsed": false
   },
   "outputs": [],
   "source": [
    "# Color Scale\n",
    "def unemployment_color(canton):\n",
    "\n",
    "    value = float(swiss_df.loc[swiss_df['ID'] == canton, 'Difference Foreigners-Locals'].values)\n",
    "        \n",
    "    if value < 0:\n",
    "        return '#000000'\n",
    "    elif value < 2:\n",
    "        return '#FAED88'#4dd400'\n",
    "    elif value < 2.8:\n",
    "        return '#FCDF02'#55aa00'\n",
    "    elif value < 3.7:\n",
    "        return '#FABB82'\n",
    "    elif value < 4.6:\n",
    "        return '#ff6600'  \n",
    "    elif value < 5.5:\n",
    "        return '#b30000'\n",
    "    else:\n",
    "        return '#b30000'\n",
    "\n",
    "# TO DO - TROUVER COMMENT CHANGER L'OPACITE  \n",
    "# Plot of the map\n",
    "results_map = folium.Map([46.8,8.2], tiles='cartodbpositron', zoom_start=8)\n",
    "folium.TopoJson(\n",
    "    data = topo_json_data,\n",
    "    object_path = 'objects.cantons',\n",
    "    style_function=lambda feature: {\n",
    "        'fillColor': unemployment_color(feature['id']),\n",
    "        'opacity': 1,\n",
    "        'color' : 'black',\n",
    "        'weight' : 1.5,\n",
    "        'opacity':0.5\n",
    "        }).add_to(results_map)\n",
    "\n",
    "results_map"
   ]
  },
  {
   "cell_type": "code",
   "execution_count": null,
   "metadata": {
    "collapsed": false
   },
   "outputs": [],
   "source": [
    "legend__"
   ]
  },
  {
   "cell_type": "markdown",
   "metadata": {},
   "source": [
    "The colorscale chosen in the map above depends on the Standard Deviation Classification. By observing the values of the Difference in unemployment rates, we notice that the standard deviation of the data is equal to $std = 0.9$. Therefore, we define the minimum of our colorscale at 1.1 (the minimum value) and progress with one $\\sigma$ at a time.\n",
    "\n",
    "The two Cantons where we observe the lowest value are Geneva and Obwald. Two cantons that are drastically different in their nature. Geneva lies next to the border with France, therefore a lot of 'frontaliers' (people living in France and working in Geneva) won't be counted for the unemployment rate, as the foreigners will live in France where life is less expensive. On another hand, Obwald is a central canton, located south of Lucerne. Here, the low number of foreigners might explain this low rate. \n",
    "\n",
    "One observation for the highest rates comes from the absence of big cities in them. For example, Jura and Valais are both next to a border, but they present a lack of attractive cities for foreigners to come and jobs to flourish."
   ]
  },
  {
   "cell_type": "markdown",
   "metadata": {},
   "source": [
    "### Difference in unemployment rates between age groups"
   ]
  },
  {
   "cell_type": "markdown",
   "metadata": {},
   "source": [
    "We will now look at the differences of unemployment between age groups per cantons. In order to do that, we need a new dataset from [amstat](www.amstat.ch) containing the age category. We took the unemployment rates for September 2017, with 3 age categories: 15-24 years old, 25-49 years old and more than 50 years old."
   ]
  },
  {
   "cell_type": "code",
   "execution_count": 13,
   "metadata": {
    "collapsed": false
   },
   "outputs": [
    {
     "data": {
      "text/html": [
       "<div>\n",
       "<style>\n",
       "    .dataframe thead tr:only-child th {\n",
       "        text-align: right;\n",
       "    }\n",
       "\n",
       "    .dataframe thead th {\n",
       "        text-align: left;\n",
       "    }\n",
       "\n",
       "    .dataframe tbody tr th {\n",
       "        vertical-align: top;\n",
       "    }\n",
       "</style>\n",
       "<table border=\"1\" class=\"dataframe\">\n",
       "  <thead>\n",
       "    <tr style=\"text-align: right;\">\n",
       "      <th></th>\n",
       "      <th>Canton</th>\n",
       "      <th>Age</th>\n",
       "      <th>Taux de chômage</th>\n",
       "    </tr>\n",
       "  </thead>\n",
       "  <tbody>\n",
       "    <tr>\n",
       "      <th>0</th>\n",
       "      <td>Zurich</td>\n",
       "      <td>1.0</td>\n",
       "      <td>3.7</td>\n",
       "    </tr>\n",
       "    <tr>\n",
       "      <th>1</th>\n",
       "      <td>Zurich</td>\n",
       "      <td>2.0</td>\n",
       "      <td>3.4</td>\n",
       "    </tr>\n",
       "    <tr>\n",
       "      <th>2</th>\n",
       "      <td>Zurich</td>\n",
       "      <td>3.0</td>\n",
       "      <td>2.9</td>\n",
       "    </tr>\n",
       "    <tr>\n",
       "      <th>3</th>\n",
       "      <td>Berne</td>\n",
       "      <td>1.0</td>\n",
       "      <td>2.8</td>\n",
       "    </tr>\n",
       "    <tr>\n",
       "      <th>4</th>\n",
       "      <td>Berne</td>\n",
       "      <td>2.0</td>\n",
       "      <td>2.5</td>\n",
       "    </tr>\n",
       "  </tbody>\n",
       "</table>\n",
       "</div>"
      ],
      "text/plain": [
       "   Canton  Age  Taux de chômage\n",
       "0  Zurich  1.0              3.7\n",
       "1  Zurich  2.0              3.4\n",
       "2  Zurich  3.0              2.9\n",
       "3   Berne  1.0              2.8\n",
       "4   Berne  2.0              2.5"
      ]
     },
     "execution_count": 13,
     "metadata": {},
     "output_type": "execute_result"
    }
   ],
   "source": [
    "TXT_PATH = 'data/question_2_3/jeune_vieux.txt'\n",
    "\n",
    "age_df = pd.read_table(TXT_PATH, ',') \n",
    "age_df = age_df.drop(['25-49','Septembre 2017','Mesures','Coefficients de variation', 'Chômeurs inscrits','Taux de chômage.1','Total','Total_N','Total2'], axis = 1)\n",
    "age_df = age_df.rename(index=str, columns={ \"Classes d'âge 15-24\" : \"Age\"});\n",
    "age_df = age_df[:78]\n",
    "age_df.head()"
   ]
  },
  {
   "cell_type": "code",
   "execution_count": 14,
   "metadata": {
    "collapsed": false
   },
   "outputs": [
    {
     "data": {
      "image/png": "[encoded data removed]",
      "text/plain": [
       "<matplotlib.figure.Figure at 0x12089f510>"
      ]
     },
     "metadata": {},
     "output_type": "display_data"
    }
   ],
   "source": [
    "N = 26\n",
    "young = age_df[age_df['Age']==1]\n",
    "young = young['Taux de chômage'].values\n",
    "\n",
    "ind = np.arange(N)  # the x locations for the groups\n",
    "width = 0.2       # the width of the bars\n",
    "\n",
    "fig, ax = plt.subplots(figsize=(20,10))\n",
    "rects1 = ax.bar(ind, young, width, color='#FAED88')\n",
    "\n",
    "middle = age_df[age_df['Age']==2]\n",
    "middle = middle['Taux de chômage'].values\n",
    "rects2 = ax.bar(ind + width,middle, width, color='#FABB82')\n",
    "\n",
    "old = age_df[age_df['Age']==3]\n",
    "old = old['Taux de chômage'].values\n",
    "rects3 = ax.bar(ind + 2*width,old, width, color='#b30000')\n",
    "\n",
    "ID_list = ['JU','GE','NE','VS','VD','TI','TG','AG','GR','SG','AI','AR','SH','BL','BS','SO','FR','ZG','GL','NW','OW','SZ','UR','LU','BE','ZH']\n",
    "\n",
    "# add some text for labels, title and axes ticks\n",
    "ax.set_ylabel('Unemployment rate')\n",
    "ax.set_title('Unemployment rate per canton and per age category')\n",
    "ax.set_xticks(ind + width)\n",
    "ax.set_xticklabels(reversed(ID_list))\n",
    "\n",
    "ax.legend((rects1[0], rects2[0],rects3[0]), ('15-24 Years old', '25-49 Years old','>50 Years old'))\n",
    "\n",
    "plt.show()"
   ]
  },
  {
   "cell_type": "markdown",
   "metadata": {},
   "source": [
    "From the plot above, we can first observe that the age category suffering the most from unemployment is the younger one (15-24 years old), even if the values stay relatively low in comparison to other european countries. In most cantons, the ones with the higher unemployment rate will be the older ones (>50 years old)."
   ]
  },
  {
   "cell_type": "markdown",
   "metadata": {},
   "source": [
    "## Röstigraben"
   ]
  },
  {
   "cell_type": "markdown",
   "metadata": {},
   "source": [
    "_ *BONUS*: using the map you have just built, and the geographical information contained in it, could you give a *rough estimate* of the difference in unemployment rates between the areas divided by the [Röstigraben](https://en.wikipedia.org/wiki/R%C3%B6stigraben)?_"
   ]
  },
  {
   "cell_type": "code",
   "execution_count": null,
   "metadata": {
    "collapsed": true
   },
   "outputs": [],
   "source": []
  }
 ],
 "metadata": {
  "kernelspec": {
   "display_name": "Python 2",
   "language": "python",
   "name": "python2"
  },
  "language_info": {
   "codemirror_mode": {
    "name": "ipython",
    "version": 2
   },
   "file_extension": ".py",
   "mimetype": "text/x-python",
   "name": "python",
   "nbconvert_exporter": "python",
   "pygments_lexer": "ipython2",
   "version": "2.7.13"
  }
 },
 "nbformat": 4,
 "nbformat_minor": 2
}
