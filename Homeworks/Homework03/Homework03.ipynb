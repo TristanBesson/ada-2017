{
 "cells": [
  {
   "cell_type": "markdown",
   "metadata": {},
   "source": [
    "# Homework 3 - Interactive Viz"
   ]
  },
  {
   "cell_type": "code",
   "execution_count": 1,
   "metadata": {
    "collapsed": false
   },
   "outputs": [],
   "source": [
    "import pandas as pd\n",
    "import math\n",
    "import numpy as np\n",
    "import matplotlib.pyplot as plt\n",
    "import os\n",
    "import json\n",
    "import folium\n",
    "import re\n",
    "import sys"
   ]
  },
  {
   "cell_type": "markdown",
   "metadata": {},
   "source": [
    "## European unemployment rates"
   ]
  },
  {
   "cell_type": "markdown",
   "metadata": {},
   "source": [
    "_Go to the [eurostat](http://ec.europa.eu/eurostat/data/database) website and try to find a dataset that includes the european unemployment rates at a recent date._\n",
    "\n",
    "   _Use this data to build a _[Choropleth map](https://en.wikipedia.org/wiki/Choropleth_map) _which shows the unemployment rate in Europe at a country level. Think about [the colors you use](https://carto.com/academy/courses/intermediate-design/choose-colors-1/),how you decided to [split the intervals into data classes](http://gisgeography.com/choropleth-maps-data-classification/) or which interactions you could add in order to make the visualization intuitive and expressive. Compare Switzerland's unemployment rate to that of the rest of Europe._"
   ]
  },
  {
   "cell_type": "markdown",
   "metadata": {},
   "source": [
    "On the eurostat website, we found our dataset under 'Database by themes/Population and social conditions/Labour Market(labour)/Employment and unemployment/LFS main indicators/Unemployment - LFS adjusted series/Unemployment by sex and age - annual average'. It provides the unemployment rates up to 2016 for all european countries. On the contrary of its name, both sex and all ages are mixed."
   ]
  },
  {
   "cell_type": "code",
   "execution_count": null,
   "metadata": {
    "collapsed": false
   },
   "outputs": [],
   "source": [
    "CSV_PATH = 'data/question1/une_rt_a_1_Data.csv'\n",
    "\n",
    "europe_df = pd.read_csv(CSV_PATH) \n",
    "\n",
    "europe_df = europe_df.loc[europe_df['TIME'] == 2016]\n",
    "europe_df = europe_df.loc[europe_df['UNIT'] == 'Percentage of active population']\n",
    "europe_df = europe_df.drop(['TIME','AGE', 'SEX','UNIT','Flag and Footnotes'], axis = 1)\n",
    "europe_df = europe_df[6:]\n",
    "europe_df = europe_df[:30]\n",
    "# Clean Germany's name\n",
    "europe_df['GEO'] = europe_df['GEO'].str.replace(r\"\\(.*\\)\",\"\")\n",
    "europe_df['Value'] = europe_df['Value'].astype(float)\n",
    "europe_df = europe_df[~(europe_df['GEO'] == 'Cyprus')]\n",
    "europe_df = europe_df[~(europe_df['GEO'] == 'Malta')]"
   ]
  },
  {
   "cell_type": "code",
   "execution_count": null,
   "metadata": {
    "collapsed": false
   },
   "outputs": [],
   "source": [
    "for line in europe_df['GEO']:\n",
    "    if line == 'Germany ':\n",
    "        line = 'Germany'\n",
    "europe_df.head()"
   ]
  },
  {
   "cell_type": "code",
   "execution_count": null,
   "metadata": {
    "collapsed": false
   },
   "outputs": [],
   "source": [
    "state_topo_path = r'topojson/europe.topojson.json'\n",
    "topo_json_data = json.load(open(state_topo_path))"
   ]
  },
  {
   "cell_type": "code",
   "execution_count": null,
   "metadata": {
    "collapsed": false
   },
   "outputs": [],
   "source": [
    "length = europe_df.shape[0]\n",
    "for i in range(0,51):\n",
    "    present = 0\n",
    "    for index, row in europe_df.iterrows():\n",
    "        if row['GEO'] == topo_json_data['objects']['europe']['geometries'][i]['properties']['NAME']:\n",
    "            present = 1\n",
    "            presence_row = row\n",
    "    if present == 0:\n",
    "        if topo_json_data['objects']['europe']['geometries'][i]['properties']['NAME'] == 'Switzerland':\n",
    "            europe_df.loc[-1] = [topo_json_data['objects']['europe']['geometries'][i]['properties']['NAME'],3.5]\n",
    "        else:\n",
    "            europe_df.loc[-1] = [topo_json_data['objects']['europe']['geometries'][i]['properties']['NAME'],-1]  # adding a row\n",
    "        europe_df.index = europe_df.index + 1  # shifting index\n",
    "        europe_df = europe_df.sort_index()\n",
    "        #europe_df = europe_df.append({'GEO'}: topo_json_data['objects']['europe']['geometries'][i]['properties']['NAME'], {'Value'}: 'NaN', ignore_index=True)\n",
    "\n",
    "europe_df = europe_df[~(europe_df['GEO'] == 'Germany')]"
   ]
  },
  {
   "cell_type": "code",
   "execution_count": null,
   "metadata": {
    "collapsed": false
   },
   "outputs": [],
   "source": [
    "def unemployment_color(state):\n",
    "    if state == 'Germany':\n",
    "        value = 4.1\n",
    "    else:\n",
    "        value = float(europe_df.loc[europe_df['GEO'] == state, 'Value'].values)\n",
    "        \n",
    "    if value < 0:\n",
    "        return '#000000'\n",
    "    elif value < 4:\n",
    "        return '#ffffcc'\n",
    "    elif value < 6:\n",
    "        return '#ffffb3'\n",
    "    elif value < 8:\n",
    "        return '#ffcc99'\n",
    "    elif value < 10:\n",
    "        return '#ff9966'\n",
    "    elif value < 12:\n",
    "        return '#ff6600'  \n",
    "    else:\n",
    "        return '#ff0000'\n",
    "\n",
    "    \n",
    "results_map = folium.Map([54,17], tiles='cartodbpositron', zoom_start=4)\n",
    "folium.TopoJson(\n",
    "    data = topo_json_data,\n",
    "    object_path = 'objects.europe',\n",
    "    style_function=lambda feature: {\n",
    "        'fillColor': unemployment_color(feature['properties']['NAME']),\n",
    "        'color' : 'black',\n",
    "        'weight' : 2,\n",
    "        'opacity': 0.1}).add_to(results_map)\n",
    "\n",
    "results_map"
   ]
  },
  {
   "cell_type": "code",
   "execution_count": null,
   "metadata": {
    "collapsed": false
   },
   "outputs": [],
   "source": []
  },
  {
   "cell_type": "code",
   "execution_count": null,
   "metadata": {
    "collapsed": false
   },
   "outputs": [],
   "source": [
    "state_geo = r'topojson/europe.topojson.json'\n",
    "topo_json_data = json.load(open(state_geo))\n",
    "\n",
    "us_map = folium.Map(location=[54,17], zoom_start=4)\n",
    "us_map.choropleth(geo_data=topo_json_data, data=europe_df,\n",
    "             columns=['GEO', 'Value'],\n",
    "             key_on='feature.properties.NAME',\n",
    "             fill_color='BuPu', fill_opacity=0.9, line_opacity=0.8,\n",
    "             legend_name='Percentage of Unemployment (%)',\n",
    "             topojson='objects.europe')\n",
    "us_map"
   ]
  },
  {
   "cell_type": "code",
   "execution_count": null,
   "metadata": {
    "collapsed": false
   },
   "outputs": [],
   "source": [
    "state_geo = r'topojson/europe.topojson.json'\n",
    "topo_json_data = json.load(open(state_geo))\n",
    "swiss_unemploy_2016 = 3.5\n",
    "for i in range(0,51):\n",
    "    print topo_json_data['objects']['europe']['geometries'][i]['properties']['NAME']"
   ]
  },
  {
   "cell_type": "code",
   "execution_count": null,
   "metadata": {
    "collapsed": false
   },
   "outputs": [],
   "source": [
    "state_geo = r'topojson/europe.topojson.json'\n",
    "topo_json_data = json.load(open(state_geo))"
   ]
  },
  {
   "cell_type": "code",
   "execution_count": null,
   "metadata": {
    "collapsed": false,
    "scrolled": true
   },
   "outputs": [],
   "source": [
    "europe_df = europe_df[~(europe_df['GEO'] == 'Germany')]\n",
    "europe_df"
   ]
  },
  {
   "cell_type": "code",
   "execution_count": null,
   "metadata": {
    "collapsed": false
   },
   "outputs": [],
   "source": [
    "state_geo = r'topojson/europe.topojson.json'\n",
    "topo_json_data = json.load(open(state_geo))\n",
    "\n",
    "us_map = folium.Map(location=[54,17], zoom_start=4)\n",
    "folium.GeoJson(topo_json_data).add(us_map)\n",
    "us_map"
   ]
  },
  {
   "cell_type": "markdown",
   "metadata": {},
   "source": [
    "## Swiss Cantons unemployement"
   ]
  },
  {
   "cell_type": "markdown",
   "metadata": {},
   "source": [
    "_Go to the [amstat](https://www.amstat.ch) website to find a dataset that includes the unemployment rates in Switzerland at a recent date._\n",
    "\n",
    "   > *HINT* Go to the `details` tab to find the raw data you need. If you do not speak French, German or Italian, think of using free translation services to navigate your way through. \n",
    "\n",
    "  _ Use this data to build another Choropleth map, this time showing the unemployment rate at the level of swiss cantons. Again, try to make the map as expressive as possible, and comment on the trends you observe._\n",
    "\n",
    "  _ The Swiss Confederation defines the rates you have just plotted as the number of people looking for a job divided by the size of the active population (scaled by 100). This is surely a valid choice, but as we discussed one could argue for a different categorization._\n",
    "\n",
    "  _ Copy the map you have just created, but this time don't count in your statistics people who already have a job and are looking for a new one. How do your observations change ? You can repeat this with different choices of categories to see how selecting different metrics can lead to different interpretations of the same data._"
   ]
  },
  {
   "cell_type": "code",
   "execution_count": null,
   "metadata": {
    "collapsed": false
   },
   "outputs": [],
   "source": []
  },
  {
   "cell_type": "markdown",
   "metadata": {},
   "source": [
    "## Foreign workers in Switzerland"
   ]
  },
  {
   "cell_type": "markdown",
   "metadata": {},
   "source": [
    "\n",
    "_Use the [amstat](https://www.amstat.ch) website again to find a dataset that includes the unemployment rates in Switzerland at recent date, this time making a distinction between *Swiss* and *foreign* workers._\n",
    "\n",
    "  _The Economic Secretary (SECO) releases [a monthly report](https://www.seco.admin.ch/seco/fr/home/Arbeit/Arbeitslosenversicherung/arbeitslosenzahlen.html) on the state of the employment market. In the latest report (September 2017), it is noted that there is a discrepancy between the unemployment rates for *foreign* (`5.1%`) and *Swiss* (`2.2%`) workers. _\n",
    "\n",
    "  _ Show the difference in unemployment rates between the two categories in each canton on a Choropleth map (*hint* The easy way is to show two separate maps, but can you think of something better ?). Where are the differences most visible ? Why do you think that is ?_\n",
    "\n",
    "  _ Now let's refine the analysis by adding the differences between age groups. As you may have guessed it is nearly impossible to plot so many variables on a map. Make a bar plot, which is a better suited visualization tool for this type of multivariate data._"
   ]
  },
  {
   "cell_type": "code",
   "execution_count": null,
   "metadata": {
    "collapsed": true
   },
   "outputs": [],
   "source": []
  },
  {
   "cell_type": "markdown",
   "metadata": {},
   "source": [
    "## Röstigraben"
   ]
  },
  {
   "cell_type": "markdown",
   "metadata": {},
   "source": [
    "_ *BONUS*: using the map you have just built, and the geographical information contained in it, could you give a *rough estimate* of the difference in unemployment rates between the areas divided by the [Röstigraben](https://en.wikipedia.org/wiki/R%C3%B6stigraben)?_"
   ]
  },
  {
   "cell_type": "code",
   "execution_count": null,
   "metadata": {
    "collapsed": true
   },
   "outputs": [],
   "source": []
  }
 ],
 "metadata": {
  "kernelspec": {
   "display_name": "Python 2",
   "language": "python",
   "name": "python2"
  },
  "language_info": {
   "codemirror_mode": {
    "name": "ipython",
    "version": 2
   },
   "file_extension": ".py",
   "mimetype": "text/x-python",
   "name": "python",
   "nbconvert_exporter": "python",
   "pygments_lexer": "ipython2",
   "version": "2.7.13"
  }
 },
 "nbformat": 4,
 "nbformat_minor": 2
}
