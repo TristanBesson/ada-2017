{
 "cells": [
  {
   "cell_type": "markdown",
   "metadata": {},
   "source": [
    "# Table of Contents\n",
    " <p><div class=\"lev1\"><a href=\"#Task-1.-Compiling-Ebola-Data\"><span class=\"toc-item-num\">Task 1.&nbsp;&nbsp;</span>Compiling Ebola Data</a></div>\n",
    " <div class=\"lev1\"><a href=\"#Task-2.-RNA-Sequences\"><span class=\"toc-item-num\">Task 2.&nbsp;&nbsp;</span>RNA Sequences</a></div>\n",
    " <div class=\"lev1\"><a href=\"#Task-3.-Class-War-in-Titanic\"><span class=\"toc-item-num\">Task 3.&nbsp;&nbsp;</span>Class War in Titanic</a></div></p>"
   ]
  },
  {
   "cell_type": "code",
   "execution_count": 1,
   "metadata": {
    "collapsed": true
   },
   "outputs": [],
   "source": [
    "import pandas as pd\n",
    "import numpy as np\n",
    "import os\n",
    "import glob\n",
    "from datetime import datetime\n",
    "from dateutil.parser import parse\n",
    "import matplotlib.pyplot as plt"
   ]
  },
  {
   "cell_type": "code",
   "execution_count": 2,
   "metadata": {
    "collapsed": true
   },
   "outputs": [],
   "source": [
    "DATA_FOLDER = 'Data' # Use the data folder provided in Tutorial 02 - Intro to Pandas."
   ]
  },
  {
   "cell_type": "markdown",
   "metadata": {},
   "source": [
    "## Task 1. Compiling Ebola Data\n",
    "\n",
    "The `DATA_FOLDER/ebola` folder contains summarized reports of Ebola cases from three countries (Guinea, Liberia and Sierra Leone) during the recent outbreak of the disease in West Africa. For each country, there are daily reports that contain various information about the outbreak in several cities in each country.\n",
    "\n",
    "Use pandas to import these data files into a single `Dataframe`.\n",
    "Using this `DataFrame`, calculate for *each country*, the *daily average per month* of *new cases* and *deaths*.\n",
    "Make sure you handle all the different expressions for *new cases* and *deaths* that are used in the reports."
   ]
  },
  {
   "cell_type": "markdown",
   "metadata": {},
   "source": [
    "### Extract the data from several csv files and concatenate them"
   ]
  },
  {
   "cell_type": "code",
   "execution_count": 5,
   "metadata": {},
   "outputs": [],
   "source": [
    "def extraction_ebola(directory_name, country_name):\n",
    "    \n",
    "    files = [fn for fn in glob.glob(directory_name)]\n",
    "    df_from_each_file = (pd.read_csv(f) for f in files)\n",
    "    df = pd.concat(df_from_each_file, ignore_index=True)\n",
    "\n",
    "    ##### Adding the Country name to the data frame\n",
    "    country = [country_name] * len(df)\n",
    "    country_df = pd.DataFrame({'country': country})\n",
    "    df.join(country_df)\n",
    "    \n",
    "    return df\n",
    "   \n",
    "guinea_df = extraction_ebola('Data/ebola/guinea_data/*', 'Guinea')\n",
    "liberia_df = extraction_ebola('Data/ebola/liberia_data/*', 'Liberia')\n",
    "sierra_leone_df = extraction_ebola('Data/ebola/sl_data/*', 'Sierra Leone')"
   ]
  },
  {
   "cell_type": "markdown",
   "metadata": {},
   "source": [
    "### Keep only the new cases and new deaths"
   ]
  },
  {
   "cell_type": "markdown",
   "metadata": {},
   "source": [
    "We first begin by characterize the different strings that are present in the csv files. This part could become necessary if ones want to add simply a new country to analyze. \n",
    "\n",
    "We first define in the 'country string' series the names of the different columns necessary. The 'search' series define the description that are interesting in our analysis, and the 'todrop' defines the ones that won't be kept. "
   ]
  },
  {
   "cell_type": "code",
   "execution_count": 6,
   "metadata": {},
   "outputs": [],
   "source": [
    "## STRINGS CHARACTERIZATION\n",
    "noDrop = 0; toDrop = 1\n",
    "suspected_percentage = 0.7 * np.ones(12)\n",
    "probable_percentage = 0.3  * np.ones(12)\n",
    "\n",
    "# Name of all columns in each csv files + Terms of interest\n",
    "guinea_string =  ['Date','Description','Totals','New cases','New deaths registered today']\n",
    "sierra_string =  ['date','variable','National','new_confirmed','death_confirmed']\n",
    "liberia_string = ['Date','Variable','National','New case/s','Newly reported deaths']\n",
    "\n",
    "# Search queries, and terms to drop\n",
    "confirmed_search_cases =   ['New cases of confirmed', 'New case/s', 'new_confirmed']\n",
    "search_deaths =            ['New deaths registered','Newly reported deaths','death_confirmed']\n",
    "confirmed_to_drop_cases  = ['health']\n",
    "confirmed_to_drop_deaths = ['health','probables', 'confirmed', 'suspects']\n",
    "\n",
    "probable_search_cases  = ['New cases of probables','New Case/s \\(Probable\\)','new_probable']\n",
    "suspected_search_cases = ['New cases of suspects','New case/s \\(Suspected\\)','new_suspected']\n",
    "\n",
    "null_string = []"
   ]
  },
  {
   "cell_type": "code",
   "execution_count": 7,
   "metadata": {},
   "outputs": [],
   "source": [
    "# Function to extract the wanted DataFrame for each cases (confirmed, probable or suspected) for each country\n",
    "def search_dataframe(country_df, country_string, search_string, to_drop_string, variableDrop):\n",
    "    \n",
    "    final_df = country_df[country_df[country_string[1]].str.contains('|'.join(search_string))]\n",
    "    \n",
    "    if variableDrop == 1:\n",
    "        final_df = final_df[~final_df[country_string[1]].str.contains('|'.join(to_drop_string))]\n",
    "    \n",
    "    final_df = final_df[pd.notnull(final_df[country_string[2]])]\n",
    "    \n",
    "    return final_df\n",
    "\n",
    "guinea_confirmed_cases  = search_dataframe(guinea_df, guinea_string, confirmed_search_cases, confirmed_to_drop_cases, toDrop)\n",
    "guinea_suspected_cases  = search_dataframe(guinea_df, guinea_string, suspected_search_cases, null_string, noDrop)\n",
    "guinea_probable_cases   = search_dataframe(guinea_df, guinea_string, probable_search_cases, null_string, noDrop)\n",
    "guinea_deaths = search_dataframe(guinea_df, guinea_string, search_deaths, confirmed_to_drop_deaths, toDrop)\n",
    "\n",
    "liberia_confirmed_cases = search_dataframe(liberia_df, liberia_string, confirmed_search_cases, confirmed_to_drop_cases, noDrop)\n",
    "liberia_suspected_cases = search_dataframe(liberia_df, liberia_string, suspected_search_cases, null_string, noDrop)\n",
    "liberia_probable_cases  = search_dataframe(liberia_df, liberia_string, probable_search_cases, null_string, noDrop)\n",
    "liberia_deaths = search_dataframe(liberia_df,liberia_string,search_deaths, null_string, noDrop)\n",
    "\n",
    "sierra_confirmed_cases = search_dataframe(sierra_leone_df, sierra_string, confirmed_search_cases, confirmed_to_drop_cases, noDrop)\n",
    "sierra_suspected_cases = search_dataframe(sierra_leone_df, sierra_string, suspected_search_cases, null_string, noDrop)\n",
    "sierra_probable_cases  = search_dataframe(sierra_leone_df, sierra_string, probable_search_cases, null_string, noDrop)\n",
    "sierra_deaths = search_dataframe(sierra_leone_df,sierra_string,search_deaths,null_string, noDrop)"
   ]
  },
  {
   "cell_type": "markdown",
   "metadata": {},
   "source": [
    "We define a function 'day_average_per_month' that returns for a given country an array _cases_ containing the daily average for each month. The function takes as input the DataFrame of the country plus the previously defined string containing the names of the columns. In a for-loop, every month is passed onto review, the number of corresponding cases is summed. The total is then divided by the number of days where a measurement was made. \n",
    "\n",
    "The choice to not divide by the number of days in the month but by this observation comes from the lack of informations we have on the csv file. We don't know if the missing days corresponds to a lack of information, or that when a new file is created the new_cases and new_deaths values are counted from the previous measurement."
   ]
  },
  {
   "cell_type": "code",
   "execution_count": 8,
   "metadata": {
    "collapsed": true
   },
   "outputs": [],
   "source": [
    "# Function to count number of cases per month + number of entries\n",
    "def day_average_per_month(country_df, country_string):\n",
    "    \n",
    "    #Conversion to be able to extract the month from the date columns\n",
    "    country_date = pd.to_datetime(country_df[country_string[0]])\n",
    "    cases = []\n",
    "    \n",
    "    #Calculation for each month\n",
    "    for i in range(1,13):\n",
    "        #Creation of a new table with only the totals from the current month\n",
    "        toSum = country_df.loc[country_date.dt.month == i,country_string[2]]\n",
    "        toSum = toSum.reset_index(drop=True)\n",
    "        \n",
    "        #Summing all values for the month\n",
    "        daily_cases  = [ int(x) for x in toSum]\n",
    "        month_sum = sum(daily_cases)\n",
    "        \n",
    "        # Let's avoid to divide by 0\n",
    "        if toSum.shape[0] == 0:\n",
    "            day_average = 0\n",
    "        # Day average calculated as the total sum of the month divided by the number of days that were registered    \n",
    "        else:\n",
    "            day_average = month_sum/float(toSum.shape[0])\n",
    "            \n",
    "        cases.append(day_average)\n",
    "        \n",
    "    return cases"
   ]
  },
  {
   "cell_type": "code",
   "execution_count": 9,
   "metadata": {},
   "outputs": [],
   "source": [
    "# We delete the last few lines of Liberia as they seem false. Commentary below in the Discussion\n",
    "liberia_confirmed_cases = liberia_confirmed_cases[:-6]\n",
    "liberia_suspected_cases = liberia_suspected_cases[:-6]\n",
    "liberia_probable_cases = liberia_probable_cases[:-6]\n",
    "\n",
    "# Calculation of the different values\n",
    "da_cases_guinea  =    day_average_per_month(guinea_confirmed_cases, guinea_string) \\\n",
    "                    + probable_percentage  * day_average_per_month(guinea_probable_cases, guinea_string) \\\n",
    "                    + suspected_percentage * day_average_per_month(guinea_suspected_cases, guinea_string);\n",
    "da_cases_liberia =    day_average_per_month(liberia_confirmed_cases, liberia_string) \\\n",
    "                    + probable_percentage  * day_average_per_month(liberia_probable_cases, liberia_string) \\\n",
    "                    + suspected_percentage * day_average_per_month(liberia_suspected_cases, liberia_string);\n",
    "da_cases_sierra  =    day_average_per_month(sierra_confirmed_cases, sierra_string) \\\n",
    "                    + probable_percentage  * day_average_per_month(sierra_probable_cases, sierra_string) \\\n",
    "                    + suspected_percentage * day_average_per_month(sierra_suspected_cases, sierra_string);\n",
    "\n",
    "da_deaths_guinea = day_average_per_month(guinea_deaths, guinea_string);\n",
    "da_deaths_liberia = day_average_per_month(liberia_deaths, liberia_string);\n",
    "da_deaths_sierra = day_average_per_month(sierra_deaths, sierra_string);"
   ]
  },
  {
   "cell_type": "code",
   "execution_count": 10,
   "metadata": {},
   "outputs": [
    {
     "data": {
      "image/png": "[encoded data removed]",
      "text/plain": [
       "<matplotlib.figure.Figure at 0x114704e50>"
      ]
     },
     "metadata": {},
     "output_type": "display_data"
    }
   ],
   "source": [
    "# Total Plot\n",
    "\n",
    "fig=plt.figure(figsize=(18, 12), dpi= 80, facecolor='w', edgecolor='k')\n",
    "month = np.linspace(1,12,12)\n",
    "\n",
    "plt.subplot(2, 3, 1)\n",
    "plt.bar(month,da_cases_guinea, color = \"red\")\n",
    "plt.xlabel('Month')\n",
    "plt.ylabel('Daily average [D-A]')\n",
    "plt.title('D-A of new cases/month in Guinea')\n",
    "\n",
    "plt.subplot(2, 3, 4)\n",
    "plt.bar(month,da_deaths_guinea, color = \"red\")\n",
    "plt.xlabel('Month')\n",
    "plt.ylabel('Daily average [D-A]')\n",
    "plt.title('D-A of new deaths/month in Guinea')\n",
    "\n",
    "plt.subplot(2, 3, 2)\n",
    "plt.bar(month,da_cases_liberia, color = \"blue\")\n",
    "plt.xlabel('Month')\n",
    "plt.title('D-A of new cases/month in Liberia')\n",
    "\n",
    "plt.subplot(2, 3, 5)\n",
    "plt.bar(month,da_deaths_liberia, color = \"blue\")\n",
    "plt.xlabel('Month')\n",
    "plt.title('D-A of new deaths/month in Liberia')\n",
    "\n",
    "plt.subplot(2, 3, 3)\n",
    "plt.bar(month,da_cases_sierra, color = \"green\")\n",
    "plt.xlabel('Month')\n",
    "plt.title('D-A of new cases/month in Sierra Leone')\n",
    "\n",
    "plt.subplot(2, 3, 6)\n",
    "plt.bar(month,da_deaths_sierra, color = \"green\")\n",
    "plt.xlabel('Month')\n",
    "plt.title('D-A of new deaths/month in Sierra Leone')\n",
    "\n",
    "plt.show()"
   ]
  },
  {
   "cell_type": "code",
   "execution_count": 11,
   "metadata": {},
   "outputs": [
    {
     "data": {
      "text/html": [
       "<div>\n",
       "<style>\n",
       "    .dataframe thead tr:only-child th {\n",
       "        text-align: right;\n",
       "    }\n",
       "\n",
       "    .dataframe thead th {\n",
       "        text-align: left;\n",
       "    }\n",
       "\n",
       "    .dataframe tbody tr th {\n",
       "        vertical-align: top;\n",
       "    }\n",
       "</style>\n",
       "<table border=\"1\" class=\"dataframe\">\n",
       "  <thead>\n",
       "    <tr>\n",
       "      <th></th>\n",
       "      <th colspan=\"2\" halign=\"left\">Guinea</th>\n",
       "      <th colspan=\"2\" halign=\"left\">Liberia</th>\n",
       "      <th colspan=\"2\" halign=\"left\">Sierra Leone</th>\n",
       "    </tr>\n",
       "    <tr>\n",
       "      <th></th>\n",
       "      <th>New Cases</th>\n",
       "      <th>New Deaths</th>\n",
       "      <th>New Cases</th>\n",
       "      <th>New Deaths</th>\n",
       "      <th>New Cases</th>\n",
       "      <th>New Deaths</th>\n",
       "    </tr>\n",
       "  </thead>\n",
       "  <tbody>\n",
       "    <tr>\n",
       "      <th>0</th>\n",
       "      <td>0.0000</td>\n",
       "      <td>0.0000</td>\n",
       "      <td>0.000000</td>\n",
       "      <td>0.000000</td>\n",
       "      <td>0.000000</td>\n",
       "      <td>0.000000</td>\n",
       "    </tr>\n",
       "    <tr>\n",
       "      <th>1</th>\n",
       "      <td>0.0000</td>\n",
       "      <td>0.0000</td>\n",
       "      <td>0.000000</td>\n",
       "      <td>0.000000</td>\n",
       "      <td>0.000000</td>\n",
       "      <td>0.000000</td>\n",
       "    </tr>\n",
       "    <tr>\n",
       "      <th>2</th>\n",
       "      <td>0.0000</td>\n",
       "      <td>0.0000</td>\n",
       "      <td>0.000000</td>\n",
       "      <td>0.000000</td>\n",
       "      <td>0.000000</td>\n",
       "      <td>0.000000</td>\n",
       "    </tr>\n",
       "    <tr>\n",
       "      <th>3</th>\n",
       "      <td>0.0000</td>\n",
       "      <td>0.0000</td>\n",
       "      <td>0.000000</td>\n",
       "      <td>0.000000</td>\n",
       "      <td>0.000000</td>\n",
       "      <td>0.000000</td>\n",
       "    </tr>\n",
       "    <tr>\n",
       "      <th>4</th>\n",
       "      <td>0.0000</td>\n",
       "      <td>0.0000</td>\n",
       "      <td>0.000000</td>\n",
       "      <td>0.000000</td>\n",
       "      <td>0.000000</td>\n",
       "      <td>0.000000</td>\n",
       "    </tr>\n",
       "    <tr>\n",
       "      <th>5</th>\n",
       "      <td>0.0000</td>\n",
       "      <td>0.0000</td>\n",
       "      <td>2.485714</td>\n",
       "      <td>2.000000</td>\n",
       "      <td>0.000000</td>\n",
       "      <td>0.000000</td>\n",
       "    </tr>\n",
       "    <tr>\n",
       "      <th>6</th>\n",
       "      <td>0.0000</td>\n",
       "      <td>0.0000</td>\n",
       "      <td>2.936364</td>\n",
       "      <td>4.272727</td>\n",
       "      <td>0.000000</td>\n",
       "      <td>0.000000</td>\n",
       "    </tr>\n",
       "    <tr>\n",
       "      <th>7</th>\n",
       "      <td>21.2600</td>\n",
       "      <td>3.4000</td>\n",
       "      <td>11.377778</td>\n",
       "      <td>23.222222</td>\n",
       "      <td>25.233333</td>\n",
       "      <td>326.500000</td>\n",
       "    </tr>\n",
       "    <tr>\n",
       "      <th>8</th>\n",
       "      <td>17.1625</td>\n",
       "      <td>3.5625</td>\n",
       "      <td>14.966667</td>\n",
       "      <td>37.608696</td>\n",
       "      <td>41.862963</td>\n",
       "      <td>476.148148</td>\n",
       "    </tr>\n",
       "    <tr>\n",
       "      <th>9</th>\n",
       "      <td>25.6000</td>\n",
       "      <td>15.0000</td>\n",
       "      <td>6.947048</td>\n",
       "      <td>28.040000</td>\n",
       "      <td>66.677249</td>\n",
       "      <td>905.464286</td>\n",
       "    </tr>\n",
       "    <tr>\n",
       "      <th>10</th>\n",
       "      <td>0.0000</td>\n",
       "      <td>0.0000</td>\n",
       "      <td>10.223077</td>\n",
       "      <td>15.538462</td>\n",
       "      <td>82.310526</td>\n",
       "      <td>1241.105263</td>\n",
       "    </tr>\n",
       "    <tr>\n",
       "      <th>11</th>\n",
       "      <td>0.0000</td>\n",
       "      <td>0.0000</td>\n",
       "      <td>7.850000</td>\n",
       "      <td>0.000000</td>\n",
       "      <td>64.133333</td>\n",
       "      <td>1643.500000</td>\n",
       "    </tr>\n",
       "  </tbody>\n",
       "</table>\n",
       "</div>"
      ],
      "text/plain": [
       "      Guinea               Liberia            Sierra Leone             \n",
       "   New Cases New Deaths  New Cases New Deaths    New Cases   New Deaths\n",
       "0     0.0000     0.0000   0.000000   0.000000     0.000000     0.000000\n",
       "1     0.0000     0.0000   0.000000   0.000000     0.000000     0.000000\n",
       "2     0.0000     0.0000   0.000000   0.000000     0.000000     0.000000\n",
       "3     0.0000     0.0000   0.000000   0.000000     0.000000     0.000000\n",
       "4     0.0000     0.0000   0.000000   0.000000     0.000000     0.000000\n",
       "5     0.0000     0.0000   2.485714   2.000000     0.000000     0.000000\n",
       "6     0.0000     0.0000   2.936364   4.272727     0.000000     0.000000\n",
       "7    21.2600     3.4000  11.377778  23.222222    25.233333   326.500000\n",
       "8    17.1625     3.5625  14.966667  37.608696    41.862963   476.148148\n",
       "9    25.6000    15.0000   6.947048  28.040000    66.677249   905.464286\n",
       "10    0.0000     0.0000  10.223077  15.538462    82.310526  1241.105263\n",
       "11    0.0000     0.0000   7.850000   0.000000    64.133333  1643.500000"
      ]
     },
     "execution_count": 11,
     "metadata": {},
     "output_type": "execute_result"
    }
   ],
   "source": [
    "# Final DataFrame with all the data\n",
    "\n",
    "final_df = pd.DataFrame(\n",
    "    {('Guinea','New Cases'): da_cases_guinea, ('Guinea','New Deaths'): da_deaths_guinea,\n",
    "     ('Liberia','New Cases'): da_cases_liberia, ('Liberia','New Deaths'): da_deaths_liberia,\n",
    "     ('Sierra Leone','New Cases'): da_cases_sierra, ('Sierra Leone','New Deaths'): da_deaths_sierra,\n",
    "    })\n",
    "final_df"
   ]
  },
  {
   "cell_type": "markdown",
   "metadata": {},
   "source": [
    "## Discussion\n",
    "\n",
    "To establish the results presented above, some choices were made regarding the handling of the data. \n",
    "\n",
    "To calculate the daily average of new cases in the three countries, it was possible to use the confirmed, probable and suspected cases. However, they don't truly represent the same amount of person that carries Ebola. In order to better represent this possibility, some weights were applied to the probable and suspected cases before summing them with the confirmed. Respectively, the arbitrary weights are 0.3 and 0.7. \n",
    "\n",
    "Furthermore, in the Liberia DataFrame there were some inconstitencies with last few values that were stored. The number of new cases and deaths were suddenly high and constant over a few days. Without being able to communicate with the person that handled the data, the choice was made to not take them into account in our analysis. It would need proper analysis to determine if this was just an operator error (i.e. counfounded the new cases and total cases) or if the Ebola showed an outbreak during December in Liberia.\n",
    "\n",
    "The calculation of the new deaths for the three countries doesn't take into account the suspected and probable cases. Those values didn't appear in the dataset that was given, or were stored along as a total sum over the whole epidemic."
   ]
  },
  {
   "cell_type": "markdown",
   "metadata": {},
   "source": [
    "## Task 2. RNA Sequences\n",
    "\n",
    "In the `DATA_FOLDER/microbiome` subdirectory, there are 9 spreadsheets of microbiome data that was acquired from high-throughput RNA sequencing procedures, along with a 10<sup>th</sup> file that describes the content of each. \n",
    "\n",
    "Use pandas to import the first 9 spreadsheets into a single `DataFrame`.\n",
    "Then, add the metadata information from the 10<sup>th</sup> spreadsheet as columns in the combined `DataFrame`.\n",
    "Make sure that the final `DataFrame` has a unique index and all the `NaN` values have been replaced by the tag `unknown`."
   ]
  },
  {
   "cell_type": "code",
   "execution_count": null,
   "metadata": {
    "collapsed": true
   },
   "outputs": [],
   "source": [
    "# Write your answer here"
   ]
  },
  {
   "cell_type": "markdown",
   "metadata": {},
   "source": [
    "### Extraction of the spreadsheets"
   ]
  },
  {
   "cell_type": "code",
   "execution_count": null,
   "metadata": {
    "collapsed": true
   },
   "outputs": [],
   "source": [
    "def extraction_microbiome(directory_name, exclude_file):\n",
    "    \n",
    "    files = [fn for fn in glob.glob(directory_name) if not os.path.basename(fn).startswith(exclude_file)]\n",
    "    df_from_each_file = (pd.read_excel(f, names = ['name', 'number']) for f in files)\n",
    "    df = pd.concat(df_from_each_file, ignore_index=True)\n",
    "    \n",
    "    return df"
   ]
  },
  {
   "cell_type": "code",
   "execution_count": null,
   "metadata": {
    "collapsed": true
   },
   "outputs": [],
   "source": [
    "MID = extraction_microbiome('Data/microbiome/*.xls', 'metadata')"
   ]
  },
  {
   "cell_type": "markdown",
   "metadata": {},
   "source": [
    "### Addition of the information from metadata.xls"
   ]
  },
  {
   "cell_type": "code",
   "execution_count": null,
   "metadata": {
    "collapsed": true
   },
   "outputs": [],
   "source": [
    "## Extraction microbiome n'est en fait pas une solution optimale. Pour ajouter les metadata par la suite il faut \n",
    "# la taille de chaque fichier Excel. "
   ]
  },
  {
   "cell_type": "markdown",
   "metadata": {},
   "source": [
    "### Second method"
   ]
  },
  {
   "cell_type": "code",
   "execution_count": null,
   "metadata": {
    "collapsed": true
   },
   "outputs": [],
   "source": [
    "MID1 = pd.read_excel('Data/microbiome/MID1.xls', names = ['name', 'number'])\n",
    "MID2 = pd.read_excel('Data/microbiome/MID2.xls', names = ['name', 'number'])\n",
    "MID3 = pd.read_excel('Data/microbiome/MID3.xls', names = ['name', 'number'])\n",
    "MID4 = pd.read_excel('Data/microbiome/MID4.xls', names = ['name', 'number'])\n",
    "MID5 = pd.read_excel('Data/microbiome/MID5.xls', names = ['name', 'number'])\n",
    "MID6 = pd.read_excel('Data/microbiome/MID6.xls', names = ['name', 'number'])\n",
    "MID7 = pd.read_excel('Data/microbiome/MID7.xls', names = ['name', 'number'])\n",
    "MID8 = pd.read_excel('Data/microbiome/MID8.xls', names = ['name', 'number'])\n",
    "MID9 = pd.read_excel('Data/microbiome/MID9.xls', names = ['name', 'number'])\n",
    "\n",
    "frames = [MID1, MID2, MID3, MID4, MID5, MID6, MID7, MID8, MID9]\n",
    "MID_df = pd.concat(frames)"
   ]
  },
  {
   "cell_type": "markdown",
   "metadata": {},
   "source": [
    "## Task 3. Class War in Titanic\n",
    "\n",
    "Use pandas to import the data file `Data/titanic.xls`. It contains data on all the passengers that travelled on the Titanic."
   ]
  },
  {
   "cell_type": "code",
   "execution_count": null,
   "metadata": {
    "collapsed": true
   },
   "outputs": [],
   "source": [
    "from IPython.core.display import HTML\n",
    "HTML(filename=DATA_FOLDER+'/titanic.html')"
   ]
  },
  {
   "cell_type": "markdown",
   "metadata": {},
   "source": [
    "For each of the following questions state clearly your assumptions and discuss your findings:\n",
    "1. Describe the *type* and the *value range* of each attribute. Indicate and transform the attributes that can be `Categorical`. \n",
    "2. Plot histograms for the *travel class*, *embarkation port*, *sex* and *age* attributes. For the latter one, use *discrete decade intervals*. \n",
    "3. Calculate the proportion of passengers by *cabin floor*. Present your results in a *pie chart*.\n",
    "4. For each *travel class*, calculate the proportion of the passengers that survived. Present your results in *pie charts*.\n",
    "5. Calculate the proportion of the passengers that survived by *travel class* and *sex*. Present your results in *a single histogram*.\n",
    "6. Create 2 equally populated *age categories* and calculate survival proportions by *age category*, *travel class* and *sex*. Present your results in a `DataFrame` with unique index."
   ]
  },
  {
   "cell_type": "code",
   "execution_count": null,
   "metadata": {
    "collapsed": true
   },
   "outputs": [],
   "source": [
    "# Write your answer here"
   ]
  }
 ],
 "metadata": {
  "kernelspec": {
   "display_name": "Python 3",
   "language": "python",
   "name": "python3"
  },
  "language_info": {
   "codemirror_mode": {
    "name": "ipython",
    "version": 3
   },
   "file_extension": ".py",
   "mimetype": "text/x-python",
   "name": "python",
   "nbconvert_exporter": "python",
   "pygments_lexer": "ipython3",
   "version": "3.6.2"
  }
 },
 "nbformat": 4,
 "nbformat_minor": 2
}
