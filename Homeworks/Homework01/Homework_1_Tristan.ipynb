{
 "cells": [
  {
   "cell_type": "markdown",
   "metadata": {},
   "source": [
    "# Table of Contents\n",
    " <p><div class=\"lev1\"><a href=\"#Task-1.-Compiling-Ebola-Data\"><span class=\"toc-item-num\">Task 1.&nbsp;&nbsp;</span>Compiling Ebola Data</a></div>\n",
    " <div class=\"lev1\"><a href=\"#Task-2.-RNA-Sequences\"><span class=\"toc-item-num\">Task 2.&nbsp;&nbsp;</span>RNA Sequences</a></div>\n",
    " <div class=\"lev1\"><a href=\"#Task-3.-Class-War-in-Titanic\"><span class=\"toc-item-num\">Task 3.&nbsp;&nbsp;</span>Class War in Titanic</a></div></p>"
   ]
  },
  {
   "cell_type": "code",
   "execution_count": 1,
   "metadata": {
    "collapsed": true
   },
   "outputs": [],
   "source": [
    "import pandas as pd\n",
    "import numpy as np\n",
    "import os\n",
    "import glob\n",
    "from datetime import datetime\n",
    "from dateutil.parser import parse\n",
    "import matplotlib.pyplot as plt"
   ]
  },
  {
   "cell_type": "code",
   "execution_count": 2,
   "metadata": {
    "collapsed": true
   },
   "outputs": [],
   "source": [
    "DATA_FOLDER = 'Data' # Use the data folder provided in Tutorial 02 - Intro to Pandas."
   ]
  },
  {
   "cell_type": "markdown",
   "metadata": {},
   "source": [
    "## Task 1. Compiling Ebola Data\n",
    "\n",
    "The `DATA_FOLDER/ebola` folder contains summarized reports of Ebola cases from three countries (Guinea, Liberia and Sierra Leone) during the recent outbreak of the disease in West Africa. For each country, there are daily reports that contain various information about the outbreak in several cities in each country.\n",
    "\n",
    "Use pandas to import these data files into a single `Dataframe`.\n",
    "Using this `DataFrame`, calculate for *each country*, the *daily average per month* of *new cases* and *deaths*.\n",
    "Make sure you handle all the different expressions for *new cases* and *deaths* that are used in the reports."
   ]
  },
  {
   "cell_type": "markdown",
   "metadata": {},
   "source": [
    "### Extract the data from several csv files and concatenate them"
   ]
  },
  {
   "cell_type": "code",
   "execution_count": 3,
   "metadata": {
    "collapsed": true
   },
   "outputs": [],
   "source": [
    "def extraction_ebola(directory_name, country_name):\n",
    "    \n",
    "    files = [fn for fn in glob.glob(directory_name)]\n",
    "    df_from_each_file = (pd.read_csv(f) for f in files)\n",
    "    df = pd.concat(df_from_each_file, ignore_index=True)\n",
    "\n",
    "    ##### Adding the Country name to the data frame\n",
    "    country = [country_name] * len(df)\n",
    "    country_df = pd.DataFrame({'country': country})\n",
    "    df.join(country_df)\n",
    "    \n",
    "    return df\n",
    "   \n",
    "guinea_df = extraction_ebola('Data/ebola/guinea_data/*', 'Guinea')\n",
    "liberia_df = extraction_ebola('Data/ebola/liberia_data/*', 'Liberia')\n",
    "sierra_leone_df = extraction_ebola('Data/ebola/sl_data/*', 'Sierra Leone')"
   ]
  },
  {
   "cell_type": "markdown",
   "metadata": {},
   "source": [
    "### Keep only the new cases and new deaths"
   ]
  },
  {
   "cell_type": "markdown",
   "metadata": {},
   "source": [
    "We first begin by characterize the different strings that are present in the csv files. This part could become necessary if ones want to add simply a new country to analyze. \n",
    "\n",
    "We first define in the _'countrystring'_ series the names of the different columns necessary. The _'search'_ series define the description that are interesting in our analysis, and the _'todrop'_ defines the ones that won't be kept. For the moment, our analysis revolves exclusively around the confirmed cases and deaths, while ignoring the other ones. As we have no information, we have no idea of the constitency between the countries of those observations, it appears as they might not represent the correct effects ot Ebola. "
   ]
  },
  {
   "cell_type": "code",
   "execution_count": 4,
   "metadata": {
    "collapsed": false
   },
   "outputs": [],
   "source": [
    "## STRINGS CHARACTERIZATION\n",
    "Months = ['January','February','March','April','May','June','July','August','September','October','November','December']\n",
    "\n",
    "# Name of all columns in each csv files\n",
    "guinea_string = ['Date','Description','Totals','New cases','New deaths registered today']\n",
    "sierra_string = ['date','variable','National','new_confirmed','death_confirmed']\n",
    "liberia_string = ['Date','Variable','National','New case/s','Newly reported deaths']\n",
    "\n",
    "# Search queries, and terms to drop\n",
    "search_cases = ['New cases of confirmed', 'New case/s', 'new_confirmed']\n",
    "search_deaths = ['New deaths registered','Newly reported deaths','death_confirmed']\n",
    "to_drop_cases = ['health']\n",
    "to_drop_deaths = ['health','probables', 'confirmed', 'suspects']"
   ]
  },
  {
   "cell_type": "code",
   "execution_count": 5,
   "metadata": {
    "collapsed": true
   },
   "outputs": [],
   "source": [
    "## TABLES PREPARATION\n",
    "# New Cases\n",
    "cases_guinea = guinea_df[guinea_df[guinea_string[1]].str.contains('|'.join(search_cases))]\n",
    "cases_liberia = liberia_df[liberia_df[liberia_string[1]].str.contains('|'.join(search_cases))]\n",
    "cases_sl = sierra_leone_df[sierra_leone_df[sierra_string[1]].str.contains('|'.join(search_cases))]\n",
    "\n",
    "# New Deaths\n",
    "deaths_guinea = guinea_df[guinea_df[guinea_string[1]].str.contains('|'.join(search_deaths))]\n",
    "deaths_liberia = liberia_df[liberia_df[liberia_string[1]].str.contains('|'.join(search_deaths))]\n",
    "deaths_sl = sierra_leone_df[sierra_leone_df[sierra_string[1]].str.contains('|'.join(search_deaths))]\n",
    "\n",
    "# Filter unwanted lines\n",
    "cases_guinea = cases_guinea[~cases_guinea[guinea_string[1]].str.contains('|'.join(to_drop_cases))]\n",
    "deaths_guinea = deaths_guinea[~deaths_guinea[guinea_string[1]].str.contains('|'.join(to_drop_deaths))]\n",
    "\n",
    "# Delete NaN values\n",
    "cases_guinea = cases_guinea[pd.notnull(cases_guinea[guinea_string[2]])]\n",
    "deaths_guinea = deaths_guinea[pd.notnull(deaths_guinea[guinea_string[2]])]\n",
    "\n",
    "cases_sl = cases_sl[pd.notnull(cases_sl[sierra_string[2]])]\n",
    "deaths_sl = deaths_sl[pd.notnull(deaths_sl[sierra_string[2]])]\n",
    "\n",
    "cases_liberia = cases_liberia [pd.notnull(cases_liberia [liberia_string[2]])]\n",
    "deaths_liberia = deaths_liberia [pd.notnull(deaths_liberia [liberia_string[2]])]"
   ]
  },
  {
   "cell_type": "code",
   "execution_count": 6,
   "metadata": {
    "collapsed": false
   },
   "outputs": [
    {
     "data": {
      "text/plain": [
       "(1,)"
      ]
     },
     "execution_count": 6,
     "metadata": {},
     "output_type": "execute_result"
    }
   ],
   "source": [
    "## Just for testing purpose\n",
    "#cases_guinea['Totals']\n",
    "\n",
    "guinea_date = pd.to_datetime(cases_guinea['Date'])\n",
    "toSum = guinea_date[guinea_date.dt.month == 8]\n",
    "\n",
    "hr2006 = cases_guinea.loc[guinea_date.dt.month == 10, 'Totals']\n",
    "hr2006 = hr2006.reset_index(drop=True)\n",
    "numbers  = [ int(x) for x in hr2006 ]\n",
    "sum(numbers)\n",
    "hr2006.shape"
   ]
  },
  {
   "cell_type": "markdown",
   "metadata": {},
   "source": [
    "We define a function 'day_average_per_month' that returns for a given country an array _cases_ containing the daily average for each month. The function takes as input the DataFrame of the country plus the previously define string containing the names of the columns. In a for loop, every month is passed onto review, the number of corresponding cases is summed. The total is then divided by the number of days where a measurement was made. \n",
    "\n",
    "The choice to not divide by the number of days in the month but by this observation comes from the lack of informations we have on the csv file. We don't know if the missing days corresponds to a lack of information, or that when a new file is created the new_cases and new_deaths values are counted from the previous measurement."
   ]
  },
  {
   "cell_type": "code",
   "execution_count": 7,
   "metadata": {
    "collapsed": false
   },
   "outputs": [],
   "source": [
    "# Function to count number of cases per month + number of entries\n",
    "def day_average_per_month(country_df, country_string):\n",
    "    \n",
    "    #Conversion to be able to extract the month from the date columns\n",
    "    country_date = pd.to_datetime(country_df[country_string[0]])\n",
    "    cases = []\n",
    "    \n",
    "    #Calculation for each month\n",
    "    for i in range(1,13):\n",
    "        #Creation of a new table with only the totals from the current month\n",
    "        toSum = country_df.loc[country_date.dt.month == i,country_string[2]]\n",
    "        toSum = toSum.reset_index(drop=True)\n",
    "        \n",
    "        #Summing all values for the month\n",
    "        daily_cases  = [ int(x) for x in toSum]\n",
    "        month_sum = sum(daily_cases)\n",
    "        \n",
    "        # Let's avoid to divide by 0\n",
    "        if toSum.shape[0] == 0:\n",
    "            day_average = 0\n",
    "        # Day average calculated as the total sum of the month divided by the number of days that were registered    \n",
    "        else:\n",
    "            day_average = month_sum/float(toSum.shape[0])\n",
    "            \n",
    "        print day_average\n",
    "        cases.append(day_average)\n",
    "        \n",
    "    return cases"
   ]
  },
  {
   "cell_type": "code",
   "execution_count": 12,
   "metadata": {
    "collapsed": false
   },
   "outputs": [
    {
     "name": "stdout",
     "output_type": "stream",
     "text": [
      "0\n",
      "0\n",
      "0\n",
      "0\n",
      "0\n",
      "0\n",
      "0\n",
      "12.4\n",
      "13.0\n",
      "6.0\n",
      "0\n",
      "0\n",
      "0\n",
      "0\n",
      "0\n",
      "0\n",
      "0\n",
      "2.14285714286\n",
      "1.81818181818\n",
      "5.44444444444\n",
      "6.16666666667\n",
      "1.61904761905\n",
      "7.8\n",
      "2169.375\n",
      "0\n",
      "0\n",
      "0\n",
      "0\n",
      "0\n",
      "0\n",
      "0\n",
      "20.6111111111\n",
      "36.962962963\n",
      "56.7142857143\n",
      "66.2105263158\n",
      "54.3333333333\n",
      "0\n",
      "0\n",
      "0\n",
      "0\n",
      "0\n",
      "0\n",
      "0\n",
      "3.4\n",
      "3.5625\n",
      "15.0\n",
      "0\n",
      "0\n",
      "0\n",
      "0\n",
      "0\n",
      "0\n",
      "0\n",
      "2.0\n",
      "4.27272727273\n",
      "23.2222222222\n",
      "37.6086956522\n",
      "28.04\n",
      "15.5384615385\n",
      "0\n",
      "0\n",
      "0\n",
      "0\n",
      "0\n",
      "0\n",
      "0\n",
      "0\n",
      "326.5\n",
      "476.148148148\n",
      "905.464285714\n",
      "1241.10526316\n",
      "1643.5\n"
     ]
    }
   ],
   "source": [
    "# Calculation of the different values\n",
    "da_cases_guinea = day_average_per_month(cases_guinea, guinea_string);\n",
    "da_cases_liberia = day_average_per_month(cases_liberia, liberia_string);\n",
    "da_cases_sierra = day_average_per_month(cases_sl, sierra_string);\n",
    "\n",
    "da_deaths_guinea = day_average_per_month(deaths_guinea, guinea_string);\n",
    "da_deaths_liberia = day_average_per_month(deaths_liberia, liberia_string);\n",
    "da_deaths_sierra = day_average_per_month(deaths_sl, sierra_string);"
   ]
  },
  {
   "cell_type": "code",
   "execution_count": 25,
   "metadata": {
    "collapsed": false
   },
   "outputs": [
    {
     "data": {
      "image/png": "[encoded data removed]",
      "text/plain": [
       "<matplotlib.figure.Figure at 0x115e86310>"
      ]
     },
     "metadata": {},
     "output_type": "display_data"
    }
   ],
   "source": [
    "# Total Plot\n",
    "\n",
    "fig=plt.figure(figsize=(18, 12), dpi= 80, facecolor='w', edgecolor='k')\n",
    "\n",
    "plt.subplot(2, 3, 1)\n",
    "plt.plot(da_cases_guinea)\n",
    "plt.xlabel('Month')\n",
    "plt.ylabel('Daily average [D-A]')\n",
    "plt.title('D-A of new cases/month in Guinea')\n",
    "\n",
    "plt.subplot(2, 3, 4)\n",
    "plt.plot(da_deaths_guinea)\n",
    "plt.xlabel('Month')\n",
    "plt.ylabel('Daily average [D-A]')\n",
    "plt.title('D-A of new deaths/month in Guinea')\n",
    "\n",
    "plt.subplot(2, 3, 2)\n",
    "plt.plot(da_cases_liberia)\n",
    "plt.xlabel('Month')\n",
    "plt.title('D-A of new cases/month in Liberia')\n",
    "\n",
    "plt.subplot(2, 3, 5)\n",
    "plt.plot(da_deaths_liberia)\n",
    "plt.xlabel('Month')\n",
    "plt.title('D-A of new deaths/month in Liberia')\n",
    "\n",
    "plt.subplot(2, 3, 3)\n",
    "plt.plot(da_cases_sierra)\n",
    "plt.xlabel('Month')\n",
    "plt.title('D-A of new cases/month in Sierra Leone')\n",
    "\n",
    "plt.subplot(2, 3, 6)\n",
    "plt.plot(da_deaths_sierra)\n",
    "plt.xlabel('Month')\n",
    "plt.title('D-A of new deaths/month in Sierra Leone')\n",
    "\n",
    "plt.show()\n",
    "#deaths_guinea = guinea_df[guinea_df['D'].str.contains('|'.join(search_deaths))]"
   ]
  },
  {
   "cell_type": "markdown",
   "metadata": {},
   "source": [
    "## Discussion\n",
    "\n",
    "Lorem ipsum..."
   ]
  },
  {
   "cell_type": "markdown",
   "metadata": {},
   "source": [
    "## Task 2. RNA Sequences\n",
    "\n",
    "In the `DATA_FOLDER/microbiome` subdirectory, there are 9 spreadsheets of microbiome data that was acquired from high-throughput RNA sequencing procedures, along with a 10<sup>th</sup> file that describes the content of each. \n",
    "\n",
    "Use pandas to import the first 9 spreadsheets into a single `DataFrame`.\n",
    "Then, add the metadata information from the 10<sup>th</sup> spreadsheet as columns in the combined `DataFrame`.\n",
    "Make sure that the final `DataFrame` has a unique index and all the `NaN` values have been replaced by the tag `unknown`."
   ]
  },
  {
   "cell_type": "code",
   "execution_count": null,
   "metadata": {
    "collapsed": true
   },
   "outputs": [],
   "source": [
    "# Write your answer here"
   ]
  },
  {
   "cell_type": "markdown",
   "metadata": {},
   "source": [
    "### Extraction of the spreadsheets"
   ]
  },
  {
   "cell_type": "code",
   "execution_count": null,
   "metadata": {
    "collapsed": true
   },
   "outputs": [],
   "source": [
    "def extraction_microbiome(directory_name, exclude_file):\n",
    "    \n",
    "    files = [fn for fn in glob.glob(directory_name) if not os.path.basename(fn).startswith(exclude_file)]\n",
    "    df_from_each_file = (pd.read_excel(f, names = ['name', 'number']) for f in files)\n",
    "    df = pd.concat(df_from_each_file, ignore_index=True)\n",
    "    \n",
    "    return df"
   ]
  },
  {
   "cell_type": "code",
   "execution_count": null,
   "metadata": {
    "collapsed": true
   },
   "outputs": [],
   "source": [
    "MID = extraction_microbiome('Data/microbiome/*.xls', 'metadata')"
   ]
  },
  {
   "cell_type": "markdown",
   "metadata": {},
   "source": [
    "### Addition of the information from metadata.xls"
   ]
  },
  {
   "cell_type": "code",
   "execution_count": null,
   "metadata": {
    "collapsed": true
   },
   "outputs": [],
   "source": [
    "## Extraction microbiome n'est en fait pas une solution optimale. Pour ajouter les metadata par la suite il faut \n",
    "# la taille de chaque fichier Excel. "
   ]
  },
  {
   "cell_type": "markdown",
   "metadata": {},
   "source": [
    "### Second method"
   ]
  },
  {
   "cell_type": "code",
   "execution_count": null,
   "metadata": {
    "collapsed": false
   },
   "outputs": [],
   "source": [
    "MID1 = pd.read_excel('Data/microbiome/MID1.xls', names = ['name', 'number'])\n",
    "MID2 = pd.read_excel('Data/microbiome/MID2.xls', names = ['name', 'number'])\n",
    "MID3 = pd.read_excel('Data/microbiome/MID3.xls', names = ['name', 'number'])\n",
    "MID4 = pd.read_excel('Data/microbiome/MID4.xls', names = ['name', 'number'])\n",
    "MID5 = pd.read_excel('Data/microbiome/MID5.xls', names = ['name', 'number'])\n",
    "MID6 = pd.read_excel('Data/microbiome/MID6.xls', names = ['name', 'number'])\n",
    "MID7 = pd.read_excel('Data/microbiome/MID7.xls', names = ['name', 'number'])\n",
    "MID8 = pd.read_excel('Data/microbiome/MID8.xls', names = ['name', 'number'])\n",
    "MID9 = pd.read_excel('Data/microbiome/MID9.xls', names = ['name', 'number'])\n",
    "\n",
    "frames = [MID1, MID2, MID3, MID4, MID5, MID6, MID7, MID8, MID9]\n",
    "MID_df = pd.concat(frames)"
   ]
  },
  {
   "cell_type": "markdown",
   "metadata": {},
   "source": [
    "## Task 3. Class War in Titanic\n",
    "\n",
    "Use pandas to import the data file `Data/titanic.xls`. It contains data on all the passengers that travelled on the Titanic."
   ]
  },
  {
   "cell_type": "code",
   "execution_count": null,
   "metadata": {
    "collapsed": true
   },
   "outputs": [],
   "source": [
    "from IPython.core.display import HTML\n",
    "HTML(filename=DATA_FOLDER+'/titanic.html')"
   ]
  },
  {
   "cell_type": "markdown",
   "metadata": {},
   "source": [
    "For each of the following questions state clearly your assumptions and discuss your findings:\n",
    "1. Describe the *type* and the *value range* of each attribute. Indicate and transform the attributes that can be `Categorical`. \n",
    "2. Plot histograms for the *travel class*, *embarkation port*, *sex* and *age* attributes. For the latter one, use *discrete decade intervals*. \n",
    "3. Calculate the proportion of passengers by *cabin floor*. Present your results in a *pie chart*.\n",
    "4. For each *travel class*, calculate the proportion of the passengers that survived. Present your results in *pie charts*.\n",
    "5. Calculate the proportion of the passengers that survived by *travel class* and *sex*. Present your results in *a single histogram*.\n",
    "6. Create 2 equally populated *age categories* and calculate survival proportions by *age category*, *travel class* and *sex*. Present your results in a `DataFrame` with unique index."
   ]
  },
  {
   "cell_type": "code",
   "execution_count": null,
   "metadata": {
    "collapsed": true
   },
   "outputs": [],
   "source": [
    "# Write your answer here"
   ]
  }
 ],
 "metadata": {
  "kernelspec": {
   "display_name": "Python 2",
   "language": "python",
   "name": "python2"
  },
  "language_info": {
   "codemirror_mode": {
    "name": "ipython",
    "version": 2
   },
   "file_extension": ".py",
   "mimetype": "text/x-python",
   "name": "python",
   "nbconvert_exporter": "python",
   "pygments_lexer": "ipython2",
   "version": "2.7.13"
  }
 },
 "nbformat": 4,
 "nbformat_minor": 2
}
