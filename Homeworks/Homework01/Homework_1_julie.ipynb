{
 "cells": [
  {
   "cell_type": "markdown",
   "metadata": {},
   "source": [
    "# Table of Contents\n",
    " <p><div class=\"lev1\"><a href=\"#Task-1.-Compiling-Ebola-Data\"><span class=\"toc-item-num\">Task 1.&nbsp;&nbsp;</span>Compiling Ebola Data</a></div>\n",
    " <div class=\"lev1\"><a href=\"#Task-2.-RNA-Sequences\"><span class=\"toc-item-num\">Task 2.&nbsp;&nbsp;</span>RNA Sequences</a></div>\n",
    " <div class=\"lev1\"><a href=\"#Task-3.-Class-War-in-Titanic\"><span class=\"toc-item-num\">Task 3.&nbsp;&nbsp;</span>Class War in Titanic</a></div></p>"
   ]
  },
  {
   "cell_type": "code",
   "execution_count": 280,
   "metadata": {
    "collapsed": true
   },
   "outputs": [],
   "source": [
    "import pandas as pd\n",
    "import numpy as np\n",
    "import os\n",
    "import glob\n",
    "from collections import Counter\n"
   ]
  },
  {
   "cell_type": "code",
   "execution_count": 6,
   "metadata": {
    "collapsed": true
   },
   "outputs": [],
   "source": [
    "DATA_FOLDER = 'Data' # Use the data folder provided in Tutorial 02 - Intro to Pandas."
   ]
  },
  {
   "cell_type": "markdown",
   "metadata": {},
   "source": [
    "## Task 1. Compiling Ebola Data\n",
    "\n",
    "The `DATA_FOLDER/ebola` folder contains summarized reports of Ebola cases from three countries (Guinea, Liberia and Sierra Leone) during the recent outbreak of the disease in West Africa. For each country, there are daily reports that contain various information about the outbreak in several cities in each country.\n",
    "\n",
    "Use pandas to import these data files into a single `Dataframe`.\n",
    "Using this `DataFrame`, calculate for *each country*, the *daily average per month* of *new cases* and *deaths*.\n",
    "Make sure you handle all the different expressions for *new cases* and *deaths* that are used in the reports."
   ]
  },
  {
   "cell_type": "code",
   "execution_count": 7,
   "metadata": {
    "collapsed": true
   },
   "outputs": [],
   "source": [
    "# Write your answer here"
   ]
  },
  {
   "cell_type": "markdown",
   "metadata": {},
   "source": [
    "### Method to extract the data from several csv files and concatenate them"
   ]
  },
  {
   "cell_type": "code",
   "execution_count": 8,
   "metadata": {
    "collapsed": true
   },
   "outputs": [],
   "source": [
    "def extraction_ebola(directory_name, country_name):\n",
    "    \n",
    "    files = [fn for fn in glob.glob(directory_name)]\n",
    "    df_from_each_file = (pd.read_csv(f) for f in files)\n",
    "    df = pd.concat(df_from_each_file, ignore_index=True)\n",
    "\n",
    "    ##### Adding the Country name to the data frame\n",
    "    country = [country_name] * len(df)\n",
    "    country_df = pd.DataFrame({'country': country})\n",
    "    df.join(country_df)\n",
    "    \n",
    "    return df\n",
    "    "
   ]
  },
  {
   "cell_type": "markdown",
   "metadata": {},
   "source": [
    "### Extract data of each country"
   ]
  },
  {
   "cell_type": "code",
   "execution_count": 9,
   "metadata": {
    "collapsed": true
   },
   "outputs": [],
   "source": [
    "guinea_df = extraction_ebola('Data/ebola/guinea_data/*', 'Guinea')\n",
    "liberia_df = extraction_ebola('Data/ebola/liberia_data/*', 'Liberia')\n",
    "sierra_leone_df = extraction_ebola('Data/ebola/sl_data/*', 'Sierra Leone')\n"
   ]
  },
  {
   "cell_type": "code",
   "execution_count": 10,
   "metadata": {
    "collapsed": true
   },
   "outputs": [],
   "source": [
    "guinea_df;"
   ]
  },
  {
   "cell_type": "markdown",
   "metadata": {},
   "source": [
    "## Task 2. RNA Sequences\n",
    "\n",
    "In the `DATA_FOLDER/microbiome` subdirectory, there are 9 spreadsheets of microbiome data that was acquired from high-throughput RNA sequencing procedures, along with a 10<sup>th</sup> file that describes the content of each. \n",
    "\n",
    "Use pandas to import the first 9 spreadsheets into a single `DataFrame`.\n",
    "Then, add the metadata information from the 10<sup>th</sup> spreadsheet as columns in the combined `DataFrame`.\n",
    "Make sure that the final `DataFrame` has a unique index and all the `NaN` values have been replaced by the tag `unknown`."
   ]
  },
  {
   "cell_type": "code",
   "execution_count": 11,
   "metadata": {
    "collapsed": true
   },
   "outputs": [],
   "source": [
    "# Write your answer here"
   ]
  },
  {
   "cell_type": "markdown",
   "metadata": {},
   "source": [
    "### Extraction of the spreadsheets\n"
   ]
  },
  {
   "cell_type": "code",
   "execution_count": 318,
   "metadata": {},
   "outputs": [],
   "source": [
    "def extraction_microbiome2(directory_name, exclude_file):\n",
    "    \n",
    "    files = [fn for fn in glob.glob(directory_name) if not os.path.basename(fn).startswith(exclude_file)]\n",
    "    data_frames = []\n",
    "\n",
    "    for f in files:\n",
    "        data_frames.append(pd.read_excel(f, names = ['TAXON', 'COUNT'])) \n",
    "    \n",
    "    df = pd.concat([d for d in data_frames])\n",
    "    df = df.reset_index()\n",
    "    del df['index']\n",
    "    return df, data_frames"
   ]
  },
  {
   "cell_type": "code",
   "execution_count": 319,
   "metadata": {},
   "outputs": [],
   "source": [
    "df2, data_frames = extraction_microbiome2('Data/microbiome/*.xls', 'metadata')\n",
    "metadata = pd.read_excel('Data/microbiome/metadata.xls')"
   ]
  },
  {
   "cell_type": "code",
   "execution_count": 320,
   "metadata": {
    "collapsed": true
   },
   "outputs": [],
   "source": [
    "meta = []\n",
    "for i in range(0, len(metadata)):\n",
    "    for j in range(0, len(data_frames[i])):\n",
    "        meta.append(metadata.values[i])"
   ]
  },
  {
   "cell_type": "code",
   "execution_count": 321,
   "metadata": {
    "collapsed": true
   },
   "outputs": [],
   "source": [
    "test = pd.DataFrame(meta, columns=['BARCODE', 'GROUP', 'SAMPLE'])"
   ]
  },
  {
   "cell_type": "code",
   "execution_count": 322,
   "metadata": {},
   "outputs": [],
   "source": [
    "result = pd.concat([df2, test], axis=1)"
   ]
  },
  {
   "cell_type": "code",
   "execution_count": 325,
   "metadata": {},
   "outputs": [],
   "source": [
    "result = result.fillna('unknown');"
   ]
  },
  {
   "cell_type": "code",
   "execution_count": 326,
   "metadata": {},
   "outputs": [
    {
     "data": {
      "text/html": [
       "<div>\n",
       "<style>\n",
       "    .dataframe thead tr:only-child th {\n",
       "        text-align: right;\n",
       "    }\n",
       "\n",
       "    .dataframe thead th {\n",
       "        text-align: left;\n",
       "    }\n",
       "\n",
       "    .dataframe tbody tr th {\n",
       "        vertical-align: top;\n",
       "    }\n",
       "</style>\n",
       "<table border=\"1\" class=\"dataframe\">\n",
       "  <thead>\n",
       "    <tr style=\"text-align: right;\">\n",
       "      <th></th>\n",
       "      <th>TAXON</th>\n",
       "      <th>COUNT</th>\n",
       "      <th>BARCODE</th>\n",
       "      <th>GROUP</th>\n",
       "      <th>SAMPLE</th>\n",
       "    </tr>\n",
       "  </thead>\n",
       "  <tbody>\n",
       "    <tr>\n",
       "      <th>0</th>\n",
       "      <td>Archaea \"Crenarchaeota\" Thermoprotei Desulfuro...</td>\n",
       "      <td>2</td>\n",
       "      <td>MID1</td>\n",
       "      <td>EXTRACTION CONTROL</td>\n",
       "      <td>unknown</td>\n",
       "    </tr>\n",
       "    <tr>\n",
       "      <th>1</th>\n",
       "      <td>Archaea \"Crenarchaeota\" Thermoprotei Sulfoloba...</td>\n",
       "      <td>3</td>\n",
       "      <td>MID1</td>\n",
       "      <td>EXTRACTION CONTROL</td>\n",
       "      <td>unknown</td>\n",
       "    </tr>\n",
       "    <tr>\n",
       "      <th>2</th>\n",
       "      <td>Archaea \"Crenarchaeota\" Thermoprotei Thermopro...</td>\n",
       "      <td>3</td>\n",
       "      <td>MID1</td>\n",
       "      <td>EXTRACTION CONTROL</td>\n",
       "      <td>unknown</td>\n",
       "    </tr>\n",
       "    <tr>\n",
       "      <th>3</th>\n",
       "      <td>Archaea \"Euryarchaeota\" \"Methanomicrobia\" Meth...</td>\n",
       "      <td>7</td>\n",
       "      <td>MID1</td>\n",
       "      <td>EXTRACTION CONTROL</td>\n",
       "      <td>unknown</td>\n",
       "    </tr>\n",
       "    <tr>\n",
       "      <th>4</th>\n",
       "      <td>Archaea \"Euryarchaeota\" \"Methanomicrobia\" Meth...</td>\n",
       "      <td>1</td>\n",
       "      <td>MID1</td>\n",
       "      <td>EXTRACTION CONTROL</td>\n",
       "      <td>unknown</td>\n",
       "    </tr>\n",
       "    <tr>\n",
       "      <th>5</th>\n",
       "      <td>Archaea \"Euryarchaeota\" \"Methanomicrobia\" Meth...</td>\n",
       "      <td>1</td>\n",
       "      <td>MID1</td>\n",
       "      <td>EXTRACTION CONTROL</td>\n",
       "      <td>unknown</td>\n",
       "    </tr>\n",
       "    <tr>\n",
       "      <th>6</th>\n",
       "      <td>Archaea \"Euryarchaeota\" Archaeoglobi Archaeogl...</td>\n",
       "      <td>1</td>\n",
       "      <td>MID1</td>\n",
       "      <td>EXTRACTION CONTROL</td>\n",
       "      <td>unknown</td>\n",
       "    </tr>\n",
       "    <tr>\n",
       "      <th>7</th>\n",
       "      <td>Archaea \"Euryarchaeota\" Archaeoglobi Archaeogl...</td>\n",
       "      <td>1</td>\n",
       "      <td>MID1</td>\n",
       "      <td>EXTRACTION CONTROL</td>\n",
       "      <td>unknown</td>\n",
       "    </tr>\n",
       "    <tr>\n",
       "      <th>8</th>\n",
       "      <td>Archaea \"Euryarchaeota\" Halobacteria Halobacte...</td>\n",
       "      <td>1</td>\n",
       "      <td>MID1</td>\n",
       "      <td>EXTRACTION CONTROL</td>\n",
       "      <td>unknown</td>\n",
       "    </tr>\n",
       "    <tr>\n",
       "      <th>9</th>\n",
       "      <td>Archaea \"Euryarchaeota\" Halobacteria Halobacte...</td>\n",
       "      <td>4</td>\n",
       "      <td>MID1</td>\n",
       "      <td>EXTRACTION CONTROL</td>\n",
       "      <td>unknown</td>\n",
       "    </tr>\n",
       "    <tr>\n",
       "      <th>10</th>\n",
       "      <td>Archaea \"Euryarchaeota\" Halobacteria Halobacte...</td>\n",
       "      <td>1</td>\n",
       "      <td>MID1</td>\n",
       "      <td>EXTRACTION CONTROL</td>\n",
       "      <td>unknown</td>\n",
       "    </tr>\n",
       "    <tr>\n",
       "      <th>11</th>\n",
       "      <td>Archaea \"Euryarchaeota\" Halobacteria Halobacte...</td>\n",
       "      <td>2</td>\n",
       "      <td>MID1</td>\n",
       "      <td>EXTRACTION CONTROL</td>\n",
       "      <td>unknown</td>\n",
       "    </tr>\n",
       "    <tr>\n",
       "      <th>12</th>\n",
       "      <td>Archaea \"Euryarchaeota\" Halobacteria Halobacte...</td>\n",
       "      <td>4</td>\n",
       "      <td>MID1</td>\n",
       "      <td>EXTRACTION CONTROL</td>\n",
       "      <td>unknown</td>\n",
       "    </tr>\n",
       "    <tr>\n",
       "      <th>13</th>\n",
       "      <td>Archaea \"Euryarchaeota\" Methanococci Methanoco...</td>\n",
       "      <td>1</td>\n",
       "      <td>MID1</td>\n",
       "      <td>EXTRACTION CONTROL</td>\n",
       "      <td>unknown</td>\n",
       "    </tr>\n",
       "    <tr>\n",
       "      <th>14</th>\n",
       "      <td>Archaea \"Euryarchaeota\" Methanopyri Methanopyr...</td>\n",
       "      <td>12</td>\n",
       "      <td>MID1</td>\n",
       "      <td>EXTRACTION CONTROL</td>\n",
       "      <td>unknown</td>\n",
       "    </tr>\n",
       "    <tr>\n",
       "      <th>15</th>\n",
       "      <td>Archaea \"Euryarchaeota\" Thermoplasmata Thermop...</td>\n",
       "      <td>2</td>\n",
       "      <td>MID1</td>\n",
       "      <td>EXTRACTION CONTROL</td>\n",
       "      <td>unknown</td>\n",
       "    </tr>\n",
       "    <tr>\n",
       "      <th>16</th>\n",
       "      <td>Bacteria \"Actinobacteria\" Actinobacteria Actin...</td>\n",
       "      <td>2</td>\n",
       "      <td>MID1</td>\n",
       "      <td>EXTRACTION CONTROL</td>\n",
       "      <td>unknown</td>\n",
       "    </tr>\n",
       "    <tr>\n",
       "      <th>17</th>\n",
       "      <td>Bacteria \"Actinobacteria\" Actinobacteria Actin...</td>\n",
       "      <td>1</td>\n",
       "      <td>MID1</td>\n",
       "      <td>EXTRACTION CONTROL</td>\n",
       "      <td>unknown</td>\n",
       "    </tr>\n",
       "    <tr>\n",
       "      <th>18</th>\n",
       "      <td>Bacteria \"Actinobacteria\" Actinobacteria Actin...</td>\n",
       "      <td>1</td>\n",
       "      <td>MID1</td>\n",
       "      <td>EXTRACTION CONTROL</td>\n",
       "      <td>unknown</td>\n",
       "    </tr>\n",
       "    <tr>\n",
       "      <th>19</th>\n",
       "      <td>Bacteria \"Actinobacteria\" Actinobacteria Actin...</td>\n",
       "      <td>1</td>\n",
       "      <td>MID1</td>\n",
       "      <td>EXTRACTION CONTROL</td>\n",
       "      <td>unknown</td>\n",
       "    </tr>\n",
       "    <tr>\n",
       "      <th>20</th>\n",
       "      <td>Bacteria \"Actinobacteria\" Actinobacteria Actin...</td>\n",
       "      <td>2</td>\n",
       "      <td>MID1</td>\n",
       "      <td>EXTRACTION CONTROL</td>\n",
       "      <td>unknown</td>\n",
       "    </tr>\n",
       "    <tr>\n",
       "      <th>21</th>\n",
       "      <td>Bacteria \"Actinobacteria\" Actinobacteria Actin...</td>\n",
       "      <td>53</td>\n",
       "      <td>MID1</td>\n",
       "      <td>EXTRACTION CONTROL</td>\n",
       "      <td>unknown</td>\n",
       "    </tr>\n",
       "    <tr>\n",
       "      <th>22</th>\n",
       "      <td>Bacteria \"Actinobacteria\" Actinobacteria Actin...</td>\n",
       "      <td>1</td>\n",
       "      <td>MID1</td>\n",
       "      <td>EXTRACTION CONTROL</td>\n",
       "      <td>unknown</td>\n",
       "    </tr>\n",
       "    <tr>\n",
       "      <th>23</th>\n",
       "      <td>Bacteria \"Actinobacteria\" Actinobacteria Actin...</td>\n",
       "      <td>2</td>\n",
       "      <td>MID1</td>\n",
       "      <td>EXTRACTION CONTROL</td>\n",
       "      <td>unknown</td>\n",
       "    </tr>\n",
       "    <tr>\n",
       "      <th>24</th>\n",
       "      <td>Bacteria \"Actinobacteria\" Actinobacteria Actin...</td>\n",
       "      <td>3</td>\n",
       "      <td>MID1</td>\n",
       "      <td>EXTRACTION CONTROL</td>\n",
       "      <td>unknown</td>\n",
       "    </tr>\n",
       "    <tr>\n",
       "      <th>25</th>\n",
       "      <td>Bacteria \"Actinobacteria\" Actinobacteria Actin...</td>\n",
       "      <td>1</td>\n",
       "      <td>MID1</td>\n",
       "      <td>EXTRACTION CONTROL</td>\n",
       "      <td>unknown</td>\n",
       "    </tr>\n",
       "    <tr>\n",
       "      <th>26</th>\n",
       "      <td>Bacteria \"Actinobacteria\" Actinobacteria Actin...</td>\n",
       "      <td>99</td>\n",
       "      <td>MID1</td>\n",
       "      <td>EXTRACTION CONTROL</td>\n",
       "      <td>unknown</td>\n",
       "    </tr>\n",
       "    <tr>\n",
       "      <th>27</th>\n",
       "      <td>Bacteria \"Actinobacteria\" Actinobacteria Actin...</td>\n",
       "      <td>17</td>\n",
       "      <td>MID1</td>\n",
       "      <td>EXTRACTION CONTROL</td>\n",
       "      <td>unknown</td>\n",
       "    </tr>\n",
       "    <tr>\n",
       "      <th>28</th>\n",
       "      <td>Bacteria \"Actinobacteria\" Actinobacteria Actin...</td>\n",
       "      <td>2</td>\n",
       "      <td>MID1</td>\n",
       "      <td>EXTRACTION CONTROL</td>\n",
       "      <td>unknown</td>\n",
       "    </tr>\n",
       "    <tr>\n",
       "      <th>29</th>\n",
       "      <td>Bacteria \"Actinobacteria\" Actinobacteria Actin...</td>\n",
       "      <td>2</td>\n",
       "      <td>MID1</td>\n",
       "      <td>EXTRACTION CONTROL</td>\n",
       "      <td>unknown</td>\n",
       "    </tr>\n",
       "    <tr>\n",
       "      <th>...</th>\n",
       "      <td>...</td>\n",
       "      <td>...</td>\n",
       "      <td>...</td>\n",
       "      <td>...</td>\n",
       "      <td>...</td>\n",
       "    </tr>\n",
       "    <tr>\n",
       "      <th>2357</th>\n",
       "      <td>Bacteria \"Proteobacteria\" Gammaproteobacteria ...</td>\n",
       "      <td>10</td>\n",
       "      <td>MID9</td>\n",
       "      <td>Control 2</td>\n",
       "      <td>stool</td>\n",
       "    </tr>\n",
       "    <tr>\n",
       "      <th>2358</th>\n",
       "      <td>Bacteria \"Proteobacteria\" Gammaproteobacteria ...</td>\n",
       "      <td>1</td>\n",
       "      <td>MID9</td>\n",
       "      <td>Control 2</td>\n",
       "      <td>stool</td>\n",
       "    </tr>\n",
       "    <tr>\n",
       "      <th>2359</th>\n",
       "      <td>Bacteria \"Proteobacteria\" Gammaproteobacteria ...</td>\n",
       "      <td>1</td>\n",
       "      <td>MID9</td>\n",
       "      <td>Control 2</td>\n",
       "      <td>stool</td>\n",
       "    </tr>\n",
       "    <tr>\n",
       "      <th>2360</th>\n",
       "      <td>Bacteria \"Proteobacteria\" Gammaproteobacteria ...</td>\n",
       "      <td>1</td>\n",
       "      <td>MID9</td>\n",
       "      <td>Control 2</td>\n",
       "      <td>stool</td>\n",
       "    </tr>\n",
       "    <tr>\n",
       "      <th>2361</th>\n",
       "      <td>Bacteria \"Proteobacteria\" Gammaproteobacteria ...</td>\n",
       "      <td>12</td>\n",
       "      <td>MID9</td>\n",
       "      <td>Control 2</td>\n",
       "      <td>stool</td>\n",
       "    </tr>\n",
       "    <tr>\n",
       "      <th>2362</th>\n",
       "      <td>Bacteria \"Proteobacteria\" Gammaproteobacteria ...</td>\n",
       "      <td>4</td>\n",
       "      <td>MID9</td>\n",
       "      <td>Control 2</td>\n",
       "      <td>stool</td>\n",
       "    </tr>\n",
       "    <tr>\n",
       "      <th>2363</th>\n",
       "      <td>Bacteria \"Proteobacteria\" Gammaproteobacteria ...</td>\n",
       "      <td>805</td>\n",
       "      <td>MID9</td>\n",
       "      <td>Control 2</td>\n",
       "      <td>stool</td>\n",
       "    </tr>\n",
       "    <tr>\n",
       "      <th>2364</th>\n",
       "      <td>Bacteria \"Proteobacteria\" Gammaproteobacteria ...</td>\n",
       "      <td>862</td>\n",
       "      <td>MID9</td>\n",
       "      <td>Control 2</td>\n",
       "      <td>stool</td>\n",
       "    </tr>\n",
       "    <tr>\n",
       "      <th>2365</th>\n",
       "      <td>Bacteria \"Proteobacteria\" Gammaproteobacteria ...</td>\n",
       "      <td>12</td>\n",
       "      <td>MID9</td>\n",
       "      <td>Control 2</td>\n",
       "      <td>stool</td>\n",
       "    </tr>\n",
       "    <tr>\n",
       "      <th>2366</th>\n",
       "      <td>Bacteria \"Proteobacteria\" Gammaproteobacteria ...</td>\n",
       "      <td>3534</td>\n",
       "      <td>MID9</td>\n",
       "      <td>Control 2</td>\n",
       "      <td>stool</td>\n",
       "    </tr>\n",
       "    <tr>\n",
       "      <th>2367</th>\n",
       "      <td>Bacteria \"Proteobacteria\" Gammaproteobacteria ...</td>\n",
       "      <td>4</td>\n",
       "      <td>MID9</td>\n",
       "      <td>Control 2</td>\n",
       "      <td>stool</td>\n",
       "    </tr>\n",
       "    <tr>\n",
       "      <th>2368</th>\n",
       "      <td>Bacteria \"Proteobacteria\" Gammaproteobacteria ...</td>\n",
       "      <td>1</td>\n",
       "      <td>MID9</td>\n",
       "      <td>Control 2</td>\n",
       "      <td>stool</td>\n",
       "    </tr>\n",
       "    <tr>\n",
       "      <th>2369</th>\n",
       "      <td>Bacteria \"Proteobacteria\" Gammaproteobacteria ...</td>\n",
       "      <td>25</td>\n",
       "      <td>MID9</td>\n",
       "      <td>Control 2</td>\n",
       "      <td>stool</td>\n",
       "    </tr>\n",
       "    <tr>\n",
       "      <th>2370</th>\n",
       "      <td>Bacteria \"Proteobacteria\" Gammaproteobacteria ...</td>\n",
       "      <td>2</td>\n",
       "      <td>MID9</td>\n",
       "      <td>Control 2</td>\n",
       "      <td>stool</td>\n",
       "    </tr>\n",
       "    <tr>\n",
       "      <th>2371</th>\n",
       "      <td>Bacteria \"Proteobacteria\" Gammaproteobacteria ...</td>\n",
       "      <td>3</td>\n",
       "      <td>MID9</td>\n",
       "      <td>Control 2</td>\n",
       "      <td>stool</td>\n",
       "    </tr>\n",
       "    <tr>\n",
       "      <th>2372</th>\n",
       "      <td>Bacteria \"Proteobacteria\" Gammaproteobacteria ...</td>\n",
       "      <td>2</td>\n",
       "      <td>MID9</td>\n",
       "      <td>Control 2</td>\n",
       "      <td>stool</td>\n",
       "    </tr>\n",
       "    <tr>\n",
       "      <th>2373</th>\n",
       "      <td>Bacteria \"Proteobacteria\" Gammaproteobacteria ...</td>\n",
       "      <td>1</td>\n",
       "      <td>MID9</td>\n",
       "      <td>Control 2</td>\n",
       "      <td>stool</td>\n",
       "    </tr>\n",
       "    <tr>\n",
       "      <th>2374</th>\n",
       "      <td>Bacteria \"Proteobacteria\" Gammaproteobacteria ...</td>\n",
       "      <td>3</td>\n",
       "      <td>MID9</td>\n",
       "      <td>Control 2</td>\n",
       "      <td>stool</td>\n",
       "    </tr>\n",
       "    <tr>\n",
       "      <th>2375</th>\n",
       "      <td>Bacteria \"Proteobacteria\" Gammaproteobacteria ...</td>\n",
       "      <td>2</td>\n",
       "      <td>MID9</td>\n",
       "      <td>Control 2</td>\n",
       "      <td>stool</td>\n",
       "    </tr>\n",
       "    <tr>\n",
       "      <th>2376</th>\n",
       "      <td>Bacteria \"Proteobacteria\" Gammaproteobacteria ...</td>\n",
       "      <td>1</td>\n",
       "      <td>MID9</td>\n",
       "      <td>Control 2</td>\n",
       "      <td>stool</td>\n",
       "    </tr>\n",
       "    <tr>\n",
       "      <th>2377</th>\n",
       "      <td>Bacteria \"Synergistetes\" Synergistia Synergist...</td>\n",
       "      <td>3</td>\n",
       "      <td>MID9</td>\n",
       "      <td>Control 2</td>\n",
       "      <td>stool</td>\n",
       "    </tr>\n",
       "    <tr>\n",
       "      <th>2378</th>\n",
       "      <td>Bacteria \"Tenericutes\" Mollicutes Anaeroplasma...</td>\n",
       "      <td>1</td>\n",
       "      <td>MID9</td>\n",
       "      <td>Control 2</td>\n",
       "      <td>stool</td>\n",
       "    </tr>\n",
       "    <tr>\n",
       "      <th>2379</th>\n",
       "      <td>Bacteria \"Tenericutes\" Mollicutes Haloplasmata...</td>\n",
       "      <td>11</td>\n",
       "      <td>MID9</td>\n",
       "      <td>Control 2</td>\n",
       "      <td>stool</td>\n",
       "    </tr>\n",
       "    <tr>\n",
       "      <th>2380</th>\n",
       "      <td>Bacteria \"Thermodesulfobacteria\" Thermodesulfo...</td>\n",
       "      <td>1</td>\n",
       "      <td>MID9</td>\n",
       "      <td>Control 2</td>\n",
       "      <td>stool</td>\n",
       "    </tr>\n",
       "    <tr>\n",
       "      <th>2381</th>\n",
       "      <td>Bacteria \"Thermodesulfobacteria\" Thermodesulfo...</td>\n",
       "      <td>1</td>\n",
       "      <td>MID9</td>\n",
       "      <td>Control 2</td>\n",
       "      <td>stool</td>\n",
       "    </tr>\n",
       "    <tr>\n",
       "      <th>2382</th>\n",
       "      <td>Bacteria \"Thermotogae\" Thermotogae Thermotogal...</td>\n",
       "      <td>43</td>\n",
       "      <td>MID9</td>\n",
       "      <td>Control 2</td>\n",
       "      <td>stool</td>\n",
       "    </tr>\n",
       "    <tr>\n",
       "      <th>2383</th>\n",
       "      <td>Bacteria \"Thermotogae\" Thermotogae Thermotogal...</td>\n",
       "      <td>16</td>\n",
       "      <td>MID9</td>\n",
       "      <td>Control 2</td>\n",
       "      <td>stool</td>\n",
       "    </tr>\n",
       "    <tr>\n",
       "      <th>2384</th>\n",
       "      <td>Bacteria \"Verrucomicrobia\" Opitutae Opitutales...</td>\n",
       "      <td>1</td>\n",
       "      <td>MID9</td>\n",
       "      <td>Control 2</td>\n",
       "      <td>stool</td>\n",
       "    </tr>\n",
       "    <tr>\n",
       "      <th>2385</th>\n",
       "      <td>Bacteria Cyanobacteria Cyanobacteria  Chloropl...</td>\n",
       "      <td>1</td>\n",
       "      <td>MID9</td>\n",
       "      <td>Control 2</td>\n",
       "      <td>stool</td>\n",
       "    </tr>\n",
       "    <tr>\n",
       "      <th>2386</th>\n",
       "      <td>Bacteria Cyanobacteria Cyanobacteria  Chloropl...</td>\n",
       "      <td>10</td>\n",
       "      <td>MID9</td>\n",
       "      <td>Control 2</td>\n",
       "      <td>stool</td>\n",
       "    </tr>\n",
       "  </tbody>\n",
       "</table>\n",
       "<p>2387 rows × 5 columns</p>\n",
       "</div>"
      ],
      "text/plain": [
       "                                                  TAXON  COUNT BARCODE  \\\n",
       "0     Archaea \"Crenarchaeota\" Thermoprotei Desulfuro...      2    MID1   \n",
       "1     Archaea \"Crenarchaeota\" Thermoprotei Sulfoloba...      3    MID1   \n",
       "2     Archaea \"Crenarchaeota\" Thermoprotei Thermopro...      3    MID1   \n",
       "3     Archaea \"Euryarchaeota\" \"Methanomicrobia\" Meth...      7    MID1   \n",
       "4     Archaea \"Euryarchaeota\" \"Methanomicrobia\" Meth...      1    MID1   \n",
       "5     Archaea \"Euryarchaeota\" \"Methanomicrobia\" Meth...      1    MID1   \n",
       "6     Archaea \"Euryarchaeota\" Archaeoglobi Archaeogl...      1    MID1   \n",
       "7     Archaea \"Euryarchaeota\" Archaeoglobi Archaeogl...      1    MID1   \n",
       "8     Archaea \"Euryarchaeota\" Halobacteria Halobacte...      1    MID1   \n",
       "9     Archaea \"Euryarchaeota\" Halobacteria Halobacte...      4    MID1   \n",
       "10    Archaea \"Euryarchaeota\" Halobacteria Halobacte...      1    MID1   \n",
       "11    Archaea \"Euryarchaeota\" Halobacteria Halobacte...      2    MID1   \n",
       "12    Archaea \"Euryarchaeota\" Halobacteria Halobacte...      4    MID1   \n",
       "13    Archaea \"Euryarchaeota\" Methanococci Methanoco...      1    MID1   \n",
       "14    Archaea \"Euryarchaeota\" Methanopyri Methanopyr...     12    MID1   \n",
       "15    Archaea \"Euryarchaeota\" Thermoplasmata Thermop...      2    MID1   \n",
       "16    Bacteria \"Actinobacteria\" Actinobacteria Actin...      2    MID1   \n",
       "17    Bacteria \"Actinobacteria\" Actinobacteria Actin...      1    MID1   \n",
       "18    Bacteria \"Actinobacteria\" Actinobacteria Actin...      1    MID1   \n",
       "19    Bacteria \"Actinobacteria\" Actinobacteria Actin...      1    MID1   \n",
       "20    Bacteria \"Actinobacteria\" Actinobacteria Actin...      2    MID1   \n",
       "21    Bacteria \"Actinobacteria\" Actinobacteria Actin...     53    MID1   \n",
       "22    Bacteria \"Actinobacteria\" Actinobacteria Actin...      1    MID1   \n",
       "23    Bacteria \"Actinobacteria\" Actinobacteria Actin...      2    MID1   \n",
       "24    Bacteria \"Actinobacteria\" Actinobacteria Actin...      3    MID1   \n",
       "25    Bacteria \"Actinobacteria\" Actinobacteria Actin...      1    MID1   \n",
       "26    Bacteria \"Actinobacteria\" Actinobacteria Actin...     99    MID1   \n",
       "27    Bacteria \"Actinobacteria\" Actinobacteria Actin...     17    MID1   \n",
       "28    Bacteria \"Actinobacteria\" Actinobacteria Actin...      2    MID1   \n",
       "29    Bacteria \"Actinobacteria\" Actinobacteria Actin...      2    MID1   \n",
       "...                                                 ...    ...     ...   \n",
       "2357  Bacteria \"Proteobacteria\" Gammaproteobacteria ...     10    MID9   \n",
       "2358  Bacteria \"Proteobacteria\" Gammaproteobacteria ...      1    MID9   \n",
       "2359  Bacteria \"Proteobacteria\" Gammaproteobacteria ...      1    MID9   \n",
       "2360  Bacteria \"Proteobacteria\" Gammaproteobacteria ...      1    MID9   \n",
       "2361  Bacteria \"Proteobacteria\" Gammaproteobacteria ...     12    MID9   \n",
       "2362  Bacteria \"Proteobacteria\" Gammaproteobacteria ...      4    MID9   \n",
       "2363  Bacteria \"Proteobacteria\" Gammaproteobacteria ...    805    MID9   \n",
       "2364  Bacteria \"Proteobacteria\" Gammaproteobacteria ...    862    MID9   \n",
       "2365  Bacteria \"Proteobacteria\" Gammaproteobacteria ...     12    MID9   \n",
       "2366  Bacteria \"Proteobacteria\" Gammaproteobacteria ...   3534    MID9   \n",
       "2367  Bacteria \"Proteobacteria\" Gammaproteobacteria ...      4    MID9   \n",
       "2368  Bacteria \"Proteobacteria\" Gammaproteobacteria ...      1    MID9   \n",
       "2369  Bacteria \"Proteobacteria\" Gammaproteobacteria ...     25    MID9   \n",
       "2370  Bacteria \"Proteobacteria\" Gammaproteobacteria ...      2    MID9   \n",
       "2371  Bacteria \"Proteobacteria\" Gammaproteobacteria ...      3    MID9   \n",
       "2372  Bacteria \"Proteobacteria\" Gammaproteobacteria ...      2    MID9   \n",
       "2373  Bacteria \"Proteobacteria\" Gammaproteobacteria ...      1    MID9   \n",
       "2374  Bacteria \"Proteobacteria\" Gammaproteobacteria ...      3    MID9   \n",
       "2375  Bacteria \"Proteobacteria\" Gammaproteobacteria ...      2    MID9   \n",
       "2376  Bacteria \"Proteobacteria\" Gammaproteobacteria ...      1    MID9   \n",
       "2377  Bacteria \"Synergistetes\" Synergistia Synergist...      3    MID9   \n",
       "2378  Bacteria \"Tenericutes\" Mollicutes Anaeroplasma...      1    MID9   \n",
       "2379  Bacteria \"Tenericutes\" Mollicutes Haloplasmata...     11    MID9   \n",
       "2380  Bacteria \"Thermodesulfobacteria\" Thermodesulfo...      1    MID9   \n",
       "2381  Bacteria \"Thermodesulfobacteria\" Thermodesulfo...      1    MID9   \n",
       "2382  Bacteria \"Thermotogae\" Thermotogae Thermotogal...     43    MID9   \n",
       "2383  Bacteria \"Thermotogae\" Thermotogae Thermotogal...     16    MID9   \n",
       "2384  Bacteria \"Verrucomicrobia\" Opitutae Opitutales...      1    MID9   \n",
       "2385  Bacteria Cyanobacteria Cyanobacteria  Chloropl...      1    MID9   \n",
       "2386  Bacteria Cyanobacteria Cyanobacteria  Chloropl...     10    MID9   \n",
       "\n",
       "                   GROUP   SAMPLE  \n",
       "0     EXTRACTION CONTROL  unknown  \n",
       "1     EXTRACTION CONTROL  unknown  \n",
       "2     EXTRACTION CONTROL  unknown  \n",
       "3     EXTRACTION CONTROL  unknown  \n",
       "4     EXTRACTION CONTROL  unknown  \n",
       "5     EXTRACTION CONTROL  unknown  \n",
       "6     EXTRACTION CONTROL  unknown  \n",
       "7     EXTRACTION CONTROL  unknown  \n",
       "8     EXTRACTION CONTROL  unknown  \n",
       "9     EXTRACTION CONTROL  unknown  \n",
       "10    EXTRACTION CONTROL  unknown  \n",
       "11    EXTRACTION CONTROL  unknown  \n",
       "12    EXTRACTION CONTROL  unknown  \n",
       "13    EXTRACTION CONTROL  unknown  \n",
       "14    EXTRACTION CONTROL  unknown  \n",
       "15    EXTRACTION CONTROL  unknown  \n",
       "16    EXTRACTION CONTROL  unknown  \n",
       "17    EXTRACTION CONTROL  unknown  \n",
       "18    EXTRACTION CONTROL  unknown  \n",
       "19    EXTRACTION CONTROL  unknown  \n",
       "20    EXTRACTION CONTROL  unknown  \n",
       "21    EXTRACTION CONTROL  unknown  \n",
       "22    EXTRACTION CONTROL  unknown  \n",
       "23    EXTRACTION CONTROL  unknown  \n",
       "24    EXTRACTION CONTROL  unknown  \n",
       "25    EXTRACTION CONTROL  unknown  \n",
       "26    EXTRACTION CONTROL  unknown  \n",
       "27    EXTRACTION CONTROL  unknown  \n",
       "28    EXTRACTION CONTROL  unknown  \n",
       "29    EXTRACTION CONTROL  unknown  \n",
       "...                  ...      ...  \n",
       "2357           Control 2    stool  \n",
       "2358           Control 2    stool  \n",
       "2359           Control 2    stool  \n",
       "2360           Control 2    stool  \n",
       "2361           Control 2    stool  \n",
       "2362           Control 2    stool  \n",
       "2363           Control 2    stool  \n",
       "2364           Control 2    stool  \n",
       "2365           Control 2    stool  \n",
       "2366           Control 2    stool  \n",
       "2367           Control 2    stool  \n",
       "2368           Control 2    stool  \n",
       "2369           Control 2    stool  \n",
       "2370           Control 2    stool  \n",
       "2371           Control 2    stool  \n",
       "2372           Control 2    stool  \n",
       "2373           Control 2    stool  \n",
       "2374           Control 2    stool  \n",
       "2375           Control 2    stool  \n",
       "2376           Control 2    stool  \n",
       "2377           Control 2    stool  \n",
       "2378           Control 2    stool  \n",
       "2379           Control 2    stool  \n",
       "2380           Control 2    stool  \n",
       "2381           Control 2    stool  \n",
       "2382           Control 2    stool  \n",
       "2383           Control 2    stool  \n",
       "2384           Control 2    stool  \n",
       "2385           Control 2    stool  \n",
       "2386           Control 2    stool  \n",
       "\n",
       "[2387 rows x 5 columns]"
      ]
     },
     "execution_count": 326,
     "metadata": {},
     "output_type": "execute_result"
    }
   ],
   "source": [
    "result"
   ]
  },
  {
   "cell_type": "markdown",
   "metadata": {},
   "source": [
    "## Task 3. Class War in Titanic\n",
    "\n",
    "Use pandas to import the data file `Data/titanic.xls`. It contains data on all the passengers that travelled on the Titanic."
   ]
  },
  {
   "cell_type": "code",
   "execution_count": null,
   "metadata": {
    "collapsed": true
   },
   "outputs": [],
   "source": [
    "from IPython.core.display import HTML\n",
    "HTML(filename=DATA_FOLDER+'/titanic.html')"
   ]
  },
  {
   "cell_type": "markdown",
   "metadata": {},
   "source": [
    "For each of the following questions state clearly your assumptions and discuss your findings:\n",
    "1. Describe the *type* and the *value range* of each attribute. Indicate and transform the attributes that can be `Categorical`. \n",
    "2. Plot histograms for the *travel class*, *embarkation port*, *sex* and *age* attributes. For the latter one, use *discrete decade intervals*. \n",
    "3. Calculate the proportion of passengers by *cabin floor*. Present your results in a *pie chart*.\n",
    "4. For each *travel class*, calculate the proportion of the passengers that survived. Present your results in *pie charts*.\n",
    "5. Calculate the proportion of the passengers that survived by *travel class* and *sex*. Present your results in *a single histogram*.\n",
    "6. Create 2 equally populated *age categories* and calculate survival proportions by *age category*, *travel class* and *sex*. Present your results in a `DataFrame` with unique index."
   ]
  },
  {
   "cell_type": "code",
   "execution_count": 268,
   "metadata": {
    "collapsed": true
   },
   "outputs": [],
   "source": [
    "# Write your answer here"
   ]
  },
  {
   "cell_type": "markdown",
   "metadata": {},
   "source": [
    "### Import of the xls file"
   ]
  },
  {
   "cell_type": "code",
   "execution_count": 269,
   "metadata": {
    "collapsed": true
   },
   "outputs": [],
   "source": [
    "titanic = pd.read_excel('Data/titanic.xls')"
   ]
  },
  {
   "cell_type": "markdown",
   "metadata": {},
   "source": [
    "### 1. Type and value range of each attribute "
   ]
  },
  {
   "cell_type": "markdown",
   "metadata": {},
   "source": [
    "#### Types of the variable:\n",
    "pdclass = Categorical\n",
    "survived = Categorical\n",
    "Name = string\n",
    "Sex: string but can be categorical: 0 = men, 1 = women \n",
    "Age = int\n",
    "sibsp = Categorical\n",
    "Parch = Categorical\n",
    "Fare = double\n",
    "body = int"
   ]
  },
  {
   "cell_type": "code",
   "execution_count": 286,
   "metadata": {},
   "outputs": [
    {
     "data": {
      "text/html": [
       "<div>\n",
       "<style>\n",
       "    .dataframe thead tr:only-child th {\n",
       "        text-align: right;\n",
       "    }\n",
       "\n",
       "    .dataframe thead th {\n",
       "        text-align: left;\n",
       "    }\n",
       "\n",
       "    .dataframe tbody tr th {\n",
       "        vertical-align: top;\n",
       "    }\n",
       "</style>\n",
       "<table border=\"1\" class=\"dataframe\">\n",
       "  <thead>\n",
       "    <tr style=\"text-align: right;\">\n",
       "      <th></th>\n",
       "      <th>Column</th>\n",
       "      <th>max</th>\n",
       "      <th>min</th>\n",
       "    </tr>\n",
       "  </thead>\n",
       "  <tbody>\n",
       "    <tr>\n",
       "      <th>0</th>\n",
       "      <td>pclass</td>\n",
       "      <td>3</td>\n",
       "      <td>1</td>\n",
       "    </tr>\n",
       "    <tr>\n",
       "      <th>1</th>\n",
       "      <td>survived</td>\n",
       "      <td>1</td>\n",
       "      <td>0</td>\n",
       "    </tr>\n",
       "    <tr>\n",
       "      <th>2</th>\n",
       "      <td>name</td>\n",
       "      <td>van Melkebeke, Mr. Philemon</td>\n",
       "      <td>Abbing, Mr. Anthony</td>\n",
       "    </tr>\n",
       "    <tr>\n",
       "      <th>3</th>\n",
       "      <td>sex</td>\n",
       "      <td>1</td>\n",
       "      <td>0</td>\n",
       "    </tr>\n",
       "    <tr>\n",
       "      <th>4</th>\n",
       "      <td>age</td>\n",
       "      <td>80</td>\n",
       "      <td>0.1667</td>\n",
       "    </tr>\n",
       "    <tr>\n",
       "      <th>5</th>\n",
       "      <td>sibsp</td>\n",
       "      <td>8</td>\n",
       "      <td>0</td>\n",
       "    </tr>\n",
       "    <tr>\n",
       "      <th>6</th>\n",
       "      <td>parch</td>\n",
       "      <td>9</td>\n",
       "      <td>0</td>\n",
       "    </tr>\n",
       "    <tr>\n",
       "      <th>7</th>\n",
       "      <td>fare</td>\n",
       "      <td>512.329</td>\n",
       "      <td>0</td>\n",
       "    </tr>\n",
       "    <tr>\n",
       "      <th>8</th>\n",
       "      <td>body</td>\n",
       "      <td>328</td>\n",
       "      <td>1</td>\n",
       "    </tr>\n",
       "  </tbody>\n",
       "</table>\n",
       "</div>"
      ],
      "text/plain": [
       "     Column                          max                  min\n",
       "0    pclass                            3                    1\n",
       "1  survived                            1                    0\n",
       "2      name  van Melkebeke, Mr. Philemon  Abbing, Mr. Anthony\n",
       "3       sex                            1                    0\n",
       "4       age                           80               0.1667\n",
       "5     sibsp                            8                    0\n",
       "6     parch                            9                    0\n",
       "7      fare                      512.329                    0\n",
       "8      body                          328                    1"
      ]
     },
     "execution_count": 286,
     "metadata": {},
     "output_type": "execute_result"
    }
   ],
   "source": [
    "max_values = titanic.max()\n",
    "min_values = titanic.min()\n",
    "\n",
    "max_values = pd.DataFrame({'Column':max_values.index, 'max':max_values.values})\n",
    "min_values = pd.DataFrame({'Column':min_values.index, 'min':min_values.values})\n",
    "\n",
    "value_range = max_values.merge(min_values)\n",
    "value_range"
   ]
  },
  {
   "cell_type": "markdown",
   "metadata": {},
   "source": [
    "#### Change sex to a categorical variable"
   ]
  },
  {
   "cell_type": "code",
   "execution_count": 271,
   "metadata": {},
   "outputs": [],
   "source": [
    "#Surement à modifier car dans l'autre sens ça ne marche pas. Il ne fait pas un match exact mais un containing. \n",
    "# peut-être regarder avec le paramètre regex\n",
    "titanic['sex'].replace('female', 1,  inplace=True);\n",
    "titanic['sex'].replace('male', 0, inplace=True);\n"
   ]
  },
  {
   "cell_type": "markdown",
   "metadata": {},
   "source": [
    "### 2. Histograms for the *travel class*, *embarkation port*, *sex* and *age* attributes. "
   ]
  },
  {
   "cell_type": "markdown",
   "metadata": {},
   "source": [
    "#### Travel Class"
   ]
  },
  {
   "cell_type": "code",
   "execution_count": 281,
   "metadata": {},
   "outputs": [],
   "source": [
    "class_dist = Counter(titanic['pclass'])\n",
    "sex_dist = Counter(titanic['sex'])\n",
    "port_dist = Counter(titanic['embarked'])"
   ]
  },
  {
   "cell_type": "code",
   "execution_count": 283,
   "metadata": {},
   "outputs": [
    {
     "data": {
      "text/plain": [
       "Counter({1: 323, 2: 277, 3: 709})"
      ]
     },
     "execution_count": 283,
     "metadata": {},
     "output_type": "execute_result"
    }
   ],
   "source": [
    "class_dist"
   ]
  },
  {
   "cell_type": "code",
   "execution_count": 284,
   "metadata": {},
   "outputs": [
    {
     "data": {
      "text/plain": [
       "Counter({0: 843, 1: 466})"
      ]
     },
     "execution_count": 284,
     "metadata": {},
     "output_type": "execute_result"
    }
   ],
   "source": [
    "sex_dist"
   ]
  },
  {
   "cell_type": "code",
   "execution_count": 285,
   "metadata": {},
   "outputs": [
    {
     "data": {
      "text/plain": [
       "Counter({'S': 914, 'C': 270, nan: 2, 'Q': 123})"
      ]
     },
     "execution_count": 285,
     "metadata": {},
     "output_type": "execute_result"
    }
   ],
   "source": [
    "port_dist"
   ]
  },
  {
   "cell_type": "markdown",
   "metadata": {},
   "source": [
    "### 3. Proportion of passengers by cabin floor"
   ]
  },
  {
   "cell_type": "code",
   "execution_count": null,
   "metadata": {
    "collapsed": true
   },
   "outputs": [],
   "source": []
  },
  {
   "cell_type": "markdown",
   "metadata": {},
   "source": [
    "### 4. Proportion of passengers that survived for travelled class"
   ]
  },
  {
   "cell_type": "code",
   "execution_count": null,
   "metadata": {
    "collapsed": true
   },
   "outputs": [],
   "source": []
  },
  {
   "cell_type": "markdown",
   "metadata": {},
   "source": [
    "### 5. Proportion of the passengers that survived by travel class and sex"
   ]
  },
  {
   "cell_type": "code",
   "execution_count": null,
   "metadata": {
    "collapsed": true
   },
   "outputs": [],
   "source": []
  },
  {
   "cell_type": "code",
   "execution_count": null,
   "metadata": {
    "collapsed": true
   },
   "outputs": [],
   "source": []
  }
 ],
 "metadata": {
  "kernelspec": {
   "display_name": "Python 3",
   "language": "python",
   "name": "python3"
  },
  "language_info": {
   "codemirror_mode": {
    "name": "ipython",
    "version": 3
   },
   "file_extension": ".py",
   "mimetype": "text/x-python",
   "name": "python",
   "nbconvert_exporter": "python",
   "pygments_lexer": "ipython3",
   "version": "3.6.2"
  }
 },
 "nbformat": 4,
 "nbformat_minor": 2
}
